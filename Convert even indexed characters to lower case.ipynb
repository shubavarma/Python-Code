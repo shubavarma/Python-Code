{
 "cells": [
  {
   "cell_type": "code",
   "execution_count": 11,
   "id": "b405a098",
   "metadata": {},
   "outputs": [
    {
     "name": "stdout",
     "output_type": "stream",
     "text": [
      "Type the string to be converted with even indexed characters to lower case: PYTHON\n",
      "PyThOn\n"
     ]
    }
   ],
   "source": [
    "# write a python program to convert only even indexed characters to lower case of a dynamic input string\n",
    "\n",
    "x=input(\"Type the string to be converted with even indexed characters to lower case: \")\n",
    "string=\"\"\n",
    "for y in range(len(x)):\n",
    "    if y%2==0:\n",
    "        string=string+x[y].upper()\n",
    "    elif y%2!=0:\n",
    "        string=string+x[y].lower()\n",
    "print(string) "
   ]
  },
  {
   "cell_type": "code",
   "execution_count": null,
   "id": "7d172c65",
   "metadata": {},
   "outputs": [],
   "source": []
  }
 ],
 "metadata": {
  "kernelspec": {
   "display_name": "Python 3 (ipykernel)",
   "language": "python",
   "name": "python3"
  },
  "language_info": {
   "codemirror_mode": {
    "name": "ipython",
    "version": 3
   },
   "file_extension": ".py",
   "mimetype": "text/x-python",
   "name": "python",
   "nbconvert_exporter": "python",
   "pygments_lexer": "ipython3",
   "version": "3.9.13"
  }
 },
 "nbformat": 4,
 "nbformat_minor": 5
}
