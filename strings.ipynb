{
 "cells": [
  {
   "cell_type": "code",
   "execution_count": 1,
   "id": "e2fdcfea",
   "metadata": {},
   "outputs": [],
   "source": [
    "var1=\"abdc@123\""
   ]
  },
  {
   "cell_type": "code",
   "execution_count": 2,
   "id": "b3086889",
   "metadata": {},
   "outputs": [
    {
     "data": {
      "text/plain": [
       "str"
      ]
     },
     "execution_count": 2,
     "metadata": {},
     "output_type": "execute_result"
    }
   ],
   "source": [
    "type(var1)"
   ]
  },
  {
   "cell_type": "code",
   "execution_count": 3,
   "id": "14f8fd4b",
   "metadata": {},
   "outputs": [
    {
     "data": {
      "text/plain": [
       "'a'"
      ]
     },
     "execution_count": 3,
     "metadata": {},
     "output_type": "execute_result"
    }
   ],
   "source": [
    "var1[0]"
   ]
  },
  {
   "cell_type": "code",
   "execution_count": 4,
   "id": "651b45be",
   "metadata": {},
   "outputs": [
    {
     "data": {
      "text/plain": [
       "'@'"
      ]
     },
     "execution_count": 4,
     "metadata": {},
     "output_type": "execute_result"
    }
   ],
   "source": [
    "var1[-4]"
   ]
  },
  {
   "cell_type": "code",
   "execution_count": 5,
   "id": "0f4b0e72",
   "metadata": {},
   "outputs": [
    {
     "data": {
      "text/plain": [
       "'@'"
      ]
     },
     "execution_count": 5,
     "metadata": {},
     "output_type": "execute_result"
    }
   ],
   "source": [
    "var1[4]"
   ]
  },
  {
   "cell_type": "code",
   "execution_count": 9,
   "id": "73df2338",
   "metadata": {},
   "outputs": [],
   "source": [
    "var2=\"abcde12@\""
   ]
  },
  {
   "cell_type": "code",
   "execution_count": 10,
   "id": "b74183df",
   "metadata": {},
   "outputs": [
    {
     "data": {
      "text/plain": [
       "'de12@'"
      ]
     },
     "execution_count": 10,
     "metadata": {},
     "output_type": "execute_result"
    }
   ],
   "source": [
    "var2[3:]"
   ]
  },
  {
   "cell_type": "code",
   "execution_count": 11,
   "id": "956868f0",
   "metadata": {},
   "outputs": [
    {
     "data": {
      "text/plain": [
       "'de12'"
      ]
     },
     "execution_count": 11,
     "metadata": {},
     "output_type": "execute_result"
    }
   ],
   "source": [
    "var2[-5:-1]"
   ]
  },
  {
   "cell_type": "code",
   "execution_count": 12,
   "id": "a1de1905",
   "metadata": {},
   "outputs": [
    {
     "data": {
      "text/plain": [
       "'12@'"
      ]
     },
     "execution_count": 12,
     "metadata": {},
     "output_type": "execute_result"
    }
   ],
   "source": [
    "var2[5:]"
   ]
  },
  {
   "cell_type": "code",
   "execution_count": 14,
   "id": "cd01cfe5",
   "metadata": {},
   "outputs": [
    {
     "data": {
      "text/plain": [
       "'de12@'"
      ]
     },
     "execution_count": 14,
     "metadata": {},
     "output_type": "execute_result"
    }
   ],
   "source": [
    "var2[-5:]"
   ]
  },
  {
   "cell_type": "code",
   "execution_count": 15,
   "id": "93f46c23",
   "metadata": {},
   "outputs": [],
   "source": [
    "var3=\"1224jdbasfbui$^^^&\""
   ]
  },
  {
   "cell_type": "code",
   "execution_count": 16,
   "id": "ce011b1d",
   "metadata": {},
   "outputs": [
    {
     "data": {
      "text/plain": [
       "'12@'"
      ]
     },
     "execution_count": 16,
     "metadata": {},
     "output_type": "execute_result"
    }
   ],
   "source": [
    "var2[5:8]"
   ]
  },
  {
   "cell_type": "code",
   "execution_count": 17,
   "id": "12f8ce54",
   "metadata": {},
   "outputs": [
    {
     "data": {
      "text/plain": [
       "'dba'"
      ]
     },
     "execution_count": 17,
     "metadata": {},
     "output_type": "execute_result"
    }
   ],
   "source": [
    "var3[5:8]"
   ]
  },
  {
   "cell_type": "code",
   "execution_count": 18,
   "id": "e4387d08",
   "metadata": {},
   "outputs": [
    {
     "data": {
      "text/plain": [
       "18"
      ]
     },
     "execution_count": 18,
     "metadata": {},
     "output_type": "execute_result"
    }
   ],
   "source": [
    "len(var3)"
   ]
  },
  {
   "cell_type": "code",
   "execution_count": 19,
   "id": "fa5c14ee",
   "metadata": {},
   "outputs": [],
   "source": [
    "var5=\"\""
   ]
  },
  {
   "cell_type": "code",
   "execution_count": 20,
   "id": "984d452a",
   "metadata": {},
   "outputs": [
    {
     "data": {
      "text/plain": [
       "0"
      ]
     },
     "execution_count": 20,
     "metadata": {},
     "output_type": "execute_result"
    }
   ],
   "source": [
    "len(var5)"
   ]
  },
  {
   "cell_type": "code",
   "execution_count": 21,
   "id": "bb4c88d8",
   "metadata": {},
   "outputs": [],
   "source": [
    "var6=\" \""
   ]
  },
  {
   "cell_type": "code",
   "execution_count": 22,
   "id": "4354de4e",
   "metadata": {},
   "outputs": [
    {
     "data": {
      "text/plain": [
       "1"
      ]
     },
     "execution_count": 22,
     "metadata": {},
     "output_type": "execute_result"
    }
   ],
   "source": [
    "len(var6)"
   ]
  },
  {
   "cell_type": "code",
   "execution_count": 23,
   "id": "2ea2af0f",
   "metadata": {},
   "outputs": [],
   "source": [
    "var7=\"ABCdef\""
   ]
  },
  {
   "cell_type": "code",
   "execution_count": 24,
   "id": "f9bf1f8d",
   "metadata": {},
   "outputs": [
    {
     "data": {
      "text/plain": [
       "'abcdef'"
      ]
     },
     "execution_count": 24,
     "metadata": {},
     "output_type": "execute_result"
    }
   ],
   "source": [
    "var7.lower()"
   ]
  },
  {
   "cell_type": "code",
   "execution_count": 25,
   "id": "5dc94861",
   "metadata": {},
   "outputs": [
    {
     "data": {
      "text/plain": [
       "'ABCdef'"
      ]
     },
     "execution_count": 25,
     "metadata": {},
     "output_type": "execute_result"
    }
   ],
   "source": [
    "var7"
   ]
  },
  {
   "cell_type": "code",
   "execution_count": 26,
   "id": "e87fe1c6",
   "metadata": {},
   "outputs": [
    {
     "data": {
      "text/plain": [
       "'ABCDEF'"
      ]
     },
     "execution_count": 26,
     "metadata": {},
     "output_type": "execute_result"
    }
   ],
   "source": [
    "var7.upper()"
   ]
  },
  {
   "cell_type": "code",
   "execution_count": 27,
   "id": "9235115e",
   "metadata": {},
   "outputs": [
    {
     "data": {
      "text/plain": [
       "'ABCdef'"
      ]
     },
     "execution_count": 27,
     "metadata": {},
     "output_type": "execute_result"
    }
   ],
   "source": [
    "var7"
   ]
  },
  {
   "cell_type": "code",
   "execution_count": 28,
   "id": "e0037cab",
   "metadata": {},
   "outputs": [],
   "source": [
    "var10=\"AbCDef\""
   ]
  },
  {
   "cell_type": "code",
   "execution_count": 29,
   "id": "db8f2dad",
   "metadata": {},
   "outputs": [
    {
     "data": {
      "text/plain": [
       "'aBcdEF'"
      ]
     },
     "execution_count": 29,
     "metadata": {},
     "output_type": "execute_result"
    }
   ],
   "source": [
    "var10.swapcase()"
   ]
  },
  {
   "cell_type": "code",
   "execution_count": 30,
   "id": "4396ca63",
   "metadata": {},
   "outputs": [],
   "source": [
    "var11=\"python java oracle\""
   ]
  },
  {
   "cell_type": "code",
   "execution_count": 31,
   "id": "c9cc0157",
   "metadata": {},
   "outputs": [
    {
     "data": {
      "text/plain": [
       "'PYTHON JAVA ORACLE'"
      ]
     },
     "execution_count": 31,
     "metadata": {},
     "output_type": "execute_result"
    }
   ],
   "source": [
    "var11.upper()"
   ]
  },
  {
   "cell_type": "code",
   "execution_count": 32,
   "id": "e9bdbd27",
   "metadata": {},
   "outputs": [
    {
     "data": {
      "text/plain": [
       "'Python java oracle'"
      ]
     },
     "execution_count": 32,
     "metadata": {},
     "output_type": "execute_result"
    }
   ],
   "source": [
    "var11.capitalize()"
   ]
  },
  {
   "cell_type": "code",
   "execution_count": 33,
   "id": "37858822",
   "metadata": {},
   "outputs": [
    {
     "data": {
      "text/plain": [
       "'Python Java Oracle'"
      ]
     },
     "execution_count": 33,
     "metadata": {},
     "output_type": "execute_result"
    }
   ],
   "source": [
    "var11.title()"
   ]
  },
  {
   "cell_type": "code",
   "execution_count": 34,
   "id": "29a53245",
   "metadata": {},
   "outputs": [],
   "source": [
    "var12=\"12python 23java 45oracle\""
   ]
  },
  {
   "cell_type": "code",
   "execution_count": 35,
   "id": "90c398d2",
   "metadata": {},
   "outputs": [
    {
     "data": {
      "text/plain": [
       "'12Python 23Java 45Oracle'"
      ]
     },
     "execution_count": 35,
     "metadata": {},
     "output_type": "execute_result"
    }
   ],
   "source": [
    "var12.title()"
   ]
  },
  {
   "cell_type": "code",
   "execution_count": 36,
   "id": "02dd1a1f",
   "metadata": {},
   "outputs": [
    {
     "data": {
      "text/plain": [
       "'12python 23java 45oracle'"
      ]
     },
     "execution_count": 36,
     "metadata": {},
     "output_type": "execute_result"
    }
   ],
   "source": [
    "var12.capitalize()"
   ]
  },
  {
   "cell_type": "code",
   "execution_count": 38,
   "id": "548fc66f",
   "metadata": {},
   "outputs": [],
   "source": [
    "var13=\"py python python2 capy\""
   ]
  },
  {
   "cell_type": "code",
   "execution_count": 39,
   "id": "4dda0f29",
   "metadata": {},
   "outputs": [
    {
     "data": {
      "text/plain": [
       "4"
      ]
     },
     "execution_count": 39,
     "metadata": {},
     "output_type": "execute_result"
    }
   ],
   "source": [
    "var13.count(\"py\")"
   ]
  },
  {
   "cell_type": "code",
   "execution_count": 41,
   "id": "ca827bb2",
   "metadata": {},
   "outputs": [
    {
     "data": {
      "text/plain": [
       "1"
      ]
     },
     "execution_count": 41,
     "metadata": {},
     "output_type": "execute_result"
    }
   ],
   "source": [
    "var13.count(\"py\",3,7)"
   ]
  },
  {
   "cell_type": "code",
   "execution_count": 42,
   "id": "0e9dd8fb",
   "metadata": {},
   "outputs": [
    {
     "data": {
      "text/plain": [
       "3"
      ]
     },
     "execution_count": 42,
     "metadata": {},
     "output_type": "execute_result"
    }
   ],
   "source": [
    "var13.count(\"py\",0,13)"
   ]
  },
  {
   "cell_type": "code",
   "execution_count": null,
   "id": "ba027d3a",
   "metadata": {},
   "outputs": [],
   "source": []
  }
 ],
 "metadata": {
  "kernelspec": {
   "display_name": "Python 3 (ipykernel)",
   "language": "python",
   "name": "python3"
  },
  "language_info": {
   "codemirror_mode": {
    "name": "ipython",
    "version": 3
   },
   "file_extension": ".py",
   "mimetype": "text/x-python",
   "name": "python",
   "nbconvert_exporter": "python",
   "pygments_lexer": "ipython3",
   "version": "3.9.13"
  }
 },
 "nbformat": 4,
 "nbformat_minor": 5
}
