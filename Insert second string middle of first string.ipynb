{
 "cells": [
  {
   "cell_type": "code",
   "execution_count": 10,
   "id": "aaea13a5",
   "metadata": {},
   "outputs": [
    {
     "name": "stdout",
     "output_type": "stream",
     "text": [
      "Type your first string: myn\n",
      "Type your second string: sa\n"
     ]
    },
    {
     "data": {
      "text/plain": [
       "'msayn'"
      ]
     },
     "execution_count": 10,
     "metadata": {},
     "output_type": "execute_result"
    }
   ],
   "source": [
    "# Write a python program to insert a 2 string in the middle of 1 string\n",
    "str1=input(\"Type your first string: \")\n",
    "str2=input(\"Type your second string: \")\n",
    "\n",
    "str1[0:len(str1)//2]+str2+str1[len(str1)//2:]\n"
   ]
  },
  {
   "cell_type": "code",
   "execution_count": null,
   "id": "fdb7d5e8",
   "metadata": {},
   "outputs": [],
   "source": []
  }
 ],
 "metadata": {
  "kernelspec": {
   "display_name": "Python 3 (ipykernel)",
   "language": "python",
   "name": "python3"
  },
  "language_info": {
   "codemirror_mode": {
    "name": "ipython",
    "version": 3
   },
   "file_extension": ".py",
   "mimetype": "text/x-python",
   "name": "python",
   "nbconvert_exporter": "python",
   "pygments_lexer": "ipython3",
   "version": "3.9.13"
  }
 },
 "nbformat": 4,
 "nbformat_minor": 5
}
