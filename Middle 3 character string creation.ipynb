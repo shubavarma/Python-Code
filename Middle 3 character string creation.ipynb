{
 "cells": [
  {
   "cell_type": "code",
   "execution_count": 3,
   "id": "4a7ccfdc",
   "metadata": {},
   "outputs": [
    {
     "name": "stdout",
     "output_type": "stream",
     "text": [
      "Type your string here: subhadrahjh\n",
      "adr\n"
     ]
    }
   ],
   "source": [
    "# Given a string of odd length greater that 9, return a new string made of the middle three characters of a given String\n",
    "x=input(\"Type your string here: \")\n",
    "print(x[len(x)//2-1]+x[len(x)//2]+x[len(x)//2+1])"
   ]
  },
  {
   "cell_type": "code",
   "execution_count": null,
   "id": "6d15a2ad",
   "metadata": {},
   "outputs": [],
   "source": []
  }
 ],
 "metadata": {
  "kernelspec": {
   "display_name": "Python 3 (ipykernel)",
   "language": "python",
   "name": "python3"
  },
  "language_info": {
   "codemirror_mode": {
    "name": "ipython",
    "version": 3
   },
   "file_extension": ".py",
   "mimetype": "text/x-python",
   "name": "python",
   "nbconvert_exporter": "python",
   "pygments_lexer": "ipython3",
   "version": "3.9.13"
  }
 },
 "nbformat": 4,
 "nbformat_minor": 5
}
