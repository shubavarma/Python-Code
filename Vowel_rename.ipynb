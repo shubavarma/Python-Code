{
 "cells": [
  {
   "cell_type": "code",
   "execution_count": 1,
   "id": "79b72fa0",
   "metadata": {},
   "outputs": [
    {
     "name": "stdout",
     "output_type": "stream",
     "text": [
      "Type your string here to remove vowels: akjdfkekjsikjfdhokjdsfu\n",
      "kjdfkkjskjfdhkjdsf\n"
     ]
    }
   ],
   "source": [
    "# Write a program to remove vowels from the entire alphabets\n",
    "x=input(\"Type your string here to remove vowels: \")\n",
    "string=\"\"\n",
    "for y in x:\n",
    "    if y==\"a\"or y==\"e\" or y==\"i\" or y==\"o\" or y==\"u\":\n",
    "        continue\n",
    "    else: \n",
    "        string=string+y\n",
    "print(string)    \n"
   ]
  },
  {
   "cell_type": "code",
   "execution_count": null,
   "id": "21e6eae2",
   "metadata": {},
   "outputs": [],
   "source": []
  }
 ],
 "metadata": {
  "kernelspec": {
   "display_name": "Python 3 (ipykernel)",
   "language": "python",
   "name": "python3"
  },
  "language_info": {
   "codemirror_mode": {
    "name": "ipython",
    "version": 3
   },
   "file_extension": ".py",
   "mimetype": "text/x-python",
   "name": "python",
   "nbconvert_exporter": "python",
   "pygments_lexer": "ipython3",
   "version": "3.9.13"
  }
 },
 "nbformat": 4,
 "nbformat_minor": 5
}
