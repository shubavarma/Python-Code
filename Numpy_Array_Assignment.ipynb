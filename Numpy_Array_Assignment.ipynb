{
 "cells": [
  {
   "cell_type": "code",
   "execution_count": 1,
   "id": "2b47dc35",
   "metadata": {},
   "outputs": [],
   "source": [
    "# Write a program to create array without using Numpy module\n",
    "# function will have data,num of dimensions as parameters\n",
    "# function will return an array with data and dimension given"
   ]
  },
  {
   "cell_type": "code",
   "execution_count": 8,
   "id": "eda7af5a",
   "metadata": {},
   "outputs": [
    {
     "name": "stdout",
     "output_type": "stream",
     "text": [
      "Dimension of the array is: 3\n",
      "Enter number of rows: 3\n",
      "Enter number of columns: 3\n",
      "Enter row data: 1\n",
      "Enter row data: 2\n",
      "Enter row data: 3\n",
      "Enter row data: 4\n",
      "Enter row data: 5\n",
      "Enter row data: 6\n",
      "Enter row data: 7\n",
      "Enter row data: 8\n",
      "Enter row data: 9\n",
      "[[[1 2 3]\n",
      " [4 5 6]\n",
      " [7 8 9]]]\n"
     ]
    }
   ],
   "source": [
    "ndim=int(input(\"Dimension of the array is: \"))\n",
    "rows=int(input(\"Enter number of rows: \"))\n",
    "columns=int(input(\"Enter number of columns: \"))\n",
    "\n",
    "\n",
    "\n",
    "def print_array(a):\n",
    "    \"\"\" Take a nested list a and print it like a NumPy array. \"\"\"\n",
    "    for i, row in enumerate(a):\n",
    "        first_char=\"\"\n",
    "        last_char=\"\"\n",
    "        if i == 0:\n",
    "            x=0\n",
    "            while x<ndim-1:\n",
    "                first_char += '['\n",
    "                x+=1\n",
    "        else: \n",
    "            first_char = ' '\n",
    "        if i == len(a) - 1:\n",
    "            y=0\n",
    "            while y<ndim-1:\n",
    "                last_char += ']'\n",
    "                y+=1\n",
    "        else: \n",
    "            last_char += ''\n",
    "\n",
    "        print(first_char + '['+\n",
    "              ' '.join(str(i) for i in row) +']'+ last_char)\n",
    "        \n",
    "\n",
    "\n",
    "\n",
    "arr=[]\n",
    "\n",
    "for i in range(rows):\n",
    "    arr.append([])\n",
    "    for j in range(columns):\n",
    "        data=int(input(\"Enter row data: \"))\n",
    "        arr[i].append(data)\n",
    "            \n",
    "        \n",
    "print_array(arr)    \n",
    "\n"
   ]
  }
 ],
 "metadata": {
  "kernelspec": {
   "display_name": "Python 3 (ipykernel)",
   "language": "python",
   "name": "python3"
  },
  "language_info": {
   "codemirror_mode": {
    "name": "ipython",
    "version": 3
   },
   "file_extension": ".py",
   "mimetype": "text/x-python",
   "name": "python",
   "nbconvert_exporter": "python",
   "pygments_lexer": "ipython3",
   "version": "3.9.13"
  }
 },
 "nbformat": 4,
 "nbformat_minor": 5
}
