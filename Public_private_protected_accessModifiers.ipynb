{
 "cells": [
  {
   "cell_type": "code",
   "execution_count": 7,
   "id": "8f18373c",
   "metadata": {},
   "outputs": [
    {
     "name": "stdout",
     "output_type": "stream",
     "text": [
      "Name: Thor\n",
      "Power: God of Thunder\n",
      "Identity: Thor Odinson\n",
      "\n",
      "Name: Ironman\n",
      "Power: Suit of Armor\n",
      "Identity: Tony Stark\n",
      "Secret Identity: Genius, Billionaire, Playboy, Philanthropist\n"
     ]
    }
   ],
   "source": [
    "class Person:\n",
    "    def __init__(self, name, power, identity):\n",
    "        self._name = name\n",
    "        self._power = power\n",
    "        self.__identity = identity\n",
    "    \n",
    "    def display_name(self):\n",
    "        print(f\"Name: {self._name}\")\n",
    "    \n",
    "    def display_power(self):\n",
    "        print(f\"Power: {self._power}\")\n",
    "    \n",
    "    def __display_identity(self):\n",
    "        print(f\"Identity: {self.__identity}\")\n",
    "\n",
    "\n",
    "class Superhero(Person):\n",
    "    def __init__(self, name, power, identity, secret_identity):\n",
    "        super().__init__(name, power, identity)\n",
    "        self.__secret_identity = secret_identity\n",
    "    \n",
    "    def display_secret_identity(self):\n",
    "        print(f\"Secret Identity: {self.__secret_identity}\")\n",
    "\n",
    "\n",
    "# Create an instance of Person\n",
    "person = Person(\"Thor\", \"God of Thunder\", \"Thor Odinson\")\n",
    "person.display_name()\n",
    "person.display_power()\n",
    "person._Person__display_identity()  # Accessing private method using name mangling\n",
    "\n",
    "print()\n",
    "\n",
    "# Create instances of Superhero\n",
    "ironman = Superhero(\"Ironman\", \"Suit of Armor\", \"Tony Stark\", \"Genius, Billionaire, Playboy, Philanthropist\")\n",
    "ironman.display_name()\n",
    "ironman.display_power()\n",
    "ironman._Person__display_identity()\n",
    "ironman.display_secret_identity()"
   ]
  },
  {
   "cell_type": "code",
   "execution_count": 2,
   "id": "61be3f3f",
   "metadata": {},
   "outputs": [
    {
     "name": "stdout",
     "output_type": "stream",
     "text": [
      "Name: Clark Kent\n",
      "Power: Super Strength\n",
      "Identity: Reporter\n",
      "\n",
      "Name: Superman\n",
      "Power: Flight\n",
      "Identity: Kal-El\n",
      "Secret Identity: Clark Kent\n"
     ]
    }
   ],
   "source": [
    "# Public Access Modifier\n",
    "class Person:\n",
    "    def __init__(self, name, power, identity):\n",
    "        self.name = name  # Public attribute\n",
    "        self.power = power  # Public attribute\n",
    "        self.identity = identity  # Public attribute\n",
    "    \n",
    "    def display_name(self):\n",
    "        print(f\"Name: {self.name}\")\n",
    "    \n",
    "    def display_power(self):\n",
    "        print(f\"Power: {self.power}\")\n",
    "    \n",
    "    def display_identity(self):\n",
    "        print(f\"Identity: {self.identity}\")\n",
    "\n",
    "\n",
    "class Superhero(Person):\n",
    "    def __init__(self, name, power, identity, secret_identity):\n",
    "        super().__init__(name, power, identity)\n",
    "        self.secret_identity = secret_identity\n",
    "    \n",
    "    def display_secret_identity(self):\n",
    "        print(f\"Secret Identity: {self.secret_identity}\")\n",
    "\n",
    "\n",
    "# Create an instance of Person\n",
    "person = Person(\"Clark Kent\", \"Super Strength\", \"Reporter\")\n",
    "person.display_name()\n",
    "person.display_power()\n",
    "person.display_identity()\n",
    "\n",
    "print()\n",
    "\n",
    "# Create an instance of Superhero\n",
    "superman = Superhero(\"Superman\", \"Flight\", \"Kal-El\", \"Clark Kent\")\n",
    "superman.display_name()\n",
    "superman.display_power()\n",
    "superman.display_identity()\n",
    "superman.display_secret_identity()\n"
   ]
  },
  {
   "cell_type": "code",
   "execution_count": 11,
   "id": "c7e8a528",
   "metadata": {},
   "outputs": [
    {
     "name": "stdout",
     "output_type": "stream",
     "text": [
      "Name: Peter Parker\n",
      "Power: Spider Powers\n",
      "Identity: Student\n",
      "\n",
      "Name: Spiderman\n",
      "Power: Web-slinging\n",
      "Identity: Peter Parker\n",
      "Secret Identity: Friendly Neighborhood\n"
     ]
    }
   ],
   "source": [
    "# Private Access Modifier\n",
    "class Person:\n",
    "    def __init__(self, name, power, identity):\n",
    "        self._name = name  # Protected attribute\n",
    "        self._power = power  # Protected attribute\n",
    "        self.__identity = identity  # Private attribute\n",
    "    \n",
    "    def display_name(self):\n",
    "        print(f\"Name: {self._name}\")\n",
    "    \n",
    "    def display_power(self):\n",
    "        print(f\"Power: {self._power}\")\n",
    "    \n",
    "    def __display_identity(self):\n",
    "        print(f\"Identity: {self.__identity}\")\n",
    "\n",
    "\n",
    "class Superhero(Person):\n",
    "    def __init__(self, name, power, identity, secret_identity):\n",
    "        super().__init__(name, power, identity)\n",
    "        self.__secret_identity = secret_identity\n",
    "    \n",
    "    def display_secret_identity(self):\n",
    "        print(f\"Secret Identity: {self.__secret_identity}\")\n",
    "\n",
    "\n",
    "# Create an instance of Person\n",
    "person = Person(\"Peter Parker\", \"Spider Powers\", \"Student\")\n",
    "person.display_name()\n",
    "person.display_power()\n",
    "person._Person__display_identity()  # Accessing private method using name mangling\n",
    "\n",
    "print()\n",
    "\n",
    "# Create an instance of Superhero\n",
    "spiderman = Superhero(\"Spiderman\", \"Web-slinging\", \"Peter Parker\", \"Friendly Neighborhood\")\n",
    "spiderman.display_name()\n",
    "spiderman.display_power()\n",
    "spiderman._Person__display_identity()  # Accessing private attribute using name mangling\n",
    "spiderman.display_secret_identity()\n"
   ]
  },
  {
   "cell_type": "code",
   "execution_count": 13,
   "id": "8e9907ed",
   "metadata": {},
   "outputs": [
    {
     "name": "stdout",
     "output_type": "stream",
     "text": [
      "Name: Bruce Wayne\n",
      "Power: Detective Skills\n",
      "Identity: Billionaire\n",
      "\n",
      "Name: Batman\n",
      "Power: Gadgets\n",
      "Identity: Bruce Wayne\n",
      "Secret Identity: The Dark Knight\n"
     ]
    }
   ],
   "source": [
    "# Protected Access Modifier\n",
    "class Person:\n",
    "    def __init__(self, name, power, identity):\n",
    "        self._name = name  # Protected attribute\n",
    "        self._power = power  # Protected attribute\n",
    "        self.identity = identity  # Public attribute\n",
    "    \n",
    "    def display_name(self):\n",
    "        print(f\"Name: {self._name}\")\n",
    "    \n",
    "    def display_power(self):\n",
    "        print(f\"Power: {self._power}\")\n",
    "    \n",
    "    def display_identity(self):\n",
    "        print(f\"Identity: {self.identity}\")\n",
    "\n",
    "\n",
    "class Superhero(Person):\n",
    "    def __init__(self, name, power, identity, secret_identity):\n",
    "        super().__init__(name, power, identity)\n",
    "        self.__secret_identity = secret_identity\n",
    "    \n",
    "    def display_secret_identity(self):\n",
    "        print(f\"Secret Identity: {self.__secret_identity}\")\n",
    "\n",
    "\n",
    "# Create an instance of Person\n",
    "person = Person(\"Bruce Wayne\", \"Detective Skills\", \"Billionaire\")\n",
    "person.display_name()\n",
    "person.display_power()\n",
    "person.display_identity()\n",
    "\n",
    "print()\n",
    "\n",
    "# Create an instance of Superhero\n",
    "batman = Superhero(\"Batman\", \"Gadgets\", \"Bruce Wayne\", \"The Dark Knight\")\n",
    "batman.display_name()\n",
    "batman.display_power()\n",
    "batman.display_identity()\n",
    "batman.display_secret_identity()\n"
   ]
  },
  {
   "cell_type": "code",
   "execution_count": 8,
   "id": "2675f876",
   "metadata": {},
   "outputs": [
    {
     "name": "stdout",
     "output_type": "stream",
     "text": [
      "Name: Ironman\n",
      "Power: Suit of Armor\n",
      "Identity: Tony Stark\n",
      "\n",
      "Name: Ironman\n",
      "Power: Suit of Armor\n",
      "Identity: Tony Stark\n",
      "Secret Identity: Genius, Billionaire, Playboy, Philanthropist\n"
     ]
    }
   ],
   "source": [
    "# Public Access Modifier\n",
    "class Person:\n",
    "    def __init__(self, name, power, identity):\n",
    "        self.name = name  # Public attribute\n",
    "        self.power = power  # Public attribute\n",
    "        self.identity = identity  # Public attribute\n",
    "    \n",
    "    def display_name(self):\n",
    "        print(f\"Name: {self.name}\")\n",
    "    \n",
    "    def display_power(self):\n",
    "        print(f\"Power: {self.power}\")\n",
    "    \n",
    "    def display_identity(self):\n",
    "        print(f\"Identity: {self.identity}\")\n",
    "\n",
    "\n",
    "class Superhero(Person):\n",
    "    def __init__(self, name, power, identity, secret_identity):\n",
    "        super().__init__(name, power, identity)\n",
    "        self.secret_identity = secret_identity\n",
    "    \n",
    "    def display_secret_identity(self):\n",
    "        print(f\"Secret Identity: {self.secret_identity}\")\n",
    "\n",
    "\n",
    "# Create an instance of Person\n",
    "person = Person(\"Ironman\", \"Suit of Armor\", \"Tony Stark\")\n",
    "person.display_name()\n",
    "person.display_power()\n",
    "person.display_identity()\n",
    "\n",
    "print()\n",
    "\n",
    "# Create instances of Superhero\n",
    "ironman = Superhero(\"Ironman\", \"Suit of Armor\", \"Tony Stark\", \"Genius, Billionaire, Playboy, Philanthropist\")\n",
    "ironman.display_name()\n",
    "ironman.display_power()\n",
    "ironman.display_identity()\n",
    "ironman.display_secret_identity()"
   ]
  },
  {
   "cell_type": "code",
   "execution_count": 12,
   "id": "8a8009d5",
   "metadata": {},
   "outputs": [
    {
     "name": "stdout",
     "output_type": "stream",
     "text": [
      "Name: Peter Parker\n",
      "Power: Spider Powers\n",
      "Identity: Student\n",
      "\n",
      "Name: Spiderman\n",
      "Power: Web-slinging\n",
      "Identity: Peter Parker\n",
      "Secret Identity: Friendly Neighborhood\n"
     ]
    }
   ],
   "source": [
    "# Private Access Modifier\n",
    "class Person:\n",
    "    def __init__(self, name, power, identity):\n",
    "        self.name = name  # Public attribute\n",
    "        self.power = power  # Public attribute\n",
    "        self.__identity = identity  # Private attribute\n",
    "    \n",
    "    def display_name(self):\n",
    "        print(f\"Name: {self.name}\")\n",
    "    \n",
    "    def display_power(self):\n",
    "        print(f\"Power: {self.power}\")\n",
    "    \n",
    "    def __display_identity(self):\n",
    "        print(f\"Identity: {self.__identity}\")\n",
    "\n",
    "\n",
    "class Superhero(Person):\n",
    "    def __init__(self, name, power, identity, secret_identity):\n",
    "        super().__init__(name, power, identity)\n",
    "        self.__secret_identity = secret_identity\n",
    "    \n",
    "    def display_secret_identity(self):\n",
    "        print(f\"Secret Identity: {self.__secret_identity}\")\n",
    "\n",
    "\n",
    "# Create an instance of Person\n",
    "person = Person(\"Peter Parker\", \"Spider Powers\", \"Student\")\n",
    "person.display_name()\n",
    "person.display_power()\n",
    "person._Person__display_identity()  # Accessing private method using name mangling\n",
    "\n",
    "print()\n",
    "\n",
    "# Create an instance of Superhero\n",
    "spiderman = Superhero(\"Spiderman\", \"Web-slinging\", \"Peter Parker\", \"Friendly Neighborhood\")\n",
    "spiderman.display_name()\n",
    "spiderman.display_power()\n",
    "spiderman._Person__display_identity()  # Accessing private attribute using name mangling\n",
    "spiderman.display_secret_identity()\n"
   ]
  },
  {
   "cell_type": "code",
   "execution_count": 16,
   "id": "ba4d5adb",
   "metadata": {},
   "outputs": [
    {
     "ename": "AttributeError",
     "evalue": "'Person' object has no attribute '__identity'",
     "output_type": "error",
     "traceback": [
      "\u001b[1;31m---------------------------------------------------------------------------\u001b[0m",
      "\u001b[1;31mAttributeError\u001b[0m                            Traceback (most recent call last)",
      "\u001b[1;32m~\\AppData\\Local\\Temp\\ipykernel_17148\\523757765.py\u001b[0m in \u001b[0;36m<module>\u001b[1;34m\u001b[0m\n\u001b[0;32m      1\u001b[0m \u001b[1;31m# Access private attributes directly and raise an AttributeError\u001b[0m\u001b[1;33m\u001b[0m\u001b[1;33m\u001b[0m\u001b[0m\n\u001b[1;32m----> 2\u001b[1;33m \u001b[0mprint\u001b[0m\u001b[1;33m(\u001b[0m\u001b[0mperson\u001b[0m\u001b[1;33m.\u001b[0m\u001b[0m__identity\u001b[0m\u001b[1;33m)\u001b[0m  \u001b[1;31m# Raises AttributeError\u001b[0m\u001b[1;33m\u001b[0m\u001b[1;33m\u001b[0m\u001b[0m\n\u001b[0m\u001b[0;32m      3\u001b[0m \u001b[0mprint\u001b[0m\u001b[1;33m(\u001b[0m\u001b[0mspiderman\u001b[0m\u001b[1;33m.\u001b[0m\u001b[0m__secret_identity\u001b[0m\u001b[1;33m)\u001b[0m  \u001b[1;31m# Raises AttributeError\u001b[0m\u001b[1;33m\u001b[0m\u001b[1;33m\u001b[0m\u001b[0m\n",
      "\u001b[1;31mAttributeError\u001b[0m: 'Person' object has no attribute '__identity'"
     ]
    }
   ],
   "source": [
    "# Access private attributes directly and raise an AttributeError\n",
    "print(person.__identity)  # Raises AttributeError\n",
    "print(spiderman.__secret_identity)  # Raises AttributeError"
   ]
  },
  {
   "cell_type": "code",
   "execution_count": 14,
   "id": "53874e7c",
   "metadata": {},
   "outputs": [
    {
     "name": "stdout",
     "output_type": "stream",
     "text": [
      "Peter Parker\n"
     ]
    }
   ],
   "source": [
    "class Person:\n",
    "    def __init__(self, name, power):\n",
    "        self._name = name  # Protected attribute\n",
    "        self._power = power  # Protected attribute\n",
    "\n",
    "\n",
    "person = Person(\"Peter Parker\", \"Spider Powers\")\n",
    "print(person._name)  # Accessing protected attribute outside the class and its subclasses\n"
   ]
  },
  {
   "cell_type": "code",
   "execution_count": 15,
   "id": "751d697d",
   "metadata": {},
   "outputs": [
    {
     "name": "stdout",
     "output_type": "stream",
     "text": [
      "Peter Parker\n"
     ]
    }
   ],
   "source": [
    "class Person:\n",
    "    def __init__(self, name, power):\n",
    "        self._name = name  # Protected attribute\n",
    "        self._power = power  # Protected attribute\n",
    "\n",
    "\n",
    "person = Person(\"Peter Parker\", \"Spider Powers\")\n",
    "print(person._name)  # Accessing protected attribute outside the class and its subclasses\n"
   ]
  },
  {
   "cell_type": "code",
   "execution_count": 17,
   "id": "f95c9ccb",
   "metadata": {},
   "outputs": [
    {
     "name": "stdout",
     "output_type": "stream",
     "text": [
      "Peter Parker\n"
     ]
    }
   ],
   "source": [
    "class Person:\n",
    "    def __init__(self, name, power):\n",
    "        self._name = name  # Protected attribute\n",
    "        self._power = power  # Protected attribute\n",
    "\n",
    "\n",
    "person = Person(\"Peter Parker\", \"Spider Powers\")\n",
    "print(person._name)  # Accessing protected attribute outside the class and its subclasses\n"
   ]
  },
  {
   "cell_type": "code",
   "execution_count": 18,
   "id": "543cf6bd",
   "metadata": {},
   "outputs": [
    {
     "name": "stdout",
     "output_type": "stream",
     "text": [
      "Name: Bruce Wayne\n",
      "Power: Detective Skills\n",
      "Identity: Billionaire\n",
      "\n",
      "Name: Batman\n",
      "Power: Gadgets\n",
      "Identity: Bruce Wayne\n",
      "Secret Identity: The Dark Knight\n"
     ]
    }
   ],
   "source": [
    "class Person:\n",
    "    def __init__(self, name, power, identity):\n",
    "        self.__name = name  # Private attribute with name mangling\n",
    "        self.__power = power  # Private attribute with name mangling\n",
    "        self.identity = identity  # Public attribute\n",
    "    \n",
    "    def display_name(self):\n",
    "        print(f\"Name: {self.__name}\")\n",
    "    \n",
    "    def display_power(self):\n",
    "        print(f\"Power: {self.__power}\")\n",
    "    \n",
    "    def display_identity(self):\n",
    "        print(f\"Identity: {self.identity}\")\n",
    "\n",
    "\n",
    "class Superhero(Person):\n",
    "    def __init__(self, name, power, identity, secret_identity):\n",
    "        super().__init__(name, power, identity)\n",
    "        self.__secret_identity = secret_identity\n",
    "    \n",
    "    def display_secret_identity(self):\n",
    "        print(f\"Secret Identity: {self.__secret_identity}\")\n",
    "\n",
    "\n",
    "# Create an instance of Person\n",
    "person = Person(\"Bruce Wayne\", \"Detective Skills\", \"Billionaire\")\n",
    "person.display_name()\n",
    "person.display_power()\n",
    "person.display_identity()\n",
    "\n",
    "print()\n",
    "\n",
    "# Create an instance of Superhero\n",
    "batman = Superhero(\"Batman\", \"Gadgets\", \"Bruce Wayne\", \"The Dark Knight\")\n",
    "batman.display_name()\n",
    "batman.display_power()\n",
    "batman.display_identity()\n",
    "batman.display_secret_identity()\n"
   ]
  },
  {
   "cell_type": "code",
   "execution_count": 19,
   "id": "86960b2a",
   "metadata": {},
   "outputs": [
    {
     "ename": "AttributeError",
     "evalue": "'Person' object has no attribute '_name'",
     "output_type": "error",
     "traceback": [
      "\u001b[1;31m---------------------------------------------------------------------------\u001b[0m",
      "\u001b[1;31mAttributeError\u001b[0m                            Traceback (most recent call last)",
      "\u001b[1;32m~\\AppData\\Local\\Temp\\ipykernel_17148\\1969787173.py\u001b[0m in \u001b[0;36m<module>\u001b[1;34m\u001b[0m\n\u001b[0;32m      1\u001b[0m \u001b[1;31m# Access protected attributes directly and raise an AttributeError\u001b[0m\u001b[1;33m\u001b[0m\u001b[1;33m\u001b[0m\u001b[0m\n\u001b[1;32m----> 2\u001b[1;33m \u001b[0mprint\u001b[0m\u001b[1;33m(\u001b[0m\u001b[0mperson\u001b[0m\u001b[1;33m.\u001b[0m\u001b[0m_name\u001b[0m\u001b[1;33m)\u001b[0m  \u001b[1;31m# Raises AttributeError\u001b[0m\u001b[1;33m\u001b[0m\u001b[1;33m\u001b[0m\u001b[0m\n\u001b[0m\u001b[0;32m      3\u001b[0m \u001b[0mprint\u001b[0m\u001b[1;33m(\u001b[0m\u001b[0mbatman\u001b[0m\u001b[1;33m.\u001b[0m\u001b[0m_name\u001b[0m\u001b[1;33m)\u001b[0m  \u001b[1;31m# Raises AttributeError\u001b[0m\u001b[1;33m\u001b[0m\u001b[1;33m\u001b[0m\u001b[0m\n",
      "\u001b[1;31mAttributeError\u001b[0m: 'Person' object has no attribute '_name'"
     ]
    }
   ],
   "source": [
    "# Access protected attributes directly and raise an AttributeError\n",
    "print(person._name)  # Raises AttributeError\n",
    "print(batman._name)  # Raises AttributeError"
   ]
  },
  {
   "cell_type": "code",
   "execution_count": null,
   "id": "db5f5959",
   "metadata": {},
   "outputs": [],
   "source": []
  }
 ],
 "metadata": {
  "kernelspec": {
   "display_name": "Python 3 (ipykernel)",
   "language": "python",
   "name": "python3"
  },
  "language_info": {
   "codemirror_mode": {
    "name": "ipython",
    "version": 3
   },
   "file_extension": ".py",
   "mimetype": "text/x-python",
   "name": "python",
   "nbconvert_exporter": "python",
   "pygments_lexer": "ipython3",
   "version": "3.9.13"
  }
 },
 "nbformat": 4,
 "nbformat_minor": 5
}
