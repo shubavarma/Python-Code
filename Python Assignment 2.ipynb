{
 "cells": [
  {
   "cell_type": "code",
   "execution_count": 1,
   "id": "3f41a92b",
   "metadata": {},
   "outputs": [
    {
     "name": "stdout",
     "output_type": "stream",
     "text": [
      "Type the first number: 2\n",
      "Type the second number: 3\n",
      "2*3=6\n",
      "2/3=0.6666666666666666\n"
     ]
    }
   ],
   "source": [
    "#1) Write a program to accept two numbers from the user and calculate multiplication, division\n",
    "x=int(input(\"Type the first number: \"))\n",
    "y=int(input(\"Type the second number: \"))\n",
    "print(\"{}*{}={}\".format(x,y,x*y))\n",
    "print(\"{}/{}={}\".format(x,y,x/y))"
   ]
  },
  {
   "cell_type": "code",
   "execution_count": 2,
   "id": "a2ca96f6",
   "metadata": {},
   "outputs": [
    {
     "name": "stdout",
     "output_type": "stream",
     "text": [
      "Type input string: abcdef\n",
      "a\n",
      "c\n",
      "e\n"
     ]
    }
   ],
   "source": [
    "#2) Write a python program to print the characters from a string that are present at an even index\n",
    "x=input(\"Type input string: \")\n",
    "for y in range(len(x)):\n",
    "    if y%2==0:\n",
    "        print(x[y])\n",
    "    else:\n",
    "        continue\n"
   ]
  },
  {
   "cell_type": "code",
   "execution_count": 3,
   "id": "77c56f78",
   "metadata": {},
   "outputs": [
    {
     "name": "stdout",
     "output_type": "stream",
     "text": [
      "Type input string: abcdef\n",
      "b\n",
      "d\n",
      "f\n"
     ]
    }
   ],
   "source": [
    "#3) Write a python program to print the characters from a string that are present at an odd index\n",
    "x=input(\"Type input string: \")\n",
    "for y in range(len(x)):\n",
    "    if y%2!=0:\n",
    "        print(x[y])\n",
    "    else:\n",
    "        continue"
   ]
  },
  {
   "cell_type": "code",
   "execution_count": 5,
   "id": "53a99e43",
   "metadata": {},
   "outputs": [
    {
     "name": "stdout",
     "output_type": "stream",
     "text": [
      "Type the first number: 2\n",
      "Type the second number: 4\n",
      "Both the numbers are even so 2+4=6\n"
     ]
    }
   ],
   "source": [
    "#4) Write a python program which will print the sum of the two numbers if the two numbers are even or it will print the\n",
    "# difference of two numbers\n",
    "x=int(input(\"Type the first number: \"))\n",
    "y=int(input(\"Type the second number: \"))\n",
    "if x%2==0 and y%2==0:\n",
    "    print(\"Both the numbers are even so {}+{}={}\".format(x,y,x+y))\n",
    "else:\n",
    "    print(\"Both the numbers are not even so {}-{}={}\".format(x,y,x-y))\n"
   ]
  },
  {
   "cell_type": "code",
   "execution_count": 11,
   "id": "18b19a23",
   "metadata": {},
   "outputs": [
    {
     "name": "stdout",
     "output_type": "stream",
     "text": [
      "Type input string: jaklsd\n",
      "JaKlSd\n"
     ]
    }
   ],
   "source": [
    "# 5) Write a python program to convert all even indexed alphabets to upper and odd indexed characters to lower\n",
    "x=input(\"Type input string: \")\n",
    "z=\"\"\n",
    "for y in range(len(x)):\n",
    "    if y%2==0:\n",
    "        z=z+x[y].upper()\n",
    "    else:\n",
    "        z=z+x[y].lower()\n",
    "print(z)"
   ]
  },
  {
   "cell_type": "code",
   "execution_count": 14,
   "id": "27356ef9",
   "metadata": {},
   "outputs": [
    {
     "name": "stdout",
     "output_type": "stream",
     "text": [
      "Type the number: 25\n",
      "True\n"
     ]
    }
   ],
   "source": [
    "# 6) Write a python program which will print True if the input number is divisible by 5 or else False\n",
    "x=int(input(\"Type the number: \"))\n",
    "if x%5==0:\n",
    "    print(\"True\")\n",
    "else:\n",
    "    print(\"False\")\n"
   ]
  },
  {
   "cell_type": "code",
   "execution_count": 19,
   "id": "e7c5f732",
   "metadata": {},
   "outputs": [
    {
     "name": "stdout",
     "output_type": "stream",
     "text": [
      "Type the first number: 100\n",
      "Type the second number: 11\n",
      "Product of input numbers more than 1000 therefore 100*11=1100\n"
     ]
    }
   ],
   "source": [
    "# 7) Given two integer numbers return their product only if the product is greater than 1000, else return their sum\n",
    "x=int(input(\"Type the first number: \"))\n",
    "y=int(input(\"Type the second number: \"))\n",
    "if x*y>1000:\n",
    "    print(\"Product of input numbers more than 1000 therefore {}*{}={}\".format(x,y,x*y))\n",
    "else:\n",
    "    print(\"Product of input numbers less than 1000 therefore {}+{}={}\".format(x,y,x+y))\n"
   ]
  },
  {
   "cell_type": "code",
   "execution_count": 14,
   "id": "5e71e376",
   "metadata": {},
   "outputs": [
    {
     "name": "stdout",
     "output_type": "stream",
     "text": [
      "Type input first string: python\n",
      "Type input second string: javas\n",
      "pjhvns\n"
     ]
    }
   ],
   "source": [
    "# 8) Given two strings x, y writes a program to return a new string made of x and y’s first, middle, and last characters\n",
    "x=input(\"Type input first string: \")\n",
    "y=input(\"Type input second string: \")\n",
    "z=\"\"\n",
    "z=z+x[0]+y[0]+x[len(x)//2]+y[len(y)//2]+x[-1]+y[-1]\n",
    "print(z)"
   ]
  },
  {
   "cell_type": "code",
   "execution_count": 43,
   "id": "d8a4f342",
   "metadata": {},
   "outputs": [],
   "source": [
    "# 9) Write a python program to take three names as input from a user in the single input () function call\n",
    "def names(person1,person2,person3):\n",
    "    print(\"Name1: - {}\".format(person1))\n",
    "    print(\"Name2: - {}\".format(person2))\n",
    "    print(\"Name3: - {}\".format(person3))\n"
   ]
  },
  {
   "cell_type": "code",
   "execution_count": 44,
   "id": "e00f6ac7",
   "metadata": {},
   "outputs": [
    {
     "name": "stdout",
     "output_type": "stream",
     "text": [
      "Name1: - subhadra\n",
      "Name2: - laxman\n",
      "Name3: - roja\n"
     ]
    }
   ],
   "source": [
    "names(\"subhadra\",\"laxman\",\"roja\")"
   ]
  },
  {
   "cell_type": "code",
   "execution_count": 6,
   "id": "4df945b5",
   "metadata": {},
   "outputs": [
    {
     "name": "stdout",
     "output_type": "stream",
     "text": [
      "Type the string: malayalam\n",
      "malayala@\n"
     ]
    }
   ],
   "source": [
    "# Write a Python program to get a string from a given string where all occurrences of its first char have been\n",
    "# changed to '@', except the first char itself.\n",
    "x=input(\"Type the string: \")\n",
    "z=x[0]\n",
    "print(x[0]+x[1:].replace(z,\"@\"))"
   ]
  },
  {
   "cell_type": "code",
   "execution_count": 12,
   "id": "eb73044f",
   "metadata": {},
   "outputs": [
    {
     "name": "stdout",
     "output_type": "stream",
     "text": [
      "Type a string: add\n",
      "adding\n"
     ]
    }
   ],
   "source": [
    "# 11) Write a Python program to add 'ing' at the end of a given string (string length should be equal to or more than 3). If\n",
    "#the given string already ends with 'ing' then add 'ly' instead. If the string length of the given string is less than 3, \n",
    "#leave it unchanged\n",
    "x=input(\"Type a string: \")\n",
    "z=\"\"\n",
    "if len(x)>=3:\n",
    "    if x[-3:]==\"ing\":\n",
    "        z=x[:-3]+\"ly\"\n",
    "    else:\n",
    "        z=x+\"ing\"\n",
    "else:\n",
    "    z=x\n",
    "print(z) "
   ]
  },
  {
   "cell_type": "code",
   "execution_count": 10,
   "id": "ad42ee53",
   "metadata": {},
   "outputs": [
    {
     "name": "stdout",
     "output_type": "stream",
     "text": [
      "Type the first number: 3\n",
      "Type the second number: 7\n",
      "True\n"
     ]
    }
   ],
   "source": [
    "# 12) Write a python program that accepts two inputs num1 and num2 print True if one of them is 10 or if their sum is 10\n",
    "# otherwise print False\n",
    "num1=int(input(\"Type the first number: \"))\n",
    "num2=int(input(\"Type the second number: \"))\n",
    "if num1==10 or num2==10 or num1+num2==10:\n",
    "    print(\"True\")\n",
    "else:\n",
    "    print(\"False\")    "
   ]
  },
  {
   "cell_type": "code",
   "execution_count": 13,
   "id": "b85e6b9d",
   "metadata": {},
   "outputs": [
    {
     "name": "stdout",
     "output_type": "stream",
     "text": [
      "Type the first number: 2\n",
      "Type the second number: 3\n",
      "Type the third number: 7\n",
      "False\n"
     ]
    }
   ],
   "source": [
    "#13) Write a python program that accepts three inputs x, y and z print True if x*y>z otherwise False\n",
    "x=int(input(\"Type the first number: \"))\n",
    "y=int(input(\"Type the second number: \"))\n",
    "z=int(input(\"Type the third number: \"))\n",
    "if x*y>z:\n",
    "    print(\"True\")\n",
    "else:\n",
    "    print(\"False\")"
   ]
  },
  {
   "cell_type": "code",
   "execution_count": 16,
   "id": "76d4f07b",
   "metadata": {},
   "outputs": [
    {
     "name": "stdout",
     "output_type": "stream",
     "text": [
      "Type input first string: abcdef\n",
      "Type input second string: ijklmn\n",
      "True\n"
     ]
    }
   ],
   "source": [
    "# 14) Write a python program that accepts two strings inputs return True depending on whether the total number of\n",
    "# characters in the first string is equal to the total number of characters in the second string\n",
    "x=input(\"Type input first string: \")\n",
    "y=input(\"Type input second string: \")\n",
    "if len(x)==len(y):\n",
    "    print(\"True\")\n",
    "else:\n",
    "    print(\"False\")\n"
   ]
  },
  {
   "cell_type": "code",
   "execution_count": 19,
   "id": "f220e153",
   "metadata": {},
   "outputs": [
    {
     "name": "stdout",
     "output_type": "stream",
     "text": [
      "Type input string: subhadra\n",
      "subsubsub\n"
     ]
    }
   ],
   "source": [
    "# 15) Write a python program that takes a string input, we'll say that the front is the first three characters of the string.\n",
    "# If the string length is less than three characters, the front is whatever is there. Return a new string, \n",
    "# which is three copies of the front\n",
    "x=input(\"Type input string: \")\n",
    "z=\"\"\n",
    "if len(x)<3:\n",
    "    z=x+x+x\n",
    "elif len(x)>=3:\n",
    "    z=x[:3]+x[:3]+x[:3]\n",
    "print(z)"
   ]
  },
  {
   "cell_type": "code",
   "execution_count": 21,
   "id": "78a65519",
   "metadata": {},
   "outputs": [
    {
     "name": "stdout",
     "output_type": "stream",
     "text": [
      "Type input string: apples\n",
      "The word is plural\n"
     ]
    }
   ],
   "source": [
    "# 16) Write a python program that takes in a word and determines whether or not it is plural. A plural word is one\n",
    "# that ends in \"s\".\n",
    "x=input(\"Type input string: \")\n",
    "if x[-1]==\"s\":\n",
    "    print(\"The word is plural\")\n",
    "else:\n",
    "    print(\"The word is not plural\")"
   ]
  },
  {
   "cell_type": "code",
   "execution_count": 18,
   "id": "e8e02db7",
   "metadata": {},
   "outputs": [
    {
     "name": "stdout",
     "output_type": "stream",
     "text": [
      "Is bartender on break(True/False): False\n",
      "Age of the customer: 17\n",
      "Bartender should not serve drinks\n"
     ]
    }
   ],
   "source": [
    "# 17) A bartender is writing a simple program to determine whether he should serve drinks to someone. He only serves\n",
    "# drinks to people 18 and older and when he's not on break (True means break and False means not a break time). Given\n",
    "# the person's age, and whether break time is in session, create a python program which prints whether he should serve\n",
    "# drinks or not.\n",
    "x=input(\"Is bartender on break(True/False): \")\n",
    "\n",
    "if x==\"True\":\n",
    "    print(\"Bartender should not serve drinks\")\n",
    "elif x==\"False\":\n",
    "    y=int(input(\"Age of the customer: \"))\n",
    "    if y>=18:\n",
    "        print(\"Bartender should serve drinks\")\n",
    "    else:\n",
    "        print(\"Bartender should not serve drinks\")\n",
    "else:\n",
    "    print(\"Input has to be True or False\")"
   ]
  },
  {
   "cell_type": "code",
   "execution_count": 27,
   "id": "3dfc4ebb",
   "metadata": {},
   "outputs": [
    {
     "name": "stdout",
     "output_type": "stream",
     "text": [
      "Type the name of Manoj Kumar family (Shiva/Letha/Tarun/Kavitha): kavitha\n",
      "Kavitha sister\n"
     ]
    }
   ],
   "source": [
    "# 18) Manoj Kumar has family and friends. Help him remind them who is who. Given a string with a name, return the\n",
    "# relation of that person to Manoj Kumar. \n",
    "# Shiva father\n",
    "# Letha mother\n",
    "# Tarun brother\n",
    "# Kavitha sister\n",
    "x=input(\"Type the name of Manoj Kumar family (Shiva/Letha/Tarun/Kavitha): \")\n",
    "if x[0]==\"S\" or x[0]==\"s\":\n",
    "    print(\"Shiva father\")\n",
    "elif x[0]==\"L\" or x[0]==\"l\":\n",
    "    print(\"Letha mother\")\n",
    "elif x[0]==\"T\" or x[0]==\"t\":\n",
    "    print(\"Tarun brother\")\n",
    "elif x[0]==\"K\" or x[0]==\"k\":\n",
    "    print(\"Kavitha sister\")"
   ]
  },
  {
   "cell_type": "code",
   "execution_count": 3,
   "id": "6e579414",
   "metadata": {},
   "outputs": [
    {
     "name": "stdout",
     "output_type": "stream",
     "text": [
      "Type the string: subhadra\n",
      "uaasbhdr\n"
     ]
    }
   ],
   "source": [
    "# 19) Write a python program that takes a string, breaks it up and returns it with vowels first, consonants second. For any\n",
    "# character that's not a vowel (like special characters or spaces), treat them like consonants\n",
    "x=input(\"Type the string: \")\n",
    "x1=\"\"\n",
    "x2=\"\"\n",
    "for y in range(len(x)):\n",
    "    if x[y]==\"a\" or x[y]==\"e\" or x[y]==\"i\" or x[y]==\"o\" or x[y]==\"u\":\n",
    "        x1=x1+x[y]\n",
    "    else:\n",
    "        x2=x2+x[y]\n",
    "print(x1+x2)       \n"
   ]
  },
  {
   "cell_type": "code",
   "execution_count": 24,
   "id": "35080d66",
   "metadata": {},
   "outputs": [
    {
     "name": "stdout",
     "output_type": "stream",
     "text": [
      "Type first number: 2\n",
      "Type any of this (+, -, *, /, %, **): **\n",
      "Type second number: 4\n",
      "Answer is :16\n"
     ]
    }
   ],
   "source": [
    "# 20) Create a dynamic calculator which asks for numbers and operator and return the answers\n",
    "num1=int(input(\"Type first number: \"))\n",
    "opera=input(\"Type any of this (+, -, *, /, %, **): \")\n",
    "num2=int(input(\"Type second number: \"))\n",
    "if opera==\"+\":\n",
    "    print(\"Answer is :{}\".format(num1+num2))\n",
    "elif opera==\"-\":\n",
    "    print(\"Answer is :{}\".format(num1-num2))\n",
    "elif opera==\"*\":\n",
    "    print(\"Answer is :{}\".format(num1*num2))\n",
    "elif opera==\"/\":\n",
    "    print(\"Answer is :{}\".format(num1/num2))\n",
    "elif opera==\"%\":\n",
    "    print(\"Answer is :{}\".format(num1%num2))\n",
    "elif opera==\"**\":\n",
    "    print(\"Answer is :{}\".format(num1**num2))\n"
   ]
  },
  {
   "cell_type": "code",
   "execution_count": null,
   "id": "4ed30fdf",
   "metadata": {},
   "outputs": [],
   "source": []
  }
 ],
 "metadata": {
  "kernelspec": {
   "display_name": "Python 3 (ipykernel)",
   "language": "python",
   "name": "python3"
  },
  "language_info": {
   "codemirror_mode": {
    "name": "ipython",
    "version": 3
   },
   "file_extension": ".py",
   "mimetype": "text/x-python",
   "name": "python",
   "nbconvert_exporter": "python",
   "pygments_lexer": "ipython3",
   "version": "3.9.13"
  }
 },
 "nbformat": 4,
 "nbformat_minor": 5
}
