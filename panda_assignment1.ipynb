{
 "cells": [
  {
   "cell_type": "code",
   "execution_count": 1,
   "id": "7d8d39e2",
   "metadata": {},
   "outputs": [],
   "source": [
    "# Assignment create a column to create percentage based on Math, reading and writing score\n",
    "# based on percentage column take out male scored more than 50%\n",
    "# based on percentage column take out male scored less than 50%\n",
    "# same as above for female\n",
    "# how many female candidates are there\n",
    "# how many male candidates are there\n",
    "# from this data find out how many students parent level educations are batchelors degree"
   ]
  },
  {
   "cell_type": "code",
   "execution_count": 2,
   "id": "3aa4d1b4",
   "metadata": {},
   "outputs": [],
   "source": [
    "# if we want to find unique values in a column we can use unique() function\n",
    "#data[\"lunch\"].unique()\n",
    "\n",
    "# how many males in standard lunch\n",
    "# how many males in free lunch\n",
    "# how many females in standard lunch\n",
    "# how many females in free lunch"
   ]
  },
  {
   "cell_type": "code",
   "execution_count": 7,
   "id": "9c209a9d",
   "metadata": {},
   "outputs": [],
   "source": [
    "import pandas as pd"
   ]
  },
  {
   "cell_type": "code",
   "execution_count": 47,
   "id": "b4788950",
   "metadata": {},
   "outputs": [
    {
     "data": {
      "text/html": [
       "<div>\n",
       "<style scoped>\n",
       "    .dataframe tbody tr th:only-of-type {\n",
       "        vertical-align: middle;\n",
       "    }\n",
       "\n",
       "    .dataframe tbody tr th {\n",
       "        vertical-align: top;\n",
       "    }\n",
       "\n",
       "    .dataframe thead th {\n",
       "        text-align: right;\n",
       "    }\n",
       "</style>\n",
       "<table border=\"1\" class=\"dataframe\">\n",
       "  <thead>\n",
       "    <tr style=\"text-align: right;\">\n",
       "      <th></th>\n",
       "      <th>gender</th>\n",
       "      <th>race/ethnicity</th>\n",
       "      <th>parental level of education</th>\n",
       "      <th>lunch</th>\n",
       "      <th>test preparation course</th>\n",
       "      <th>math score</th>\n",
       "      <th>reading score</th>\n",
       "      <th>writing score</th>\n",
       "      <th>percentage</th>\n",
       "    </tr>\n",
       "  </thead>\n",
       "  <tbody>\n",
       "    <tr>\n",
       "      <th>0</th>\n",
       "      <td>female</td>\n",
       "      <td>group B</td>\n",
       "      <td>bachelor's degree</td>\n",
       "      <td>standard</td>\n",
       "      <td>none</td>\n",
       "      <td>72</td>\n",
       "      <td>72</td>\n",
       "      <td>74</td>\n",
       "      <td>72.666667</td>\n",
       "    </tr>\n",
       "    <tr>\n",
       "      <th>1</th>\n",
       "      <td>female</td>\n",
       "      <td>group C</td>\n",
       "      <td>some college</td>\n",
       "      <td>standard</td>\n",
       "      <td>completed</td>\n",
       "      <td>69</td>\n",
       "      <td>90</td>\n",
       "      <td>88</td>\n",
       "      <td>82.333333</td>\n",
       "    </tr>\n",
       "    <tr>\n",
       "      <th>2</th>\n",
       "      <td>female</td>\n",
       "      <td>group B</td>\n",
       "      <td>master's degree</td>\n",
       "      <td>standard</td>\n",
       "      <td>none</td>\n",
       "      <td>90</td>\n",
       "      <td>95</td>\n",
       "      <td>93</td>\n",
       "      <td>92.666667</td>\n",
       "    </tr>\n",
       "    <tr>\n",
       "      <th>3</th>\n",
       "      <td>male</td>\n",
       "      <td>group A</td>\n",
       "      <td>associate's degree</td>\n",
       "      <td>free/reduced</td>\n",
       "      <td>none</td>\n",
       "      <td>47</td>\n",
       "      <td>57</td>\n",
       "      <td>44</td>\n",
       "      <td>49.333333</td>\n",
       "    </tr>\n",
       "    <tr>\n",
       "      <th>4</th>\n",
       "      <td>male</td>\n",
       "      <td>group C</td>\n",
       "      <td>some college</td>\n",
       "      <td>standard</td>\n",
       "      <td>none</td>\n",
       "      <td>76</td>\n",
       "      <td>78</td>\n",
       "      <td>75</td>\n",
       "      <td>76.333333</td>\n",
       "    </tr>\n",
       "    <tr>\n",
       "      <th>...</th>\n",
       "      <td>...</td>\n",
       "      <td>...</td>\n",
       "      <td>...</td>\n",
       "      <td>...</td>\n",
       "      <td>...</td>\n",
       "      <td>...</td>\n",
       "      <td>...</td>\n",
       "      <td>...</td>\n",
       "      <td>...</td>\n",
       "    </tr>\n",
       "    <tr>\n",
       "      <th>995</th>\n",
       "      <td>female</td>\n",
       "      <td>group E</td>\n",
       "      <td>master's degree</td>\n",
       "      <td>standard</td>\n",
       "      <td>completed</td>\n",
       "      <td>88</td>\n",
       "      <td>99</td>\n",
       "      <td>95</td>\n",
       "      <td>94.000000</td>\n",
       "    </tr>\n",
       "    <tr>\n",
       "      <th>996</th>\n",
       "      <td>male</td>\n",
       "      <td>group C</td>\n",
       "      <td>high school</td>\n",
       "      <td>free/reduced</td>\n",
       "      <td>none</td>\n",
       "      <td>62</td>\n",
       "      <td>55</td>\n",
       "      <td>55</td>\n",
       "      <td>57.333333</td>\n",
       "    </tr>\n",
       "    <tr>\n",
       "      <th>997</th>\n",
       "      <td>female</td>\n",
       "      <td>group C</td>\n",
       "      <td>high school</td>\n",
       "      <td>free/reduced</td>\n",
       "      <td>completed</td>\n",
       "      <td>59</td>\n",
       "      <td>71</td>\n",
       "      <td>65</td>\n",
       "      <td>65.000000</td>\n",
       "    </tr>\n",
       "    <tr>\n",
       "      <th>998</th>\n",
       "      <td>female</td>\n",
       "      <td>group D</td>\n",
       "      <td>some college</td>\n",
       "      <td>standard</td>\n",
       "      <td>completed</td>\n",
       "      <td>68</td>\n",
       "      <td>78</td>\n",
       "      <td>77</td>\n",
       "      <td>74.333333</td>\n",
       "    </tr>\n",
       "    <tr>\n",
       "      <th>999</th>\n",
       "      <td>female</td>\n",
       "      <td>group D</td>\n",
       "      <td>some college</td>\n",
       "      <td>free/reduced</td>\n",
       "      <td>none</td>\n",
       "      <td>77</td>\n",
       "      <td>86</td>\n",
       "      <td>86</td>\n",
       "      <td>83.000000</td>\n",
       "    </tr>\n",
       "  </tbody>\n",
       "</table>\n",
       "<p>1000 rows × 9 columns</p>\n",
       "</div>"
      ],
      "text/plain": [
       "     gender race/ethnicity parental level of education         lunch  \\\n",
       "0    female        group B           bachelor's degree      standard   \n",
       "1    female        group C                some college      standard   \n",
       "2    female        group B             master's degree      standard   \n",
       "3      male        group A          associate's degree  free/reduced   \n",
       "4      male        group C                some college      standard   \n",
       "..      ...            ...                         ...           ...   \n",
       "995  female        group E             master's degree      standard   \n",
       "996    male        group C                 high school  free/reduced   \n",
       "997  female        group C                 high school  free/reduced   \n",
       "998  female        group D                some college      standard   \n",
       "999  female        group D                some college  free/reduced   \n",
       "\n",
       "    test preparation course  math score  reading score  writing score  \\\n",
       "0                      none          72             72             74   \n",
       "1                 completed          69             90             88   \n",
       "2                      none          90             95             93   \n",
       "3                      none          47             57             44   \n",
       "4                      none          76             78             75   \n",
       "..                      ...         ...            ...            ...   \n",
       "995               completed          88             99             95   \n",
       "996                    none          62             55             55   \n",
       "997               completed          59             71             65   \n",
       "998               completed          68             78             77   \n",
       "999                    none          77             86             86   \n",
       "\n",
       "     percentage  \n",
       "0     72.666667  \n",
       "1     82.333333  \n",
       "2     92.666667  \n",
       "3     49.333333  \n",
       "4     76.333333  \n",
       "..          ...  \n",
       "995   94.000000  \n",
       "996   57.333333  \n",
       "997   65.000000  \n",
       "998   74.333333  \n",
       "999   83.000000  \n",
       "\n",
       "[1000 rows x 9 columns]"
      ]
     },
     "execution_count": 47,
     "metadata": {},
     "output_type": "execute_result"
    }
   ],
   "source": [
    "perform=pd.read_csv(r\"C:\\Users\\Subhadra\\Documents\\Python Scripts\\StudentsPerformance.csv\")\n",
    "perform[\"percentage\"]=(perform[\"math score\"]+perform[\"reading score\"]+perform[\"writing score\"])/3\n",
    "perform"
   ]
  },
  {
   "cell_type": "code",
   "execution_count": 29,
   "id": "1713b5d8",
   "metadata": {},
   "outputs": [
    {
     "name": "stdout",
     "output_type": "stream",
     "text": [
      "Male students with percentage greater than 50:  417\n"
     ]
    }
   ],
   "source": [
    "# Male students with percentage greater than 50%\n",
    "mG50=perform.loc[(perform[\"percentage\"]>50)&(perform[\"gender\"]==\"male\")].shape\n",
    "print(\"Male students with percentage greater than 50: \",mG50[0])"
   ]
  },
  {
   "cell_type": "code",
   "execution_count": 30,
   "id": "6f74b972",
   "metadata": {},
   "outputs": [
    {
     "name": "stdout",
     "output_type": "stream",
     "text": [
      "Male students with percentage less than or equal to 50:  65\n"
     ]
    }
   ],
   "source": [
    "# Male students with percentage less than or equal to 50%\n",
    "mL50=perform.loc[(perform[\"percentage\"]<=50)&(perform[\"gender\"]==\"male\")].shape\n",
    "print(\"Male students with percentage less than or equal to 50: \",mL50[0])"
   ]
  },
  {
   "cell_type": "code",
   "execution_count": 31,
   "id": "876cae4e",
   "metadata": {},
   "outputs": [
    {
     "name": "stdout",
     "output_type": "stream",
     "text": [
      "Female students with percentage greater than 50:  474\n"
     ]
    }
   ],
   "source": [
    "# Female students with percentage greater than 50%\n",
    "fG50=perform.loc[(perform[\"percentage\"]>50)&(perform[\"gender\"]==\"female\")].shape\n",
    "print(\"Female students with percentage greater than 50: \",fG50[0])"
   ]
  },
  {
   "cell_type": "code",
   "execution_count": 32,
   "id": "fef70d91",
   "metadata": {},
   "outputs": [
    {
     "name": "stdout",
     "output_type": "stream",
     "text": [
      "Female students with percentage less than or equal to 50:  44\n"
     ]
    }
   ],
   "source": [
    "# Female students with percentage less than or equal to 50%\n",
    "fL50=perform.loc[(perform[\"percentage\"]<=50)&(perform[\"gender\"]==\"female\")].shape\n",
    "print(\"Female students with percentage less than or equal to 50: \",fL50[0])"
   ]
  },
  {
   "cell_type": "code",
   "execution_count": 33,
   "id": "d6e58e55",
   "metadata": {},
   "outputs": [
    {
     "name": "stdout",
     "output_type": "stream",
     "text": [
      "Total female students:  518\n"
     ]
    }
   ],
   "source": [
    "# Total number of Female Candidates\n",
    "fT=perform.loc[perform[\"gender\"]==\"female\"].shape\n",
    "print(\"Total female students: \",fT[0])"
   ]
  },
  {
   "cell_type": "code",
   "execution_count": 36,
   "id": "29aa826f",
   "metadata": {},
   "outputs": [
    {
     "name": "stdout",
     "output_type": "stream",
     "text": [
      "Total male students:  482\n"
     ]
    }
   ],
   "source": [
    "# Total number of Male Candidates\n",
    "mT=perform.loc[perform[\"gender\"]==\"male\"].shape\n",
    "print(\"Total male students: \",mT[0])"
   ]
  },
  {
   "cell_type": "code",
   "execution_count": 37,
   "id": "8b8a9e33",
   "metadata": {},
   "outputs": [
    {
     "name": "stdout",
     "output_type": "stream",
     "text": [
      "Total students with parents Bachelor degree:  118\n"
     ]
    }
   ],
   "source": [
    "#Total students with parent level education of batchelors degree\n",
    "sPB=perform.loc[perform[\"parental level of education\"]==\"bachelor's degree\"].shape\n",
    "print(\"Total students with parents Bachelor degree: \",sPB[0])"
   ]
  },
  {
   "cell_type": "code",
   "execution_count": 43,
   "id": "9e8f9c84",
   "metadata": {},
   "outputs": [
    {
     "name": "stdout",
     "output_type": "stream",
     "text": [
      "Total male students with standard lunch:  316\n"
     ]
    }
   ],
   "source": [
    "# how many males in standard lunch\n",
    "mSL=perform.loc[(perform[\"lunch\"]==\"standard\")&(perform[\"gender\"]==\"male\")].shape\n",
    "print(\"Total male students with standard lunch: \",mSL[0])"
   ]
  },
  {
   "cell_type": "code",
   "execution_count": 44,
   "id": "981e8c52",
   "metadata": {},
   "outputs": [
    {
     "name": "stdout",
     "output_type": "stream",
     "text": [
      "Total female students with standard lunch:  329\n"
     ]
    }
   ],
   "source": [
    "# how many females in standard lunch\n",
    "fSL=perform.loc[(perform[\"lunch\"]==\"standard\")&(perform[\"gender\"]==\"female\")].shape\n",
    "print(\"Total female students with standard lunch: \",fSL[0])"
   ]
  },
  {
   "cell_type": "code",
   "execution_count": 45,
   "id": "bca7c06c",
   "metadata": {},
   "outputs": [
    {
     "name": "stdout",
     "output_type": "stream",
     "text": [
      "Total male students with free/reduced lunch:  166\n"
     ]
    }
   ],
   "source": [
    "# how many males in free/reduced lunch\n",
    "mFL=perform.loc[(perform[\"lunch\"]==\"free/reduced\")&(perform[\"gender\"]==\"male\")].shape\n",
    "print(\"Total male students with free/reduced lunch: \",mFL[0])"
   ]
  },
  {
   "cell_type": "code",
   "execution_count": 46,
   "id": "267bafa2",
   "metadata": {},
   "outputs": [
    {
     "name": "stdout",
     "output_type": "stream",
     "text": [
      "Total female students with free/reduced lunch:  189\n"
     ]
    }
   ],
   "source": [
    "# how many females in free/reduced lunch\n",
    "fFL=perform.loc[(perform[\"lunch\"]==\"free/reduced\")&(perform[\"gender\"]==\"female\")].shape\n",
    "print(\"Total female students with free/reduced lunch: \",fFL[0])"
   ]
  },
  {
   "cell_type": "code",
   "execution_count": null,
   "id": "257ad8f8",
   "metadata": {},
   "outputs": [],
   "source": []
  }
 ],
 "metadata": {
  "kernelspec": {
   "display_name": "Python 3 (ipykernel)",
   "language": "python",
   "name": "python3"
  },
  "language_info": {
   "codemirror_mode": {
    "name": "ipython",
    "version": 3
   },
   "file_extension": ".py",
   "mimetype": "text/x-python",
   "name": "python",
   "nbconvert_exporter": "python",
   "pygments_lexer": "ipython3",
   "version": "3.9.13"
  }
 },
 "nbformat": 4,
 "nbformat_minor": 5
}
