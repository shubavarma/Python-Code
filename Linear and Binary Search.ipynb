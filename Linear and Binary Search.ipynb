{
 "cells": [
  {
   "cell_type": "code",
   "execution_count": 68,
   "id": "ecae3099",
   "metadata": {},
   "outputs": [
    {
     "name": "stdout",
     "output_type": "stream",
     "text": [
      "The element is present at index=  2\n",
      "Time taken for the search is:  0.0\n"
     ]
    }
   ],
   "source": [
    "# If we are given a list of items we need to search for an elements position using linear search and calculate the time taken\n",
    "\n",
    "def linearSearch(l,num):\n",
    "    '''we will input the sorted list and the number to search in the list. \n",
    "    This function uses Linear search to print the index value of the\n",
    "    number and the time taken for the search'''\n",
    "    import time\n",
    "    st=time.time()\n",
    "    for y in l:\n",
    "        if num==y:\n",
    "            print(\"The element is present at index= \",l.index(y))\n",
    "    et=time.time()\n",
    "    print(\"Time taken for the search is: \",et-st)\n",
    "linearSearch([20,30,40,50,60,70,80,90,100,110,120,130,140,150],40)\n",
    "    "
   ]
  },
  {
   "cell_type": "code",
   "execution_count": 69,
   "id": "c7dcf6f7",
   "metadata": {},
   "outputs": [
    {
     "name": "stdout",
     "output_type": "stream",
     "text": [
      "The index of the number is: 2 \n",
      " Time taken for the search is: 0.0\n"
     ]
    }
   ],
   "source": [
    "def binarySearch(l,num):\n",
    "    '''we will input the sorted list and the number to search in the list. \n",
    "    This function uses Binary search to print the index value of the\n",
    "    number and the time taken for the search'''\n",
    "    start=0\n",
    "    end=len(l)-1\n",
    "    mid=0\n",
    "    import time\n",
    "    st=time.time()\n",
    "    while start<=end:\n",
    "        # find the index of middle element\n",
    "        mid=(start+end)//2\n",
    "        # if num is greater than middle number ignore left half\n",
    "        if l[mid]<num:\n",
    "            start=mid+1\n",
    "        # if num is less than middle number ignore the right half\n",
    "        elif l[mid]>num:\n",
    "            end=mid-1               \n",
    "        # if num is equal to middle number\n",
    "        else:\n",
    "            et=time.time()\n",
    "            return print(\"The index of the number is:\",mid,\"\\n\",\"Time taken for the search is:\",et-st)\n",
    "    return print(\"Number not in the list\")\n",
    "binarySearch([20,30,40,50,60,70,80,90,100,110,120,130,140,150],40)"
   ]
  },
  {
   "cell_type": "code",
   "execution_count": null,
   "id": "171e90d6",
   "metadata": {},
   "outputs": [],
   "source": []
  }
 ],
 "metadata": {
  "kernelspec": {
   "display_name": "Python 3 (ipykernel)",
   "language": "python",
   "name": "python3"
  },
  "language_info": {
   "codemirror_mode": {
    "name": "ipython",
    "version": 3
   },
   "file_extension": ".py",
   "mimetype": "text/x-python",
   "name": "python",
   "nbconvert_exporter": "python",
   "pygments_lexer": "ipython3",
   "version": "3.9.13"
  }
 },
 "nbformat": 4,
 "nbformat_minor": 5
}
