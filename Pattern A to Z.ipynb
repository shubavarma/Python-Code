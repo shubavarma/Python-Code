{
 "cells": [
  {
   "cell_type": "code",
   "execution_count": 56,
   "id": "be5f2410",
   "metadata": {},
   "outputs": [
    {
     "name": "stdout",
     "output_type": "stream",
     "text": [
      "*****\n",
      "*   *\n",
      "*****\n",
      "*   *\n",
      "*   *\n"
     ]
    }
   ],
   "source": [
    "# To create pattern A\n",
    "a=1\n",
    "while a<=5:\n",
    "    if a==1:\n",
    "        print(\"*****\")\n",
    "    elif a==2:\n",
    "        print(\"*   *\")\n",
    "    elif a==3:\n",
    "        print(\"*****\")\n",
    "    elif a==4:\n",
    "        print(\"*   *\")\n",
    "    elif a==5:\n",
    "        print(\"*   *\")\n",
    "    a=a+1\n"
   ]
  },
  {
   "cell_type": "code",
   "execution_count": 57,
   "id": "f8185d21",
   "metadata": {},
   "outputs": [
    {
     "name": "stdout",
     "output_type": "stream",
     "text": [
      "****\n",
      "*   *\n",
      "*   *\n",
      "****\n",
      "*   *\n",
      "*   *\n",
      "****\n"
     ]
    }
   ],
   "source": [
    "# To create pattern B\n",
    "a=1\n",
    "while a<=7:\n",
    "    if a==1:\n",
    "        print(\"****\")\n",
    "    elif a==2:\n",
    "        print(\"*   *\")\n",
    "    elif a==3:\n",
    "        print(\"*   *\")\n",
    "    elif a==4:\n",
    "        print(\"****\")\n",
    "    elif a==5:\n",
    "        print(\"*   *\")\n",
    "    elif a==6:\n",
    "        print(\"*   *\")\n",
    "    elif a==7:\n",
    "        print(\"****\")\n",
    "    a=a+1"
   ]
  },
  {
   "cell_type": "code",
   "execution_count": 58,
   "id": "b3bea9ad",
   "metadata": {},
   "outputs": [
    {
     "name": "stdout",
     "output_type": "stream",
     "text": [
      " ****\n",
      "*    \n",
      "*    \n",
      "*    \n",
      " ****\n"
     ]
    }
   ],
   "source": [
    "# To create pattern C\n",
    "a=1\n",
    "while a<=5:\n",
    "    if a==1:\n",
    "        print(\" ****\")\n",
    "    elif a==2:\n",
    "        print(\"*    \")\n",
    "    elif a==3:\n",
    "        print(\"*    \")    \n",
    "    elif a==4:\n",
    "        print(\"*    \")\n",
    "    elif a==5:\n",
    "        print(\" ****\")\n",
    "    a=a+1"
   ]
  },
  {
   "cell_type": "code",
   "execution_count": 59,
   "id": "217c6084",
   "metadata": {},
   "outputs": [
    {
     "name": "stdout",
     "output_type": "stream",
     "text": [
      "**\n",
      "*  *\n",
      "*   *\n",
      "*    *\n",
      "*   *\n",
      "*  *\n",
      "**\n"
     ]
    }
   ],
   "source": [
    "# To create pattern D\n",
    "a=1\n",
    "while a<=7:\n",
    "    if a==1:\n",
    "        print(\"**\")\n",
    "    elif a==2:\n",
    "        print(\"*  *\")\n",
    "    elif a==3:\n",
    "        print(\"*   *\")\n",
    "    elif a==4:\n",
    "        print(\"*    *\")\n",
    "    elif a==5:\n",
    "        print(\"*   *\")\n",
    "    elif a==6:\n",
    "        print(\"*  *\")\n",
    "    elif a==7:\n",
    "         print(\"**\")\n",
    "    a=a+1"
   ]
  },
  {
   "cell_type": "code",
   "execution_count": 60,
   "id": "2e18caca",
   "metadata": {},
   "outputs": [
    {
     "name": "stdout",
     "output_type": "stream",
     "text": [
      "*****\n",
      "*\n",
      "*****\n",
      "*\n",
      "*****\n"
     ]
    }
   ],
   "source": [
    "# To create pattern E\n",
    "a=1\n",
    "while a<=5:\n",
    "    if a==1:\n",
    "        print(\"*****\")\n",
    "    elif a==2:\n",
    "        print(\"*\")\n",
    "    elif a==3:\n",
    "        print(\"*****\")\n",
    "    elif a==4:\n",
    "        print(\"*\")\n",
    "    elif a==5:\n",
    "        print(\"*****\")\n",
    "    a=a+1"
   ]
  },
  {
   "cell_type": "code",
   "execution_count": 61,
   "id": "b794c08c",
   "metadata": {},
   "outputs": [
    {
     "name": "stdout",
     "output_type": "stream",
     "text": [
      "*****\n",
      "*\n",
      "*****\n",
      "*\n",
      "*\n"
     ]
    }
   ],
   "source": [
    "# To create a pattern F\n",
    "a=1\n",
    "while a<=5:\n",
    "    if a==1:\n",
    "        print(\"*****\")\n",
    "    elif a==2:\n",
    "        print(\"*\")\n",
    "    elif a==3:\n",
    "        print(\"*****\")\n",
    "    elif a==4:\n",
    "        print(\"*\")\n",
    "    elif a==5:\n",
    "        print(\"*\")    \n",
    "    a=a+1"
   ]
  },
  {
   "cell_type": "code",
   "execution_count": 62,
   "id": "91db2905",
   "metadata": {},
   "outputs": [
    {
     "name": "stdout",
     "output_type": "stream",
     "text": [
      "  *****\n",
      "*      \n",
      "*      \n",
      "*   ***\n",
      "*   * *\n",
      "*   * *\n",
      " *  * *\n"
     ]
    }
   ],
   "source": [
    "# To create a pattern G\n",
    "a=1\n",
    "while a<=7:\n",
    "    if a==1:\n",
    "        print(\"  *****\")\n",
    "    elif a==2:\n",
    "        print(\"*      \")\n",
    "    elif a==3:\n",
    "        print(\"*      \")\n",
    "    elif a==4:\n",
    "        print(\"*   ***\")\n",
    "    elif a==5:\n",
    "        print(\"*   * *\")\n",
    "    elif a==6:\n",
    "        print(\"*   * *\")\n",
    "    elif a==7:\n",
    "        print(\" *  * *\")\n",
    "    a=a+1"
   ]
  },
  {
   "cell_type": "code",
   "execution_count": 63,
   "id": "4c950be9",
   "metadata": {},
   "outputs": [
    {
     "name": "stdout",
     "output_type": "stream",
     "text": [
      "*   *\n",
      "*   *\n",
      "*****\n",
      "*   *\n",
      "*   *\n"
     ]
    }
   ],
   "source": [
    "# To create pattern H\n",
    "a=1\n",
    "while a<=5:\n",
    "    if a==1:\n",
    "        print(\"*   *\")\n",
    "    elif a==2:\n",
    "        print(\"*   *\")\n",
    "    elif a==3:\n",
    "        print(\"*****\")\n",
    "    elif a==4:\n",
    "        print(\"*   *\")\n",
    "    elif a==5:\n",
    "        print(\"*   *\")\n",
    "    a=a+1"
   ]
  },
  {
   "cell_type": "code",
   "execution_count": 64,
   "id": "dd0a1d0a",
   "metadata": {},
   "outputs": [
    {
     "name": "stdout",
     "output_type": "stream",
     "text": [
      "*****\n",
      "  *  \n",
      "  *  \n",
      "  *  \n",
      "*****\n"
     ]
    }
   ],
   "source": [
    "# To create pattern I\n",
    "a=1\n",
    "while a<=5:\n",
    "    if a==1:\n",
    "        print(\"*****\")\n",
    "    elif a==2:\n",
    "        print(\"  *  \")\n",
    "    elif a==3:\n",
    "        print(\"  *  \")\n",
    "    elif a==4:\n",
    "        print(\"  *  \")\n",
    "    elif a==5:\n",
    "        print(\"*****\")\n",
    "    a=a+1"
   ]
  },
  {
   "cell_type": "code",
   "execution_count": 65,
   "id": "90e9f238",
   "metadata": {},
   "outputs": [
    {
     "name": "stdout",
     "output_type": "stream",
     "text": [
      "*******\n",
      "   *   \n",
      "   *   \n",
      "   *   \n",
      " * *   \n",
      "  **   \n"
     ]
    }
   ],
   "source": [
    "# To create pattern J\n",
    "a=1\n",
    "while a<=6:\n",
    "    if a==1:\n",
    "        print(\"*******\")\n",
    "    elif a==2:\n",
    "        print(\"   *   \")\n",
    "    elif a==3:\n",
    "        print(\"   *   \")\n",
    "    elif a==4:\n",
    "        print(\"   *   \")\n",
    "    elif a==5:\n",
    "        print(\" * *   \")\n",
    "    elif a==6:\n",
    "        print(\"  **   \")\n",
    "    a=a+1"
   ]
  },
  {
   "cell_type": "code",
   "execution_count": 66,
   "id": "b54d3b51",
   "metadata": {},
   "outputs": [
    {
     "name": "stdout",
     "output_type": "stream",
     "text": [
      "*     *\n",
      "*  *   \n",
      "**     \n",
      "**     \n",
      "**     \n",
      "*  *   \n",
      "*     *\n"
     ]
    }
   ],
   "source": [
    "# To create pattern K\n",
    "a=1\n",
    "while a<=7:\n",
    "    if a==1:\n",
    "        print(\"*     *\")\n",
    "    elif a==2:\n",
    "        print(\"*  *   \")\n",
    "    elif a==3:\n",
    "        print(\"**     \")\n",
    "    elif a==4:\n",
    "        print(\"**     \")\n",
    "    elif a==5:\n",
    "        print(\"**     \")       \n",
    "    elif a==6:\n",
    "        print(\"*  *   \")\n",
    "    elif a==7:\n",
    "        print(\"*     *\")\n",
    "    a=a+1"
   ]
  },
  {
   "cell_type": "code",
   "execution_count": 67,
   "id": "950eee02",
   "metadata": {},
   "outputs": [
    {
     "name": "stdout",
     "output_type": "stream",
     "text": [
      "*    \n",
      "*    \n",
      "*    \n",
      "*    \n",
      "*****\n"
     ]
    }
   ],
   "source": [
    "# To create pattern L\n",
    "a=1\n",
    "while a<=5:\n",
    "    if a==1:\n",
    "        print(\"*    \")\n",
    "    elif a==2:\n",
    "        print(\"*    \")\n",
    "    elif a==3:\n",
    "        print(\"*    \")\n",
    "    elif a==4:\n",
    "        print(\"*    \")\n",
    "    elif a==5:\n",
    "        print(\"*****\")\n",
    "    a=a+1"
   ]
  },
  {
   "cell_type": "code",
   "execution_count": 68,
   "id": "3a8c35b0",
   "metadata": {},
   "outputs": [
    {
     "name": "stdout",
     "output_type": "stream",
     "text": [
      "*     *\n",
      "**   **\n",
      "*  *  *\n",
      "*     *\n",
      "*     *\n"
     ]
    }
   ],
   "source": [
    "# To create pattern M\n",
    "a=1\n",
    "while a<=5:\n",
    "    if a==1:\n",
    "        print(\"*     *\")\n",
    "    elif a==2:\n",
    "        print(\"**   **\")\n",
    "    elif a==3:\n",
    "        print(\"*  *  *\")\n",
    "    elif a==4:\n",
    "        print(\"*     *\")\n",
    "    elif a==5:\n",
    "        print(\"*     *\")\n",
    "    a=a+1"
   ]
  },
  {
   "cell_type": "code",
   "execution_count": 69,
   "id": "54751c72",
   "metadata": {},
   "outputs": [
    {
     "name": "stdout",
     "output_type": "stream",
     "text": [
      "*   *\n",
      "**  *\n",
      "* * *\n",
      "*  **\n",
      "*   *\n"
     ]
    }
   ],
   "source": [
    "# To create pattern N\n",
    "a=1\n",
    "while a<=5:\n",
    "    if a==1:\n",
    "        print(\"*   *\")\n",
    "    elif a==2:\n",
    "        print(\"**  *\")\n",
    "    elif a==3:\n",
    "        print(\"* * *\")\n",
    "    elif a==4:\n",
    "        print(\"*  **\")\n",
    "    elif a==5:\n",
    "        print(\"*   *\")\n",
    "    a=a+1"
   ]
  },
  {
   "cell_type": "code",
   "execution_count": 70,
   "id": "8d52cdba",
   "metadata": {},
   "outputs": [
    {
     "name": "stdout",
     "output_type": "stream",
     "text": [
      " *** \n",
      "*   *\n",
      "*   *\n",
      "*   *\n",
      " *** \n"
     ]
    }
   ],
   "source": [
    "# To create pattern O\n",
    "a=1\n",
    "while a<=5:\n",
    "    if a==1:\n",
    "        print(\" *** \")\n",
    "    elif a==2:\n",
    "        print(\"*   *\")\n",
    "    elif a==3:\n",
    "        print(\"*   *\")\n",
    "    elif a==4:\n",
    "        print(\"*   *\")\n",
    "    elif a==5:\n",
    "        print(\" *** \")\n",
    "    a=a+1"
   ]
  },
  {
   "cell_type": "code",
   "execution_count": 71,
   "id": "2460d04d",
   "metadata": {},
   "outputs": [
    {
     "name": "stdout",
     "output_type": "stream",
     "text": [
      "***   \n",
      "*   * \n",
      "*    *\n",
      "*   * \n",
      "***   \n",
      "*     \n",
      "*     \n"
     ]
    }
   ],
   "source": [
    "# To create pattern P\n",
    "a=1\n",
    "while a<=7:\n",
    "    if a==1:\n",
    "        print(\"***   \")\n",
    "    elif a==2:\n",
    "        print(\"*   * \")\n",
    "    elif a==3:\n",
    "        print(\"*    *\")\n",
    "    elif a==4:\n",
    "        print(\"*   * \")\n",
    "    elif a==5:\n",
    "        print(\"***   \")\n",
    "    elif a==6:\n",
    "        print(\"*     \")\n",
    "    elif a==7:\n",
    "        print(\"*     \")\n",
    "    a=a+1"
   ]
  },
  {
   "cell_type": "code",
   "execution_count": 72,
   "id": "731d6743",
   "metadata": {},
   "outputs": [
    {
     "name": "stdout",
     "output_type": "stream",
     "text": [
      " ***** \n",
      "*     *\n",
      "*  *  *\n",
      "*    **\n",
      " ******\n",
      "       *\n"
     ]
    }
   ],
   "source": [
    "# To create pattern Q\n",
    "a=1\n",
    "while a<=6:\n",
    "    if a==1:\n",
    "        print(\" ***** \")\n",
    "    elif a==2:\n",
    "        print(\"*     *\")\n",
    "    elif a==3:\n",
    "        print(\"*  *  *\")\n",
    "    elif a==4:\n",
    "        print(\"*    **\")\n",
    "    elif a==5:\n",
    "        print(\" ******\")\n",
    "    elif a==6:\n",
    "        print(\"       *\")\n",
    "    a=a+1"
   ]
  },
  {
   "cell_type": "code",
   "execution_count": 73,
   "id": "0859b0cc",
   "metadata": {},
   "outputs": [
    {
     "name": "stdout",
     "output_type": "stream",
     "text": [
      "***   \n",
      "*   * \n",
      "*    *\n",
      "*   * \n",
      "***   \n",
      "**    \n",
      "*  *  \n",
      "*    *\n"
     ]
    }
   ],
   "source": [
    "# To create pattern R\n",
    "a=1\n",
    "while a<=8:\n",
    "    if a==1:\n",
    "        print(\"***   \")\n",
    "    elif a==2:\n",
    "        print(\"*   * \")\n",
    "    elif a==3:\n",
    "        print(\"*    *\")\n",
    "    elif a==4:\n",
    "        print(\"*   * \")\n",
    "    elif a==5:\n",
    "        print(\"***   \")\n",
    "    elif a==6:\n",
    "        print(\"**    \")\n",
    "    elif a==7:\n",
    "        print(\"*  *  \")\n",
    "    elif a==8:\n",
    "        print(\"*    *\")\n",
    "    a=a+1"
   ]
  },
  {
   "cell_type": "code",
   "execution_count": 74,
   "id": "ce3920f8",
   "metadata": {},
   "outputs": [
    {
     "name": "stdout",
     "output_type": "stream",
     "text": [
      " ******\n",
      "*      \n",
      "  *    \n",
      "    *  \n",
      "      * \n",
      "       *\n",
      "******* \n"
     ]
    }
   ],
   "source": [
    "# To create pattern S\n",
    "a=1\n",
    "while a<=7:\n",
    "    if a==1:\n",
    "        print(\" ******\")\n",
    "    elif a==2:\n",
    "        print(\"*      \")\n",
    "    elif a==3:\n",
    "        print(\"  *    \")\n",
    "    elif a==4:\n",
    "        print(\"    *  \")    \n",
    "    elif a==5:\n",
    "        print(\"      * \")\n",
    "    elif a==6:\n",
    "        print(\"       *\")\n",
    "    elif a==7:\n",
    "        print(\"******* \")\n",
    "    a=a+1"
   ]
  },
  {
   "cell_type": "code",
   "execution_count": 75,
   "id": "5a7ef7d7",
   "metadata": {},
   "outputs": [
    {
     "name": "stdout",
     "output_type": "stream",
     "text": [
      "*****\n",
      "  *  \n",
      "  *  \n",
      "  *  \n",
      "  *  \n"
     ]
    }
   ],
   "source": [
    "# To create pattern T\n",
    "a=1\n",
    "while a<=5:\n",
    "    if a==1:\n",
    "        print(\"*****\")\n",
    "    elif a==2:\n",
    "        print(\"  *  \")\n",
    "    elif a==3:\n",
    "        print(\"  *  \")\n",
    "    elif a==4:\n",
    "        print(\"  *  \")\n",
    "    elif a==5:\n",
    "        print(\"  *  \")\n",
    "    a=a+1"
   ]
  },
  {
   "cell_type": "code",
   "execution_count": 76,
   "id": "93657eb8",
   "metadata": {},
   "outputs": [
    {
     "name": "stdout",
     "output_type": "stream",
     "text": [
      "*   *\n",
      "*   *\n",
      "*   *\n",
      "*   *\n",
      " *** \n"
     ]
    }
   ],
   "source": [
    "# To create pattern U\n",
    "a=1\n",
    "while a<=5:\n",
    "    if a==1:\n",
    "        print(\"*   *\")\n",
    "    elif a==2:\n",
    "        print(\"*   *\")\n",
    "    elif a==3:\n",
    "        print(\"*   *\")\n",
    "    elif a==4:\n",
    "        print(\"*   *\")\n",
    "    elif a==5:\n",
    "        print(\" *** \")\n",
    "    a=a+1"
   ]
  },
  {
   "cell_type": "code",
   "execution_count": 78,
   "id": "e147c365",
   "metadata": {},
   "outputs": [
    {
     "name": "stdout",
     "output_type": "stream",
     "text": [
      "*   *\n",
      "*   *\n",
      "*   *\n",
      " * * \n",
      "  *  \n"
     ]
    }
   ],
   "source": [
    "# To create pattern V\n",
    "a=1\n",
    "while a<=5:\n",
    "    if a==1:\n",
    "        print(\"*   *\")\n",
    "    elif a==2:\n",
    "        print(\"*   *\")\n",
    "    elif a==3:\n",
    "        print(\"*   *\")\n",
    "    elif a==4:\n",
    "        print(\" * * \")\n",
    "    elif a==5:\n",
    "        print(\"  *  \")\n",
    "    a=a+1"
   ]
  },
  {
   "cell_type": "code",
   "execution_count": 79,
   "id": "da5f4114",
   "metadata": {},
   "outputs": [
    {
     "name": "stdout",
     "output_type": "stream",
     "text": [
      "*    *    *\n",
      "*    *    *\n",
      "*    *    *\n",
      " * *   * * \n",
      "  *     *  \n"
     ]
    }
   ],
   "source": [
    "# To create pattern W\n",
    "a=1\n",
    "while a<=5:\n",
    "    if a==1:\n",
    "        print(\"*    *    *\")\n",
    "    elif a==2: \n",
    "        print(\"*    *    *\")\n",
    "    elif a==3:\n",
    "        print(\"*    *    *\")\n",
    "    elif a==4:\n",
    "        print(\" * *   * * \")\n",
    "    elif a==5:\n",
    "        print(\"  *     *  \")\n",
    "    a=a+1"
   ]
  },
  {
   "cell_type": "code",
   "execution_count": 80,
   "id": "6958ab8b",
   "metadata": {},
   "outputs": [
    {
     "name": "stdout",
     "output_type": "stream",
     "text": [
      "*         *\n",
      "  *     *  \n",
      "     *     \n",
      "   *   *   \n",
      "*         *\n"
     ]
    }
   ],
   "source": [
    "# To create pattern X\n",
    "a=1\n",
    "while a<=5:\n",
    "    if a==1:\n",
    "        print(\"*         *\")\n",
    "    elif a==2: \n",
    "        print(\"  *     *  \")\n",
    "    elif a==3:\n",
    "        print(\"     *     \")\n",
    "    elif a==4:\n",
    "        print(\"   *   *   \")\n",
    "    elif a==5:\n",
    "        print(\"*         *\")\n",
    "    a=a+1"
   ]
  },
  {
   "cell_type": "code",
   "execution_count": 81,
   "id": "2249de20",
   "metadata": {},
   "outputs": [
    {
     "name": "stdout",
     "output_type": "stream",
     "text": [
      "*         *\n",
      "  *     *  \n",
      "     *     \n",
      "     *     \n",
      "     *     \n"
     ]
    }
   ],
   "source": [
    "# To create pattern Y\n",
    "a=1\n",
    "while a<=5:\n",
    "    if a==1:\n",
    "        print(\"*         *\")\n",
    "    elif a==2: \n",
    "        print(\"  *     *  \")\n",
    "    elif a==3:\n",
    "        print(\"     *     \")\n",
    "    elif a==4:\n",
    "        print(\"     *     \")\n",
    "    elif a==5:\n",
    "        print(\"     *     \")\n",
    "    a=a+1"
   ]
  },
  {
   "cell_type": "code",
   "execution_count": 82,
   "id": "2eed6c41",
   "metadata": {},
   "outputs": [
    {
     "name": "stdout",
     "output_type": "stream",
     "text": [
      "***********\n",
      "         * \n",
      "        *  \n",
      "      *    \n",
      "     *     \n",
      "   *       \n",
      "***********\n"
     ]
    }
   ],
   "source": [
    "# To create pattern Z\n",
    "a=1\n",
    "while a<=7:\n",
    "    if a==1:\n",
    "        print(\"***********\")\n",
    "    elif a==2: \n",
    "        print(\"         * \")\n",
    "    elif a==3:\n",
    "        print(\"        *  \")\n",
    "    elif a==4:\n",
    "        print(\"      *    \")\n",
    "    elif a==5:\n",
    "        print(\"     *     \")\n",
    "    elif a==6:\n",
    "        print(\"   *       \")\n",
    "    elif a==7:\n",
    "        print(\"***********\")\n",
    "    a=a+1"
   ]
  },
  {
   "cell_type": "code",
   "execution_count": null,
   "id": "980c9340",
   "metadata": {},
   "outputs": [],
   "source": []
  }
 ],
 "metadata": {
  "kernelspec": {
   "display_name": "Python 3 (ipykernel)",
   "language": "python",
   "name": "python3"
  },
  "language_info": {
   "codemirror_mode": {
    "name": "ipython",
    "version": 3
   },
   "file_extension": ".py",
   "mimetype": "text/x-python",
   "name": "python",
   "nbconvert_exporter": "python",
   "pygments_lexer": "ipython3",
   "version": "3.9.13"
  }
 },
 "nbformat": 4,
 "nbformat_minor": 5
}
