{
 "cells": [
  {
   "cell_type": "code",
   "execution_count": 1,
   "id": "8e5f4d69",
   "metadata": {},
   "outputs": [],
   "source": [
    "# sorting of the complete rows of an array based on the first column elements\n",
    "# Hint: can use np.argsort() and slicing based indexing"
   ]
  },
  {
   "cell_type": "code",
   "execution_count": 48,
   "id": "7e64f8bf",
   "metadata": {},
   "outputs": [],
   "source": [
    "import numpy as np\n",
    "x=np.array([[5,6,2,7],[1,7,3,8],[2,5,8,9],[0,5,7,6]])"
   ]
  },
  {
   "cell_type": "code",
   "execution_count": 50,
   "id": "5b1b8418",
   "metadata": {},
   "outputs": [
    {
     "data": {
      "text/plain": [
       "array([[5, 6, 2, 7],\n",
       "       [1, 7, 3, 8],\n",
       "       [2, 5, 8, 9],\n",
       "       [0, 5, 7, 6]])"
      ]
     },
     "execution_count": 50,
     "metadata": {},
     "output_type": "execute_result"
    }
   ],
   "source": [
    "x"
   ]
  },
  {
   "cell_type": "code",
   "execution_count": 51,
   "id": "7ad19b09",
   "metadata": {},
   "outputs": [
    {
     "data": {
      "text/plain": [
       "array([5, 1, 2, 0])"
      ]
     },
     "execution_count": 51,
     "metadata": {},
     "output_type": "execute_result"
    }
   ],
   "source": [
    "# first column elements using indexing based slicing\n",
    "x[:,0]"
   ]
  },
  {
   "cell_type": "code",
   "execution_count": 52,
   "id": "82b785f3",
   "metadata": {},
   "outputs": [
    {
     "data": {
      "text/plain": [
       "array([3, 1, 2, 0], dtype=int64)"
      ]
     },
     "execution_count": 52,
     "metadata": {},
     "output_type": "execute_result"
    }
   ],
   "source": [
    "# sorted indexes based on first column elements\n",
    "np.argsort(x[:,0])"
   ]
  },
  {
   "cell_type": "code",
   "execution_count": 53,
   "id": "70a392b9",
   "metadata": {},
   "outputs": [
    {
     "data": {
      "text/plain": [
       "array([[0, 5, 7, 6],\n",
       "       [1, 7, 3, 8],\n",
       "       [2, 5, 8, 9],\n",
       "       [5, 6, 2, 7]])"
      ]
     },
     "execution_count": 53,
     "metadata": {},
     "output_type": "execute_result"
    }
   ],
   "source": [
    "# sorted array based on the requirement\n",
    "x[np.argsort(x[:,0])]"
   ]
  },
  {
   "cell_type": "code",
   "execution_count": null,
   "id": "6b281717",
   "metadata": {},
   "outputs": [],
   "source": []
  }
 ],
 "metadata": {
  "kernelspec": {
   "display_name": "Python 3 (ipykernel)",
   "language": "python",
   "name": "python3"
  },
  "language_info": {
   "codemirror_mode": {
    "name": "ipython",
    "version": 3
   },
   "file_extension": ".py",
   "mimetype": "text/x-python",
   "name": "python",
   "nbconvert_exporter": "python",
   "pygments_lexer": "ipython3",
   "version": "3.9.13"
  }
 },
 "nbformat": 4,
 "nbformat_minor": 5
}
