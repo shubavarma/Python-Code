{
 "cells": [
  {
   "cell_type": "code",
   "execution_count": 1,
   "id": "caecd802",
   "metadata": {},
   "outputs": [],
   "source": [
    "import stringmethod as sm"
   ]
  },
  {
   "cell_type": "code",
   "execution_count": 7,
   "id": "9bb0d365",
   "metadata": {},
   "outputs": [
    {
     "data": {
      "text/plain": [
       "'ABCabc123 '"
      ]
     },
     "execution_count": 7,
     "metadata": {},
     "output_type": "execute_result"
    }
   ],
   "source": [
    "sm.swapcase(\"abcABC123 \")"
   ]
  },
  {
   "cell_type": "code",
   "execution_count": 8,
   "id": "5a5fc56e",
   "metadata": {},
   "outputs": [
    {
     "data": {
      "text/plain": [
       "'ABCABD'"
      ]
     },
     "execution_count": 8,
     "metadata": {},
     "output_type": "execute_result"
    }
   ],
   "source": [
    "sm.upper(\"abcABD\")"
   ]
  },
  {
   "cell_type": "code",
   "execution_count": 9,
   "id": "f6c76ef2",
   "metadata": {},
   "outputs": [
    {
     "data": {
      "text/plain": [
       "'A12BCABD'"
      ]
     },
     "execution_count": 9,
     "metadata": {},
     "output_type": "execute_result"
    }
   ],
   "source": [
    "sm.upper(\"a12bcABD\")"
   ]
  },
  {
   "cell_type": "code",
   "execution_count": 10,
   "id": "1d16050b",
   "metadata": {},
   "outputs": [
    {
     "data": {
      "text/plain": [
       "'abcabd'"
      ]
     },
     "execution_count": 10,
     "metadata": {},
     "output_type": "execute_result"
    }
   ],
   "source": [
    "sm.lower(\"abcABD\")"
   ]
  },
  {
   "cell_type": "code",
   "execution_count": 11,
   "id": "92cf3e8d",
   "metadata": {},
   "outputs": [
    {
     "data": {
      "text/plain": [
       "'12abdabd'"
      ]
     },
     "execution_count": 11,
     "metadata": {},
     "output_type": "execute_result"
    }
   ],
   "source": [
    "sm.lower(\"12abdABD\")"
   ]
  },
  {
   "cell_type": "code",
   "execution_count": 12,
   "id": "ed9c4aff",
   "metadata": {},
   "outputs": [
    {
     "data": {
      "text/plain": [
       "False"
      ]
     },
     "execution_count": 12,
     "metadata": {},
     "output_type": "execute_result"
    }
   ],
   "source": [
    "sm.isUpper(\"abcABD\")"
   ]
  },
  {
   "cell_type": "code",
   "execution_count": 13,
   "id": "03390ec7",
   "metadata": {},
   "outputs": [
    {
     "data": {
      "text/plain": [
       "True"
      ]
     },
     "execution_count": 13,
     "metadata": {},
     "output_type": "execute_result"
    }
   ],
   "source": [
    "sm.isUpper(\"12ABCABD\")"
   ]
  },
  {
   "cell_type": "code",
   "execution_count": 14,
   "id": "35bd71f7",
   "metadata": {},
   "outputs": [
    {
     "data": {
      "text/plain": [
       "False"
      ]
     },
     "execution_count": 14,
     "metadata": {},
     "output_type": "execute_result"
    }
   ],
   "source": [
    "sm.isLower(\"abcABD\")"
   ]
  },
  {
   "cell_type": "code",
   "execution_count": 15,
   "id": "57d567c6",
   "metadata": {},
   "outputs": [
    {
     "data": {
      "text/plain": [
       "True"
      ]
     },
     "execution_count": 15,
     "metadata": {},
     "output_type": "execute_result"
    }
   ],
   "source": [
    "sm.isLower(\"12abcabd\")"
   ]
  },
  {
   "cell_type": "code",
   "execution_count": 16,
   "id": "8c8ee921",
   "metadata": {},
   "outputs": [
    {
     "data": {
      "text/plain": [
       "True"
      ]
     },
     "execution_count": 16,
     "metadata": {},
     "output_type": "execute_result"
    }
   ],
   "source": [
    "sm.isDigit(\"12345\")"
   ]
  },
  {
   "cell_type": "code",
   "execution_count": 17,
   "id": "9872f00a",
   "metadata": {},
   "outputs": [
    {
     "data": {
      "text/plain": [
       "False"
      ]
     },
     "execution_count": 17,
     "metadata": {},
     "output_type": "execute_result"
    }
   ],
   "source": [
    "sm.isDigit(\"12aBC\")"
   ]
  },
  {
   "cell_type": "code",
   "execution_count": 18,
   "id": "7d17324d",
   "metadata": {},
   "outputs": [
    {
     "data": {
      "text/plain": [
       "False"
      ]
     },
     "execution_count": 18,
     "metadata": {},
     "output_type": "execute_result"
    }
   ],
   "source": [
    "sm.isAlpha(\"12aBC\")"
   ]
  },
  {
   "cell_type": "code",
   "execution_count": 2,
   "id": "dc819876",
   "metadata": {},
   "outputs": [
    {
     "data": {
      "text/plain": [
       "True"
      ]
     },
     "execution_count": 2,
     "metadata": {},
     "output_type": "execute_result"
    }
   ],
   "source": [
    "sm.isAlpha(\"ADaBC\")"
   ]
  },
  {
   "cell_type": "code",
   "execution_count": 19,
   "id": "cc7b7925",
   "metadata": {},
   "outputs": [
    {
     "data": {
      "text/plain": [
       "True"
      ]
     },
     "execution_count": 19,
     "metadata": {},
     "output_type": "execute_result"
    }
   ],
   "source": [
    "sm.isAlNum(\"12aBC\")"
   ]
  },
  {
   "cell_type": "code",
   "execution_count": 20,
   "id": "62ab21ba",
   "metadata": {},
   "outputs": [
    {
     "data": {
      "text/plain": [
       "False"
      ]
     },
     "execution_count": 20,
     "metadata": {},
     "output_type": "execute_result"
    }
   ],
   "source": [
    "sm.isAlNum(\"12aBC &\")"
   ]
  },
  {
   "cell_type": "code",
   "execution_count": 21,
   "id": "a29ed1f3",
   "metadata": {},
   "outputs": [
    {
     "data": {
      "text/plain": [
       "'Python Java 12py 13JAVA'"
      ]
     },
     "execution_count": 21,
     "metadata": {},
     "output_type": "execute_result"
    }
   ],
   "source": [
    "sm.capitalize(\"Python java 12py 13JAVA\")"
   ]
  },
  {
   "cell_type": "code",
   "execution_count": 22,
   "id": "aca4e3ce",
   "metadata": {},
   "outputs": [
    {
     "data": {
      "text/plain": [
       "'Python Java 1234Py 13;:Java '"
      ]
     },
     "execution_count": 22,
     "metadata": {},
     "output_type": "execute_result"
    }
   ],
   "source": [
    "sm.title(\"Python java 1234py 13;:JAVA\")"
   ]
  },
  {
   "cell_type": "code",
   "execution_count": 2,
   "id": "dfb830c0",
   "metadata": {},
   "outputs": [
    {
     "data": {
      "text/plain": [
       "'Python Java 1234 13;:Java'"
      ]
     },
     "execution_count": 2,
     "metadata": {},
     "output_type": "execute_result"
    }
   ],
   "source": [
    "sm.title(\"Python java 1234 13;:JAVA\")"
   ]
  },
  {
   "cell_type": "code",
   "execution_count": 24,
   "id": "be59ed2e",
   "metadata": {},
   "outputs": [
    {
     "data": {
      "text/plain": [
       "True"
      ]
     },
     "execution_count": 24,
     "metadata": {},
     "output_type": "execute_result"
    }
   ],
   "source": [
    "sm.isTitle(\"Python Java 1234 13;:Java\")"
   ]
  },
  {
   "cell_type": "code",
   "execution_count": 25,
   "id": "2a9d7a5b",
   "metadata": {},
   "outputs": [
    {
     "data": {
      "text/plain": [
       "False"
      ]
     },
     "execution_count": 25,
     "metadata": {},
     "output_type": "execute_result"
    }
   ],
   "source": [
    "sm.isTitle(\"python Java 1234 13;:Java\")"
   ]
  },
  {
   "cell_type": "code",
   "execution_count": 26,
   "id": "5d159bab",
   "metadata": {},
   "outputs": [
    {
     "data": {
      "text/plain": [
       "False"
      ]
     },
     "execution_count": 26,
     "metadata": {},
     "output_type": "execute_result"
    }
   ],
   "source": [
    "sm.isTitle(\"Python Java 1ja 13;:Java\")"
   ]
  },
  {
   "cell_type": "code",
   "execution_count": null,
   "id": "fb5ec179",
   "metadata": {},
   "outputs": [],
   "source": []
  }
 ],
 "metadata": {
  "kernelspec": {
   "display_name": "Python 3 (ipykernel)",
   "language": "python",
   "name": "python3"
  },
  "language_info": {
   "codemirror_mode": {
    "name": "ipython",
    "version": 3
   },
   "file_extension": ".py",
   "mimetype": "text/x-python",
   "name": "python",
   "nbconvert_exporter": "python",
   "pygments_lexer": "ipython3",
   "version": "3.9.13"
  }
 },
 "nbformat": 4,
 "nbformat_minor": 5
}
