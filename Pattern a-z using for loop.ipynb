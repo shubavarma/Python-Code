{
 "cells": [
  {
   "cell_type": "code",
   "execution_count": 105,
   "id": "eed6aba1",
   "metadata": {},
   "outputs": [
    {
     "name": "stdout",
     "output_type": "stream",
     "text": [
      " ***** \n",
      "*     *\n",
      "*     *\n",
      "*     *\n",
      " ******\n",
      "       *\n"
     ]
    }
   ],
   "source": [
    "# To create pattern a\n",
    "a=1\n",
    "for a in range(1,7):\n",
    "    if a==1:\n",
    "        print(\" ***** \")\n",
    "    elif a==2:\n",
    "        print(\"*     *\")\n",
    "    elif a==3:\n",
    "        print(\"*     *\")\n",
    "    elif a==4:\n",
    "        print(\"*     *\")\n",
    "    elif a==5:\n",
    "        print(\" ******\")\n",
    "    elif a==6:\n",
    "        print(\"       *\")\n",
    "    a=a+1"
   ]
  },
  {
   "cell_type": "code",
   "execution_count": 106,
   "id": "7b39eb04",
   "metadata": {},
   "outputs": [
    {
     "name": "stdout",
     "output_type": "stream",
     "text": [
      "*    \n",
      "*    \n",
      "*    \n",
      "****\n",
      "*   *\n",
      "*   *\n",
      "****\n"
     ]
    }
   ],
   "source": [
    "# To create pattern b\n",
    "a=1\n",
    "for a in range(1,8):\n",
    "    if a==1:\n",
    "        print(\"*    \")\n",
    "    elif a==2:\n",
    "        print(\"*    \")\n",
    "    elif a==3:\n",
    "        print(\"*    \")\n",
    "    elif a==4:\n",
    "        print(\"****\")\n",
    "    elif a==5:\n",
    "        print(\"*   *\")\n",
    "    elif a==6:\n",
    "        print(\"*   *\")\n",
    "    elif a==7:\n",
    "        print(\"****\")\n",
    "    a=a+1"
   ]
  },
  {
   "cell_type": "code",
   "execution_count": 107,
   "id": "10172089",
   "metadata": {},
   "outputs": [
    {
     "name": "stdout",
     "output_type": "stream",
     "text": [
      " ****\n",
      "*    \n",
      "*    \n",
      "*    \n",
      " ****\n"
     ]
    }
   ],
   "source": [
    "# To create pattern c\n",
    "a=1\n",
    "for a in range(1,6):\n",
    "    if a==1:\n",
    "        print(\" ****\")\n",
    "    elif a==2:\n",
    "        print(\"*    \")\n",
    "    elif a==3:\n",
    "        print(\"*    \")    \n",
    "    elif a==4:\n",
    "        print(\"*    \")\n",
    "    elif a==5:\n",
    "        print(\" ****\")\n",
    "    a=a+1"
   ]
  },
  {
   "cell_type": "code",
   "execution_count": 108,
   "id": "1807955f",
   "metadata": {},
   "outputs": [
    {
     "name": "stdout",
     "output_type": "stream",
     "text": [
      "    *\n",
      "    *\n",
      "    *\n",
      " ****\n",
      "*   *\n",
      "*   *\n",
      " ****\n"
     ]
    }
   ],
   "source": [
    "# To create pattern d\n",
    "a=1\n",
    "for a in range(1,8):\n",
    "    if a==1:\n",
    "        print(\"    *\")\n",
    "    elif a==2:\n",
    "        print(\"    *\")\n",
    "    elif a==3:\n",
    "        print(\"    *\")\n",
    "    elif a==4:\n",
    "        print(\" ****\")\n",
    "    elif a==5:\n",
    "        print(\"*   *\")\n",
    "    elif a==6:\n",
    "        print(\"*   *\")\n",
    "    elif a==7:\n",
    "        print(\" ****\")\n",
    "    a=a+1"
   ]
  },
  {
   "cell_type": "code",
   "execution_count": 109,
   "id": "69a63d1b",
   "metadata": {},
   "outputs": [
    {
     "name": "stdout",
     "output_type": "stream",
     "text": [
      " ****\n",
      "*    *\n",
      "******\n",
      "*    \n",
      " *****\n"
     ]
    }
   ],
   "source": [
    "# To create pattern e\n",
    "a=1\n",
    "for a in range(1,6):\n",
    "    if a==1:\n",
    "        print(\" ****\")\n",
    "    elif a==2:\n",
    "        print(\"*    *\")\n",
    "    elif a==3:\n",
    "        print(\"******\")    \n",
    "    elif a==4:\n",
    "        print(\"*    \")\n",
    "    elif a==5:\n",
    "        print(\" *****\")\n",
    "    a=a+1"
   ]
  },
  {
   "cell_type": "code",
   "execution_count": 110,
   "id": "4eacd657",
   "metadata": {},
   "outputs": [
    {
     "name": "stdout",
     "output_type": "stream",
     "text": [
      " ****\n",
      "*\n",
      "*****\n",
      "*\n",
      "*\n"
     ]
    }
   ],
   "source": [
    "# To create a pattern f\n",
    "a=1\n",
    "for a in range(1,6):\n",
    "    if a==1:\n",
    "        print(\" ****\")\n",
    "    elif a==2:\n",
    "        print(\"*\")\n",
    "    elif a==3:\n",
    "        print(\"*****\")\n",
    "    elif a==4:\n",
    "        print(\"*\")\n",
    "    elif a==5:\n",
    "        print(\"*\")    \n",
    "    a=a+1"
   ]
  },
  {
   "cell_type": "code",
   "execution_count": 111,
   "id": "b92bb8fb",
   "metadata": {},
   "outputs": [
    {
     "name": "stdout",
     "output_type": "stream",
     "text": [
      " ****\n",
      "*   *\n",
      " ****\n",
      "    *\n",
      "**** \n"
     ]
    }
   ],
   "source": [
    "# To create pattern g\n",
    "a=1\n",
    "for a in range(1,6):\n",
    "    if a==1:\n",
    "        print(\" ****\")\n",
    "    elif a==2:\n",
    "        print(\"*   *\")\n",
    "    elif a==3:\n",
    "        print(\" ****\")\n",
    "    elif a==4:\n",
    "        print(\"    *\")\n",
    "    elif a==5:\n",
    "        print(\"**** \")\n",
    "    a=a+1"
   ]
  },
  {
   "cell_type": "code",
   "execution_count": 112,
   "id": "3dbe6df3",
   "metadata": {},
   "outputs": [
    {
     "name": "stdout",
     "output_type": "stream",
     "text": [
      "*    \n",
      "*    \n",
      "*****\n",
      "*   *\n",
      "*   *\n"
     ]
    }
   ],
   "source": [
    "# To create pattern h\n",
    "a=1\n",
    "for a in range(1,6):\n",
    "    if a==1:\n",
    "        print(\"*    \")\n",
    "    elif a==2:\n",
    "        print(\"*    \")\n",
    "    elif a==3:\n",
    "        print(\"*****\")\n",
    "    elif a==4:\n",
    "        print(\"*   *\")\n",
    "    elif a==5:\n",
    "        print(\"*   *\")\n",
    "    a=a+1"
   ]
  },
  {
   "cell_type": "code",
   "execution_count": 113,
   "id": "9d8d4698",
   "metadata": {},
   "outputs": [
    {
     "name": "stdout",
     "output_type": "stream",
     "text": [
      "  *  \n",
      "     \n",
      "  |  \n",
      "  |  \n",
      "  |  \n"
     ]
    }
   ],
   "source": [
    "# To create pattern i\n",
    "a=1\n",
    "for a in range(1,6):\n",
    "    if a==1:\n",
    "        print(\"  *  \")\n",
    "    elif a==2:\n",
    "        print(\"     \")\n",
    "    elif a==3:\n",
    "        print(\"  |  \")\n",
    "    elif a==4:\n",
    "        print(\"  |  \")\n",
    "    elif a==5:\n",
    "        print(\"  |  \")\n",
    "    a=a+1"
   ]
  },
  {
   "cell_type": "code",
   "execution_count": 115,
   "id": "a98ca35c",
   "metadata": {},
   "outputs": [
    {
     "name": "stdout",
     "output_type": "stream",
     "text": [
      "  *  \n",
      "     \n",
      "  |  \n",
      "  |  \n",
      "  |  \n",
      "* | \n",
      " ** \n"
     ]
    }
   ],
   "source": [
    "# To create pattern j\n",
    "a=1\n",
    "for a in range(1,8):\n",
    "    if a==1:\n",
    "        print(\"  *  \")\n",
    "    elif a==2:\n",
    "        print(\"     \")\n",
    "    elif a==3:\n",
    "        print(\"  |  \")\n",
    "    elif a==4:\n",
    "        print(\"  |  \")\n",
    "    elif a==5:\n",
    "        print(\"  |  \")\n",
    "    elif a==6:\n",
    "        print(\"* | \")\n",
    "    elif a==7:\n",
    "        print(\" ** \")\n",
    "    a=a+1"
   ]
  },
  {
   "cell_type": "code",
   "execution_count": 116,
   "id": "74b78f90",
   "metadata": {},
   "outputs": [
    {
     "name": "stdout",
     "output_type": "stream",
     "text": [
      "*      \n",
      "*     *\n",
      "*  *   \n",
      "**     \n",
      "**     \n",
      "*  *   \n",
      "*     *\n"
     ]
    }
   ],
   "source": [
    "# To create pattern k\n",
    "a=1\n",
    "for a in range(1,8):\n",
    "    if a==1:\n",
    "        print(\"*      \")\n",
    "    elif a==2:\n",
    "        print(\"*     *\")\n",
    "    elif a==3:\n",
    "        print(\"*  *   \")\n",
    "    elif a==4:\n",
    "        print(\"**     \")\n",
    "    elif a==5:\n",
    "        print(\"**     \")       \n",
    "    elif a==6:\n",
    "        print(\"*  *   \")\n",
    "    elif a==7:\n",
    "        print(\"*     *\")\n",
    "    a=a+1"
   ]
  },
  {
   "cell_type": "code",
   "execution_count": 117,
   "id": "8be33875",
   "metadata": {},
   "outputs": [
    {
     "name": "stdout",
     "output_type": "stream",
     "text": [
      "*    \n",
      "*    \n",
      "*    \n",
      "*    \n",
      " ****\n"
     ]
    }
   ],
   "source": [
    "# To create pattern l\n",
    "a=1\n",
    "for a in range(1,6):\n",
    "    if a==1:\n",
    "        print(\"*    \")\n",
    "    elif a==2:\n",
    "        print(\"*    \")\n",
    "    elif a==3:\n",
    "        print(\"*    \")\n",
    "    elif a==4:\n",
    "        print(\"*    \")\n",
    "    elif a==5:\n",
    "        print(\" ****\")\n",
    "    a=a+1"
   ]
  },
  {
   "cell_type": "code",
   "execution_count": 118,
   "id": "a681710b",
   "metadata": {},
   "outputs": [
    {
     "name": "stdout",
     "output_type": "stream",
     "text": [
      "* *     * *\n",
      "*  *   *  *\n",
      "*    *    *\n",
      "*         *\n",
      "*         *\n",
      "*         *\n"
     ]
    }
   ],
   "source": [
    "# To create pattern m\n",
    "a=1\n",
    "for a in range(1,7):\n",
    "    if a==1:\n",
    "        print(\"* *     * *\")\n",
    "    elif a==2:\n",
    "        print(\"*  *   *  *\")\n",
    "    elif a==3:\n",
    "        print(\"*    *    *\")\n",
    "    elif a==4:\n",
    "        print(\"*         *\")\n",
    "    elif a==5:\n",
    "        print(\"*         *\")\n",
    "    elif a==6:\n",
    "        print(\"*         *\")\n",
    "    a=a+1"
   ]
  },
  {
   "cell_type": "code",
   "execution_count": 119,
   "id": "551c0b47",
   "metadata": {},
   "outputs": [
    {
     "name": "stdout",
     "output_type": "stream",
     "text": [
      "* *******  \n",
      "*         *\n",
      "*         *\n",
      "*         *\n",
      "*         *\n"
     ]
    }
   ],
   "source": [
    "# To create pattern n\n",
    "a=1\n",
    "for a in range(1,6):\n",
    "    if a==1:\n",
    "        print(\"* *******  \")\n",
    "    elif a==2:\n",
    "        print(\"*         *\")\n",
    "    elif a==3:\n",
    "        print(\"*         *\")\n",
    "    elif a==4:\n",
    "        print(\"*         *\")\n",
    "    elif a==5:\n",
    "        print(\"*         *\")\n",
    "    a=a+1"
   ]
  },
  {
   "cell_type": "code",
   "execution_count": 120,
   "id": "760694de",
   "metadata": {},
   "outputs": [
    {
     "name": "stdout",
     "output_type": "stream",
     "text": [
      "  ***  \n",
      "*     *\n",
      "*     *\n",
      "*     *\n",
      "  ***  \n"
     ]
    }
   ],
   "source": [
    "# To create pattern o\n",
    "a=1\n",
    "for a in range(1,6):\n",
    "    if a==1:\n",
    "        print(\"  ***  \")\n",
    "    elif a==2:\n",
    "        print(\"*     *\")\n",
    "    elif a==3:\n",
    "        print(\"*     *\")\n",
    "    elif a==4:\n",
    "        print(\"*     *\")\n",
    "    elif a==5:\n",
    "        print(\"  ***  \")\n",
    "    a=a+1"
   ]
  },
  {
   "cell_type": "code",
   "execution_count": 121,
   "id": "bb9f3578",
   "metadata": {},
   "outputs": [
    {
     "name": "stdout",
     "output_type": "stream",
     "text": [
      " **   \n",
      "*   * \n",
      "*    *\n",
      "*   * \n",
      "****  \n",
      "*     \n",
      "*     \n"
     ]
    }
   ],
   "source": [
    "# To create pattern p\n",
    "a=1\n",
    "for a in range(1,8):\n",
    "    if a==1:\n",
    "        print(\" **   \")\n",
    "    elif a==2:\n",
    "        print(\"*   * \")\n",
    "    elif a==3:\n",
    "        print(\"*    *\")\n",
    "    elif a==4:\n",
    "        print(\"*   * \")\n",
    "    elif a==5:\n",
    "        print(\"****  \")\n",
    "    elif a==6:\n",
    "        print(\"*     \")\n",
    "    elif a==7:\n",
    "        print(\"*     \")\n",
    "    a=a+1"
   ]
  },
  {
   "cell_type": "code",
   "execution_count": 122,
   "id": "b17258af",
   "metadata": {},
   "outputs": [
    {
     "name": "stdout",
     "output_type": "stream",
     "text": [
      " ***  \n",
      "*    *\n",
      "*    *\n",
      "*    *\n",
      "  ****\n",
      "     *\n",
      "     *\n"
     ]
    }
   ],
   "source": [
    "# To create pattern q\n",
    "a=1\n",
    "for a in range(1,8):\n",
    "    if a==1:\n",
    "        print(\" ***  \")\n",
    "    elif a==2:\n",
    "        print(\"*    *\")\n",
    "    elif a==3:\n",
    "        print(\"*    *\")\n",
    "    elif a==4:\n",
    "        print(\"*    *\")\n",
    "    elif a==5:\n",
    "        print(\"  ****\")\n",
    "    elif a==6:\n",
    "        print(\"     *\")\n",
    "    elif a==7:\n",
    "        print(\"     *\")\n",
    "    a=a+1"
   ]
  },
  {
   "cell_type": "code",
   "execution_count": 123,
   "id": "4629dcd2",
   "metadata": {},
   "outputs": [
    {
     "name": "stdout",
     "output_type": "stream",
     "text": [
      "*          *\n",
      "  *      *  \n",
      "    *   *   \n",
      "      *     \n",
      "     * *    \n",
      "     ***    \n"
     ]
    }
   ],
   "source": [
    "# To create pattern r\n",
    "a=1\n",
    "for a in range(1,7):\n",
    "    if a==1:\n",
    "        print(\"*          *\")\n",
    "    elif a==2:\n",
    "        print(\"  *      *  \")\n",
    "    elif a==3:\n",
    "        print(\"    *   *   \")    \n",
    "    elif a==4:\n",
    "        print(\"      *     \")\n",
    "    elif a==5:\n",
    "        print(\"     * *    \")\n",
    "    elif a==6:\n",
    "        print(\"     ***    \")\n",
    "\n",
    "    a=a+1"
   ]
  },
  {
   "cell_type": "code",
   "execution_count": 124,
   "id": "926bb7e8",
   "metadata": {},
   "outputs": [
    {
     "name": "stdout",
     "output_type": "stream",
     "text": [
      " ******\n",
      "*      \n",
      "  *    \n",
      "    *  \n",
      "      * \n",
      "       *\n",
      "******* \n"
     ]
    }
   ],
   "source": [
    "# To create pattern s\n",
    "a=1\n",
    "for a in range(1,8):\n",
    "    if a==1:\n",
    "        print(\" ******\")\n",
    "    elif a==2:\n",
    "        print(\"*      \")\n",
    "    elif a==3:\n",
    "        print(\"  *    \")\n",
    "    elif a==4:\n",
    "        print(\"    *  \")    \n",
    "    elif a==5:\n",
    "        print(\"      * \")\n",
    "    elif a==6:\n",
    "        print(\"       *\")\n",
    "    elif a==7:\n",
    "        print(\"******* \")\n",
    "    a=a+1"
   ]
  },
  {
   "cell_type": "code",
   "execution_count": 125,
   "id": "6d5122d4",
   "metadata": {},
   "outputs": [
    {
     "name": "stdout",
     "output_type": "stream",
     "text": [
      "*    \n",
      "*    \n",
      "*    \n",
      "****\n",
      "*    \n",
      "*    \n",
      " ***\n"
     ]
    }
   ],
   "source": [
    "# To create pattern t\n",
    "a=1\n",
    "for a in range(1,8):\n",
    "    if a==1:\n",
    "        print(\"*    \")\n",
    "    elif a==2:\n",
    "        print(\"*    \")\n",
    "    elif a==3:\n",
    "        print(\"*    \")\n",
    "    elif a==4:\n",
    "        print(\"****\")\n",
    "    elif a==5:\n",
    "        print(\"*    \")\n",
    "    elif a==6:\n",
    "        print(\"*    \")\n",
    "    elif a==7:\n",
    "        print(\" ***\")\n",
    "    a=a+1"
   ]
  },
  {
   "cell_type": "code",
   "execution_count": 126,
   "id": "34b16bbd",
   "metadata": {},
   "outputs": [
    {
     "name": "stdout",
     "output_type": "stream",
     "text": [
      "*   *\n",
      "*   *\n",
      "*   *\n",
      " *** \n"
     ]
    }
   ],
   "source": [
    "# To create pattern u\n",
    "a=1\n",
    "for a in range(1,5):\n",
    "    if a==1:\n",
    "        print(\"*   *\")\n",
    "    elif a==2:\n",
    "        print(\"*   *\")\n",
    "    elif a==3:\n",
    "        print(\"*   *\")\n",
    "    elif a==4:\n",
    "        print(\" *** \")\n",
    "    a=a+1"
   ]
  },
  {
   "cell_type": "code",
   "execution_count": 127,
   "id": "2b858aeb",
   "metadata": {},
   "outputs": [
    {
     "name": "stdout",
     "output_type": "stream",
     "text": [
      "*   *\n",
      "*   *\n",
      " * * \n",
      "  *  \n"
     ]
    }
   ],
   "source": [
    "# To create pattern v\n",
    "a=1\n",
    "for a in range(1,5):\n",
    "    if a==1:\n",
    "        print(\"*   *\")\n",
    "    elif a==2:\n",
    "        print(\"*   *\")\n",
    "    elif a==3:\n",
    "        print(\" * * \")\n",
    "    elif a==4:\n",
    "        print(\"  *  \")\n",
    "    a=a+1"
   ]
  },
  {
   "cell_type": "code",
   "execution_count": 128,
   "id": "ef91b76b",
   "metadata": {},
   "outputs": [
    {
     "name": "stdout",
     "output_type": "stream",
     "text": [
      "*   *   *\n",
      "*   *   *\n",
      " * * * * \n",
      "  *   *  \n"
     ]
    }
   ],
   "source": [
    "# To create pattern w\n",
    "a=1\n",
    "for a in range(1,5):\n",
    "    if a==1:\n",
    "        print(\"*   *   *\")\n",
    "    elif a==2:\n",
    "        print(\"*   *   *\")\n",
    "    elif a==3:\n",
    "        print(\" * * * * \")\n",
    "    elif a==4:\n",
    "        print(\"  *   *  \")\n",
    "    a=a+1"
   ]
  },
  {
   "cell_type": "code",
   "execution_count": 102,
   "id": "e8559eff",
   "metadata": {},
   "outputs": [
    {
     "name": "stdout",
     "output_type": "stream",
     "text": [
      "*      *\n",
      " *   * \n",
      "   *    \n",
      " *   *  \n",
      "*      *\n"
     ]
    }
   ],
   "source": [
    "# To create pattern x\n",
    "a=1\n",
    "while a<=5:\n",
    "    if a==1:\n",
    "        print(\"*      *\")\n",
    "    elif a==2: \n",
    "        print(\" *   * \")\n",
    "    elif a==3:\n",
    "        print(\"   *    \")\n",
    "    elif a==4:\n",
    "        print(\" *   *  \")\n",
    "    elif a==5:\n",
    "        print(\"*      *\")\n",
    "    a=a+1"
   ]
  },
  {
   "cell_type": "code",
   "execution_count": 103,
   "id": "e0171e72",
   "metadata": {},
   "outputs": [
    {
     "name": "stdout",
     "output_type": "stream",
     "text": [
      "*      *\n",
      " *   * \n",
      "   *    \n",
      " *      \n",
      "*       \n"
     ]
    }
   ],
   "source": [
    "# To create pattern y\n",
    "a=1\n",
    "while a<=5:\n",
    "    if a==1:\n",
    "        print(\"*      *\")\n",
    "    elif a==2: \n",
    "        print(\" *   * \")\n",
    "    elif a==3:\n",
    "        print(\"   *    \")\n",
    "    elif a==4:\n",
    "        print(\" *      \")\n",
    "    elif a==5:\n",
    "        print(\"*       \")\n",
    "    a=a+1"
   ]
  },
  {
   "cell_type": "code",
   "execution_count": 104,
   "id": "59ce37b9",
   "metadata": {},
   "outputs": [
    {
     "name": "stdout",
     "output_type": "stream",
     "text": [
      "***** \n",
      "    * \n",
      "   *  \n",
      " *    \n",
      "******\n"
     ]
    }
   ],
   "source": [
    "# To create pattern z\n",
    "a=1\n",
    "while a<=5:\n",
    "    if a==1:\n",
    "        print(\"***** \")\n",
    "    elif a==2: \n",
    "        print(\"    * \")\n",
    "    elif a==3:\n",
    "        print(\"   *  \")\n",
    "    elif a==4:\n",
    "        print(\" *    \")\n",
    "    elif a==5:\n",
    "        print(\"******\")\n",
    "    a=a+1"
   ]
  },
  {
   "cell_type": "code",
   "execution_count": null,
   "id": "c091f840",
   "metadata": {},
   "outputs": [],
   "source": []
  }
 ],
 "metadata": {
  "kernelspec": {
   "display_name": "Python 3 (ipykernel)",
   "language": "python",
   "name": "python3"
  },
  "language_info": {
   "codemirror_mode": {
    "name": "ipython",
    "version": 3
   },
   "file_extension": ".py",
   "mimetype": "text/x-python",
   "name": "python",
   "nbconvert_exporter": "python",
   "pygments_lexer": "ipython3",
   "version": "3.9.13"
  }
 },
 "nbformat": 4,
 "nbformat_minor": 5
}
