{
 "cells": [
  {
   "cell_type": "code",
   "execution_count": 10,
   "id": "7d51b41c",
   "metadata": {},
   "outputs": [
    {
     "name": "stdout",
     "output_type": "stream",
     "text": [
      "Type the string to be converted to lower case: KSDFJSKDL\n",
      "ksdfjskdl\n"
     ]
    }
   ],
   "source": [
    "# Write a python program to convert a dynamic string to lower case\n",
    "x=input(\"Type the string to be converted to lower case: \")\n",
    "string=\"\"\n",
    "for y in x:\n",
    "    string=string+y.lower()\n",
    "print(string)   \n",
    "    "
   ]
  },
  {
   "cell_type": "code",
   "execution_count": 11,
   "id": "06d1aa95",
   "metadata": {},
   "outputs": [
    {
     "name": "stdout",
     "output_type": "stream",
     "text": [
      "Type the string to be converted to lower case: SUBSKJBDSJ\n",
      "subskjbdsj\n"
     ]
    }
   ],
   "source": [
    "# Write a python program to convert a dynamic string to lower case\n",
    "x=input(\"Type the string to be converted to lower case: \")\n",
    "string=\"\"\n",
    "for y in range(len(x)):\n",
    "    string=string+x[y].lower()\n",
    "print(string)   \n",
    "    "
   ]
  },
  {
   "cell_type": "code",
   "execution_count": null,
   "id": "87949c92",
   "metadata": {},
   "outputs": [],
   "source": []
  }
 ],
 "metadata": {
  "kernelspec": {
   "display_name": "Python 3 (ipykernel)",
   "language": "python",
   "name": "python3"
  },
  "language_info": {
   "codemirror_mode": {
    "name": "ipython",
    "version": 3
   },
   "file_extension": ".py",
   "mimetype": "text/x-python",
   "name": "python",
   "nbconvert_exporter": "python",
   "pygments_lexer": "ipython3",
   "version": "3.9.13"
  }
 },
 "nbformat": 4,
 "nbformat_minor": 5
}
