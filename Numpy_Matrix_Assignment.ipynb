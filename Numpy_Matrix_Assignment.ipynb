{
 "cells": [
  {
   "cell_type": "code",
   "execution_count": null,
   "id": "1da59b3d",
   "metadata": {},
   "outputs": [],
   "source": [
    "# Write a program to create array without using Numpy module\n",
    "# program will return an 2Darray with data given"
   ]
  },
  {
   "cell_type": "code",
   "execution_count": 2,
   "id": "54eea6c0",
   "metadata": {},
   "outputs": [
    {
     "name": "stdout",
     "output_type": "stream",
     "text": [
      "Enter number of rows: 2\n",
      "Enter number of columns: 3\n",
      "Enter row data: 23\n",
      "Enter row data: 45\n",
      "Enter row data: 34\n",
      "Enter row data: 23\n",
      "Enter row data: 56\n",
      "Enter row data: 34\n",
      "23 45 34 \n",
      "23 56 34 \n"
     ]
    }
   ],
   "source": [
    "rows=int(input(\"Enter number of rows: \"))\n",
    "columns=int(input(\"Enter number of columns: \"))\n",
    "\n",
    "arr=[]\n",
    "\n",
    "for i in range(rows):\n",
    "    arr.append([])\n",
    "    for j in range(columns):\n",
    "        \n",
    "        data=int(input(\"Enter row data: \"))\n",
    "        arr[i].append(data)\n",
    "\n",
    "for i in range(rows):\n",
    "    for j in range(columns):\n",
    "        print((format(arr[i][j])), end=' ')\n",
    "    print()"
   ]
  },
  {
   "cell_type": "code",
   "execution_count": null,
   "id": "7f76d216",
   "metadata": {},
   "outputs": [],
   "source": []
  }
 ],
 "metadata": {
  "kernelspec": {
   "display_name": "Python 3 (ipykernel)",
   "language": "python",
   "name": "python3"
  },
  "language_info": {
   "codemirror_mode": {
    "name": "ipython",
    "version": 3
   },
   "file_extension": ".py",
   "mimetype": "text/x-python",
   "name": "python",
   "nbconvert_exporter": "python",
   "pygments_lexer": "ipython3",
   "version": "3.9.13"
  }
 },
 "nbformat": 4,
 "nbformat_minor": 5
}
