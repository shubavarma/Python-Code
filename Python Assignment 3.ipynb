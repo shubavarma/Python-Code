{
 "cells": [
  {
   "cell_type": "code",
   "execution_count": 4,
   "id": "d071d56b",
   "metadata": {},
   "outputs": [
    {
     "name": "stdout",
     "output_type": "stream",
     "text": [
      "0\n",
      "1\n",
      "2\n",
      "4\n",
      "5\n"
     ]
    }
   ],
   "source": [
    "# 1) Write a Python program that prints all the numbers from 0 to 6 except 3 and 6 using while loop\n",
    "a=0\n",
    "while a<=6:\n",
    "    if a/3==1 or a/3==2:\n",
    "        a=a+1\n",
    "        continue\n",
    "    else:\n",
    "        print(a)\n",
    "        a=a+1  \n"
   ]
  },
  {
   "cell_type": "code",
   "execution_count": 2,
   "id": "bd8956fa",
   "metadata": {},
   "outputs": [
    {
     "name": "stdout",
     "output_type": "stream",
     "text": [
      "0\n",
      "1\n",
      "2\n",
      "4\n",
      "5\n"
     ]
    }
   ],
   "source": [
    "# 1) Write a Python program that prints all the numbers from 0 to 6 except 3 and 6 using for loop\n",
    "for y in range(7):\n",
    "    if y/3==1 or y/3==2:\n",
    "        continue\n",
    "    else:\n",
    "        print(y)"
   ]
  },
  {
   "cell_type": "code",
   "execution_count": 6,
   "id": "e7af5071",
   "metadata": {},
   "outputs": [
    {
     "name": "stdout",
     "output_type": "stream",
     "text": [
      "Type the number: 8\n",
      "36\n"
     ]
    }
   ],
   "source": [
    "#2) Write a program to accept a number from a user and calculate the sum of all numbers from 1 to a given number while loop\n",
    "n=int(input(\"Type the number: \"))\n",
    "count=0\n",
    "a=1\n",
    "while a<=n:\n",
    "    count=count+a\n",
    "    a=a+1\n",
    "print(count)   \n"
   ]
  },
  {
   "cell_type": "code",
   "execution_count": 7,
   "id": "3e3c09e5",
   "metadata": {},
   "outputs": [
    {
     "name": "stdout",
     "output_type": "stream",
     "text": [
      "Type the number: 8\n",
      "36\n"
     ]
    }
   ],
   "source": [
    "#2) Write a program to accept a number from a user and calculate the sum of all numbers from 1 to a given number for loop\n",
    "n=int(input(\"Type the number: \"))\n",
    "count=0\n",
    "for y in range(1,n+1):\n",
    "    count=count+y\n",
    "print(count)"
   ]
  },
  {
   "cell_type": "code",
   "execution_count": 11,
   "id": "86001839",
   "metadata": {},
   "outputs": [
    {
     "name": "stdout",
     "output_type": "stream",
     "text": [
      "Type the number: 5\n",
      "5*0 = 0\n",
      "5*1 = 5\n",
      "5*2 = 10\n",
      "5*3 = 15\n",
      "5*4 = 20\n",
      "5*5 = 25\n",
      "5*6 = 30\n",
      "5*7 = 35\n",
      "5*8 = 40\n",
      "5*9 = 45\n",
      "5*10 = 50\n",
      "5*11 = 55\n",
      "5*12 = 60\n"
     ]
    }
   ],
   "source": [
    "# 3) Write a program to print multiplication table of a given number(input) using while loop\n",
    "n=int(input(\"Type the number: \"))\n",
    "a=0\n",
    "while a<=12:\n",
    "    print(\"{}*{} = {}\".format(n,a,n*a))\n",
    "    a=a+1"
   ]
  },
  {
   "cell_type": "code",
   "execution_count": 10,
   "id": "1e624367",
   "metadata": {},
   "outputs": [
    {
     "name": "stdout",
     "output_type": "stream",
     "text": [
      "Type the number: 5\n",
      "5*0 = 0\n",
      "5*1 = 5\n",
      "5*2 = 10\n",
      "5*3 = 15\n",
      "5*4 = 20\n",
      "5*5 = 25\n",
      "5*6 = 30\n",
      "5*7 = 35\n",
      "5*8 = 40\n",
      "5*9 = 45\n",
      "5*10 = 50\n",
      "5*11 = 55\n",
      "5*12 = 60\n"
     ]
    }
   ],
   "source": [
    "# 3) Write a program to print multiplication table of a given number(input) using for loop\n",
    "n=int(input(\"Type the number: \"))\n",
    "for y in range(13):\n",
    "    print(\"{}*{} = {}\".format(n,y,n*y))\n",
    "    "
   ]
  },
  {
   "cell_type": "code",
   "execution_count": 17,
   "id": "30c9a657",
   "metadata": {},
   "outputs": [
    {
     "name": "stdout",
     "output_type": "stream",
     "text": [
      "Type the number: 8345783\n",
      "7\n"
     ]
    }
   ],
   "source": [
    "# 4) Write a program to count the total number of digits in a number using a while loop.\n",
    "n=input(\"Type the number: \")\n",
    "count=0\n",
    "a=0\n",
    "while a<len(n):\n",
    "    count=count+1\n",
    "    a=a+1\n",
    "print(count)"
   ]
  },
  {
   "cell_type": "code",
   "execution_count": 18,
   "id": "cc3772e0",
   "metadata": {},
   "outputs": [
    {
     "name": "stdout",
     "output_type": "stream",
     "text": [
      "Type the number: 8345783\n",
      "7\n"
     ]
    }
   ],
   "source": [
    "# 4) Write a program to count the total number of digits in a number using a for loop.\n",
    "n=input(\"Type the number: \")\n",
    "count=0\n",
    "for y in range(len(n)):\n",
    "    count=count+1\n",
    "print(count)\n"
   ]
  },
  {
   "cell_type": "code",
   "execution_count": 4,
   "id": "40d0f595",
   "metadata": {},
   "outputs": [
    {
     "name": "stdout",
     "output_type": "stream",
     "text": [
      "Guess the number: 1\n",
      "Try again\n",
      "Guess the number: 2\n",
      "Try again\n",
      "Guess the number: 3\n",
      "Try again\n",
      "Guess the number: 4\n",
      "Well guessed\n"
     ]
    }
   ],
   "source": [
    "#5) Write a Python program to guess a number between 1 to \n",
    "#Example: User is prompted to enter a guess. If the user guesses wrong then the prompt appears again until the guess is correct,\n",
    "#    on successful guess, user will get a \"Well guessed!\" message, and the program will exit\n",
    "import random\n",
    "number=random.choice(range(1,10))\n",
    "a=1\n",
    "while a<10:\n",
    "    guess=int(input(\"Guess the number: \"))\n",
    "    if guess==number:\n",
    "        print(\"Well guessed\")\n",
    "        break\n",
    "    else:\n",
    "        print(\"Try again\")\n",
    "        a=a+1"
   ]
  },
  {
   "cell_type": "code",
   "execution_count": 5,
   "id": "13363a0f",
   "metadata": {},
   "outputs": [
    {
     "name": "stdout",
     "output_type": "stream",
     "text": [
      "Guess the number: 1\n",
      "Try again\n",
      "Guess the number: 2\n",
      "Try again\n",
      "Guess the number: 3\n",
      "Try again\n",
      "Guess the number: 4\n",
      "Try again\n",
      "Guess the number: 5\n",
      "Try again\n",
      "Guess the number: 6\n",
      "Well guessed\n"
     ]
    }
   ],
   "source": [
    "#5) Write a Python program to guess a number between 1 to \n",
    "#Example: User is prompted to enter a guess. If the user guesses wrong then the prompt appears again until the guess is correct,\n",
    "#    on successful guess, user will get a \"Well guessed!\" message, and the program will exit\n",
    "import random\n",
    "number=random.choice(range(1,10))\n",
    "\n",
    "for y in range(10):\n",
    "    guess=int(input(\"Guess the number: \"))\n",
    "    if guess==number:\n",
    "        print(\"Well guessed\")\n",
    "        break\n",
    "    else:\n",
    "        print(\"Try again\")  \n",
    "\n"
   ]
  },
  {
   "cell_type": "code",
   "execution_count": 21,
   "id": "6f5a9089",
   "metadata": {},
   "outputs": [
    {
     "name": "stdout",
     "output_type": "stream",
     "text": [
      "1\n",
      "2\n",
      "Fizz\n",
      "4\n",
      "Buzz\n",
      "Fizz\n",
      "7\n",
      "8\n",
      "Fizz\n",
      "Buzz\n",
      "11\n",
      "Fizz\n",
      "13\n",
      "14\n",
      "FizzBuzz\n",
      "16\n",
      "17\n",
      "Fizz\n",
      "19\n",
      "Buzz\n",
      "Fizz\n",
      "22\n",
      "23\n",
      "Fizz\n",
      "Buzz\n",
      "26\n",
      "Fizz\n",
      "28\n",
      "29\n",
      "FizzBuzz\n",
      "31\n",
      "32\n",
      "Fizz\n",
      "34\n",
      "Buzz\n",
      "Fizz\n",
      "37\n",
      "38\n",
      "Fizz\n",
      "Buzz\n",
      "41\n",
      "Fizz\n",
      "43\n",
      "44\n",
      "FizzBuzz\n",
      "46\n",
      "47\n",
      "Fizz\n",
      "49\n",
      "Buzz\n",
      "Fizz\n",
      "52\n",
      "53\n",
      "Fizz\n",
      "Buzz\n",
      "56\n",
      "Fizz\n",
      "58\n",
      "59\n",
      "FizzBuzz\n"
     ]
    }
   ],
   "source": [
    "# 6) Write a Python program which iterates the integers from 1 to 60. For multiples of three print \"Fizz\" \n",
    "# instead of the number and for the multiples of five print \"Buzz\". \n",
    "#For numbers which are multiples of both three and five print \"FizzBuzz\". using while loop\n",
    "y=1\n",
    "while y<=60:\n",
    "    if y%3==0 and y%5==0:\n",
    "        print(\"FizzBuzz\")\n",
    "    elif y%3==0:\n",
    "        print(\"Fizz\")\n",
    "    elif y%5==0:\n",
    "        print(\"Buzz\")\n",
    "    else:\n",
    "        print(y)\n",
    "    y=y+1"
   ]
  },
  {
   "cell_type": "code",
   "execution_count": 20,
   "id": "67fa5141",
   "metadata": {},
   "outputs": [
    {
     "name": "stdout",
     "output_type": "stream",
     "text": [
      "1\n",
      "2\n",
      "Fizz\n",
      "4\n",
      "Buzz\n",
      "Fizz\n",
      "7\n",
      "8\n",
      "Fizz\n",
      "Buzz\n",
      "11\n",
      "Fizz\n",
      "13\n",
      "14\n",
      "FizzBuzz\n",
      "16\n",
      "17\n",
      "Fizz\n",
      "19\n",
      "Buzz\n",
      "Fizz\n",
      "22\n",
      "23\n",
      "Fizz\n",
      "Buzz\n",
      "26\n",
      "Fizz\n",
      "28\n",
      "29\n",
      "FizzBuzz\n",
      "31\n",
      "32\n",
      "Fizz\n",
      "34\n",
      "Buzz\n",
      "Fizz\n",
      "37\n",
      "38\n",
      "Fizz\n",
      "Buzz\n",
      "41\n",
      "Fizz\n",
      "43\n",
      "44\n",
      "FizzBuzz\n",
      "46\n",
      "47\n",
      "Fizz\n",
      "49\n",
      "Buzz\n",
      "Fizz\n",
      "52\n",
      "53\n",
      "Fizz\n",
      "Buzz\n",
      "56\n",
      "Fizz\n",
      "58\n",
      "59\n",
      "FizzBuzz\n"
     ]
    }
   ],
   "source": [
    "# 6) Write a Python program which iterates the integers from 1 to 60. For multiples of three print \"Fizz\" \n",
    "# instead of the number and for the multiples of five print \"Buzz\". \n",
    "#For numbers which are multiples of both three and five print \"FizzBuzz\". using for loop\n",
    "\n",
    "for y in range(1,61):\n",
    "    if y%3==0 and y%5==0:\n",
    "        print(\"FizzBuzz\")\n",
    "    elif y%3==0:\n",
    "        print(\"Fizz\")\n",
    "    elif y%5==0:\n",
    "        print(\"Buzz\")\n",
    "    else:\n",
    "        print(y)\n",
    "\n"
   ]
  },
  {
   "cell_type": "code",
   "execution_count": 32,
   "id": "5f638c1b",
   "metadata": {},
   "outputs": [
    {
     "name": "stdout",
     "output_type": "stream",
     "text": [
      "Type the string to calculate digits and letters: Python 3.2\n",
      "Letters: 6\n",
      "Digits: 2\n"
     ]
    }
   ],
   "source": [
    "# 7) Write a Python program that accepts a string and calculate the number of digits and letters using while loop\n",
    "s=input(\"Type the string to calculate digits and letters: \")\n",
    "digit=0\n",
    "letter=0\n",
    "y=0\n",
    "while y<len(s):\n",
    "    if s[y].isdigit():\n",
    "        digit=digit+1\n",
    "    elif s[y].isalpha():\n",
    "        letter=letter+1\n",
    "    y=y+1\n",
    "print(\"Letters:\",letter)\n",
    "print(\"Digits:\",digit)\n"
   ]
  },
  {
   "cell_type": "code",
   "execution_count": 26,
   "id": "2d71928c",
   "metadata": {},
   "outputs": [
    {
     "name": "stdout",
     "output_type": "stream",
     "text": [
      "Type the string to calculate digits and letters: Python 3.2\n",
      "Letters: 6\n",
      "Digits: 2\n"
     ]
    }
   ],
   "source": [
    "# 7) Write a Python program that accepts a string and calculate the number of digits and letters using for loop\n",
    "s=input(\"Type the string to calculate digits and letters: \")\n",
    "digit=0\n",
    "letter=0\n",
    "for y in s:\n",
    "    if y.isdigit():\n",
    "        digit=digit+1\n",
    "    elif y.isalpha():\n",
    "        letter=letter+1\n",
    "\n",
    "print(\"Letters:\",letter)\n",
    "print(\"Digits:\",digit)"
   ]
  },
  {
   "cell_type": "code",
   "execution_count": 52,
   "id": "fc67ba17",
   "metadata": {},
   "outputs": [
    {
     "name": "stdout",
     "output_type": "stream",
     "text": [
      "Type the password to check validity: liOn@123\n",
      "Password is valid\n"
     ]
    }
   ],
   "source": [
    "# 8) Write a Python program to check the validity of password input by users. \n",
    "#Validation: At least 1 letter between [a-z] and 1 letter between [A-Z].\n",
    "#At least 1 number between [0-9]. At least 1 character from [$#@]. \n",
    "#Minimum length 6 characters. Maximum length 16 characters.\n",
    "#using while loop\n",
    "pwd=input(\"Type the password to check validity: \")\n",
    "lower=0\n",
    "upper=0\n",
    "number=0\n",
    "character=0\n",
    "y=0\n",
    "if len(pwd)<6 or len(pwd)>16 or pwd.isidentifier():\n",
    "    print(\"Password is invalid\")\n",
    "\n",
    "elif len(pwd)>=6 or len(pwd)<=16:\n",
    "    while y<len(pwd):\n",
    "        if pwd[y].isdigit():\n",
    "            number=number+1\n",
    "        elif pwd[y].isupper():\n",
    "            upper=upper+1\n",
    "        elif pwd[y].islower():\n",
    "            lower=lower+1\n",
    "        y=y+1\n",
    "    if number>=1 and upper>=1 and lower>=1:\n",
    "        print(\"Password is valid\")\n",
    "    else:\n",
    "        print(\"Password is invalid\")     \n",
    "    "
   ]
  },
  {
   "cell_type": "code",
   "execution_count": 48,
   "id": "a5b90b17",
   "metadata": {},
   "outputs": [
    {
     "name": "stdout",
     "output_type": "stream",
     "text": [
      "Type the password to check validity: liOn@123\n",
      "Password is valid\n"
     ]
    }
   ],
   "source": [
    "# 8) Write a Python program to check the validity of password input by users. \n",
    "#Validation: At least 1 letter between [a-z] and 1 letter between [A-Z].\n",
    "#At least 1 number between [0-9]. At least 1 character from [$#@]. \n",
    "#Minimum length 6 characters. Maximum length 16 characters.\n",
    "#using for loop\n",
    "pwd=input(\"Type the password to check validity: \")\n",
    "lower=0\n",
    "upper=0\n",
    "number=0\n",
    "character=0\n",
    "if len(pwd)<6 or len(pwd)>16 or pwd.isidentifier():\n",
    "    print(\"Password is invalid\")\n",
    "\n",
    "elif len(pwd)>=6 or len(pwd)<=16:\n",
    "    for y in pwd:\n",
    "        if y.isdigit():\n",
    "            number=number+1\n",
    "        elif y.isupper():\n",
    "            upper=upper+1\n",
    "        elif y.islower():\n",
    "            lower=lower+1\n",
    "    if number>=1 and upper>=1 and lower>=1:\n",
    "        print(\"Password is valid\")\n",
    "    else:\n",
    "        print(\"Password is invalid\")       \n",
    "\n",
    "    "
   ]
  },
  {
   "cell_type": "code",
   "execution_count": 59,
   "id": "db1965e1",
   "metadata": {},
   "outputs": [
    {
     "name": "stdout",
     "output_type": "stream",
     "text": [
      "Type the word to be reversed: subhadra\n",
      "ardahbus\n"
     ]
    }
   ],
   "source": [
    "#9) Write a program in Python to reverse a word by using while loop\n",
    "w=input(\"Type the word to be reversed: \")\n",
    "l=list(w)\n",
    "l1=[]\n",
    "y=0\n",
    "while y<len(l):\n",
    "    l1.insert(0,l[y])\n",
    "    y=y+1\n",
    "print(\"\".join(l1))"
   ]
  },
  {
   "cell_type": "code",
   "execution_count": 58,
   "id": "ea3f8d98",
   "metadata": {},
   "outputs": [
    {
     "name": "stdout",
     "output_type": "stream",
     "text": [
      "Type the word to be reversed: subhadra\n",
      "ardahbus\n"
     ]
    }
   ],
   "source": [
    "#9) Write a program in Python to reverse a word by using for loop\n",
    "w=input(\"Type the word to be reversed: \")\n",
    "l=list(w)\n",
    "l1=[]\n",
    "for y in l:\n",
    "    l1.insert(0,y)\n",
    "print(\"\".join(l1))"
   ]
  },
  {
   "cell_type": "code",
   "execution_count": 66,
   "id": "a47ea423",
   "metadata": {},
   "outputs": [
    {
     "name": "stdout",
     "output_type": "stream",
     "text": [
      "Type the number: 1\n",
      "Type the number: 2\n",
      "Type the number: 3\n",
      "Type the number: 4\n",
      "Type the number: 5\n",
      "Type the number: 6\n",
      "Type the number: 7\n",
      "Type the number: 8\n",
      "Type the number: 9\n",
      "Type the number: 10\n",
      "Average value of input numbers:  5.5\n"
     ]
    }
   ],
   "source": [
    "#10) Write a program which takes 10 integers as input using while loop and print their average value on the screen\n",
    "l=[]\n",
    "y=0\n",
    "z=0\n",
    "while y<10:\n",
    "    n=int(input(\"Type the number: \"))\n",
    "    l.append(n)\n",
    "    y=y+1\n",
    "total=0\n",
    "\n",
    "while z<len(l):\n",
    "    total=total+l[z]\n",
    "    z=z+1\n",
    "print(\"Average value of input numbers: \",total/len(l))"
   ]
  },
  {
   "cell_type": "code",
   "execution_count": 65,
   "id": "184bc166",
   "metadata": {},
   "outputs": [
    {
     "name": "stdout",
     "output_type": "stream",
     "text": [
      "Type the number: 1\n",
      "Type the number: 2\n",
      "Type the number: 3\n",
      "Type the number: 4\n",
      "Type the number: 5\n",
      "Type the number: 6\n",
      "Type the number: 7\n",
      "Type the number: 8\n",
      "Type the number: 9\n",
      "Type the number: 10\n",
      "Average value of input numbers:  5.5\n"
     ]
    }
   ],
   "source": [
    "#10) Write a program which takes 10 integers as input using for loop and print their average value on the screen\n",
    "l=[]\n",
    "for y in range(10):\n",
    "    n=int(input(\"Type the number: \"))\n",
    "    l.append(n)\n",
    "total=0\n",
    "for z in l:\n",
    "    total=total+z\n",
    "print(\"Average value of input numbers: \",total/len(l))"
   ]
  },
  {
   "cell_type": "code",
   "execution_count": 4,
   "id": "e42b4488",
   "metadata": {},
   "outputs": [
    {
     "name": "stdout",
     "output_type": "stream",
     "text": [
      "Type the integer: 1\n",
      "Type q to quit: a\n",
      "Type the integer: 2\n",
      "Type q to quit: s\n",
      "Type the integer: 3\n",
      "Type q to quit: d\n",
      "Type the integer: 4\n",
      "Type q to quit: q\n",
      "Average of all the numbers is:  2.5\n",
      "Product of all the numbers is:  24\n"
     ]
    }
   ],
   "source": [
    "#11) Write a program which takes integer inputs from user until he/she presses “q” \n",
    "#(Ask to press q to quit after every integer input).\n",
    "# Print average and product of all numbers. Using while loop\n",
    "y=\"l\"\n",
    "product=1\n",
    "total=0\n",
    "count=0\n",
    "while y!=\"q\":      \n",
    "    nub1=int(input(\"Type the integer: \"))\n",
    "    product=product*nub1\n",
    "    total=total+nub1\n",
    "    count=count+1\n",
    "    y=input(\"Type q to quit: \")\n",
    "print(\"Average of all the numbers is: \",total/count)\n",
    "print(\"Product of all the numbers is: \",product)"
   ]
  },
  {
   "cell_type": "code",
   "execution_count": 5,
   "id": "3f590bca",
   "metadata": {},
   "outputs": [
    {
     "name": "stdout",
     "output_type": "stream",
     "text": [
      "Type the string to strip numbers and characters: asd12.asd22\n",
      "asdasd\n"
     ]
    }
   ],
   "source": [
    "#12) Write a Python program which will remove all digits or any other characters from the string except alphabets\n",
    "#using while loop\n",
    "s=input(\"Type the string to strip numbers and characters: \")\n",
    "l=[]\n",
    "y=0\n",
    "while y<len(s):\n",
    "    if s[y].isalpha():\n",
    "        l.append(s[y])\n",
    "        y=y+1\n",
    "    else:\n",
    "        y=y+1\n",
    "        continue\n",
    "print(\"\".join(l))"
   ]
  },
  {
   "cell_type": "code",
   "execution_count": 6,
   "id": "463bc140",
   "metadata": {},
   "outputs": [
    {
     "name": "stdout",
     "output_type": "stream",
     "text": [
      "Type the string to strip numbers and characters: asd12.asd22\n",
      "asdasd\n"
     ]
    }
   ],
   "source": [
    "#12) Write a Python program which will remove all digits or any other characters from the string except alphabets\n",
    "#using for loop\n",
    "s=input(\"Type the string to strip numbers and characters: \")\n",
    "l=[]\n",
    "for y in s:\n",
    "    if y.isalpha():\n",
    "        l.append(y)\n",
    "    else:\n",
    "        continue\n",
    "print(\"\".join(l))"
   ]
  },
  {
   "cell_type": "code",
   "execution_count": 12,
   "id": "80c09ba9",
   "metadata": {},
   "outputs": [
    {
     "name": "stdout",
     "output_type": "stream",
     "text": [
      "20\n"
     ]
    }
   ],
   "source": [
    "# 13) Write a python program to find the sum of all even numbers from 0 to 10 using while loop\n",
    "l=[]\n",
    "sum=0\n",
    "y=0\n",
    "z=0\n",
    "while y<10:\n",
    "    if y%2==0:\n",
    "        l.append(y)\n",
    "    y=y+1\n",
    "while z<len(l):\n",
    "    sum=sum+l[z]\n",
    "    z=z+1\n",
    "print(sum)"
   ]
  },
  {
   "cell_type": "code",
   "execution_count": 1,
   "id": "0bd825e8",
   "metadata": {},
   "outputs": [
    {
     "name": "stdout",
     "output_type": "stream",
     "text": [
      "20\n"
     ]
    }
   ],
   "source": [
    "# 13) Write a python program to find the sum of all even numbers from 0 to 10 using for loop\n",
    "l=[]\n",
    "sum=0\n",
    "for y in range(10):\n",
    "    if y%2==0:\n",
    "        l.append(y)\n",
    "for z in l:\n",
    "    sum=sum+z\n",
    "print(sum)"
   ]
  },
  {
   "cell_type": "code",
   "execution_count": 17,
   "id": "6ea9dbc5",
   "metadata": {},
   "outputs": [
    {
     "name": "stdout",
     "output_type": "stream",
     "text": [
      "Type the digit: 5\n",
      "4\n",
      "3\n",
      "2\n",
      "1\n",
      "0\n"
     ]
    }
   ],
   "source": [
    "# 14) Write a python program which will accept a digit and print All the numbers before it till 0 using while loop\n",
    "n=int(input(\"Type the digit: \"))\n",
    "x=0\n",
    "y=0\n",
    "while y<n:\n",
    "    print((n-1)-y)\n",
    "    y=y+1"
   ]
  },
  {
   "cell_type": "code",
   "execution_count": 15,
   "id": "0edfb893",
   "metadata": {},
   "outputs": [
    {
     "name": "stdout",
     "output_type": "stream",
     "text": [
      "Type the digit: 5\n",
      "4\n",
      "3\n",
      "2\n",
      "1\n",
      "0\n"
     ]
    }
   ],
   "source": [
    "# 14) Write a python program which will accept a digit and print All the numbers before it till 0 using for loop\n",
    "n=int(input(\"Type the digit: \"))\n",
    "x=0\n",
    "for y in range(n):\n",
    "    print((n-1)-y)"
   ]
  },
  {
   "cell_type": "code",
   "execution_count": 3,
   "id": "1672f8b9",
   "metadata": {},
   "outputs": [
    {
     "name": "stdout",
     "output_type": "stream",
     "text": [
      "Type Operand 1 1\n",
      "Type the operation -,+,/,**,*,// to be performed +\n",
      "Type Operand 2 2\n",
      "1+2=3\n",
      "Type c for breaking and anything else for calculating: d\n",
      "Type Operand 1 2\n",
      "Type the operation -,+,/,**,*,// to be performed *\n",
      "Type Operand 2 4\n",
      "2*4=8\n",
      "Type c for breaking and anything else for calculating: c\n"
     ]
    }
   ],
   "source": [
    "# 15) Create a dynamic calculator which will run continually till you press “c” using while loop\n",
    "y=\"l\"\n",
    "while y!=\"c\":      \n",
    "    nub1=int(input(\"Type Operand 1 \"))\n",
    "    opera=input(\"Type the operation -,+,/,**,*,// to be performed \")\n",
    "    nub2=int(input(\"Type Operand 2 \"))\n",
    "    if opera==\"+\":\n",
    "         print(\"{}{}{}={}\".format(nub1,opera,nub2,nub1+nub2))\n",
    "    elif opera==\"-\":\n",
    "         print(\"{}-{}={}\".format(nub1,nub2,nub1-nub2))\n",
    "    elif opera==\"/\":\n",
    "         print(\"{}/{}={}\".format(nub1,nub2,nub1/nub2))\n",
    "    elif opera==\"*\":\n",
    "         print(\"{}*{}={}\".format(nub1,nub2,nub1*nub2))\n",
    "    elif opera==\"**\":\n",
    "         print(\"{}**{}={}\".format(nub1,nub2,nub1**nub2))\n",
    "    elif opera==\"//\":\n",
    "         print(\"{}//{}={}\".format(nub1,nub2,nub1//nub2))\n",
    "    else:\n",
    "         print(\"wrong inputs\")\n",
    "    y=input(\"Type c for breaking and anything else for calculating: \")"
   ]
  }
 ],
 "metadata": {
  "kernelspec": {
   "display_name": "Python 3 (ipykernel)",
   "language": "python",
   "name": "python3"
  },
  "language_info": {
   "codemirror_mode": {
    "name": "ipython",
    "version": 3
   },
   "file_extension": ".py",
   "mimetype": "text/x-python",
   "name": "python",
   "nbconvert_exporter": "python",
   "pygments_lexer": "ipython3",
   "version": "3.9.13"
  }
 },
 "nbformat": 4,
 "nbformat_minor": 5
}
