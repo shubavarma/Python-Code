{
 "cells": [
  {
   "cell_type": "code",
   "execution_count": 1,
   "id": "5f718353",
   "metadata": {},
   "outputs": [
    {
     "name": "stdout",
     "output_type": "stream",
     "text": [
      "type your name here: subhadra\n",
      "type your age here42\n",
      "type your phone_num here: 9160054949\n",
      "Type your gender her: female\n",
      "type your father name here: satyanarayana\n",
      "type your mother name here: varalakshmi\n"
     ]
    },
    {
     "data": {
      "text/plain": [
       "\"my name is subhadra my age is 42 my phone_num is 9160054949 my gender is female my father's name is satyanarayana my mother's name is varalakshmi\""
      ]
     },
     "execution_count": 1,
     "metadata": {},
     "output_type": "execute_result"
    }
   ],
   "source": [
    "name=input(\"type your name here: \")\n",
    "age=int(input(\"type your age here\"))\n",
    "phone_num=int((input(\"type your phone_num here: \")))\n",
    "gender=input(\"Type your gender her: \")\n",
    "father_name=input(\"type your father name here: \")\n",
    "mother_name=input(\"type your mother name here: \")\n",
    "bio_data=\"my name is {} my age is {} my phone_num is {} my gender is {} my father's name is {} my mother's name is {}\"\n",
    "bio_data.format(name,age,phone_num,gender,father_name,mother_name)"
   ]
  },
  {
   "cell_type": "code",
   "execution_count": null,
   "id": "ae41d73e",
   "metadata": {},
   "outputs": [],
   "source": []
  }
 ],
 "metadata": {
  "kernelspec": {
   "display_name": "Python 3 (ipykernel)",
   "language": "python",
   "name": "python3"
  },
  "language_info": {
   "codemirror_mode": {
    "name": "ipython",
    "version": 3
   },
   "file_extension": ".py",
   "mimetype": "text/x-python",
   "name": "python",
   "nbconvert_exporter": "python",
   "pygments_lexer": "ipython3",
   "version": "3.9.13"
  }
 },
 "nbformat": 4,
 "nbformat_minor": 5
}
