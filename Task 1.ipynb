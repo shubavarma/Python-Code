{
 "cells": [
  {
   "cell_type": "code",
   "execution_count": 1,
   "id": "05214b3f",
   "metadata": {},
   "outputs": [
    {
     "name": "stdout",
     "output_type": "stream",
     "text": [
      "Type the string to be converted to lower case: SUJKSDLlkjads\n",
      "sujksdllkjads\n"
     ]
    }
   ],
   "source": [
    "# 1)Write a python program to convert a dynamic string to lower case\n",
    "x=input(\"Type the string to be converted to lower case: \")\n",
    "string=\"\"\n",
    "for y in x:\n",
    "    string=string+y.lower()\n",
    "print(string)   "
   ]
  },
  {
   "cell_type": "code",
   "execution_count": 2,
   "id": "23494792",
   "metadata": {},
   "outputs": [
    {
     "name": "stdout",
     "output_type": "stream",
     "text": [
      "Type the string to be converted to lower case: KSJADKkdssajkf\n",
      "ksjadkkdssajkf\n"
     ]
    }
   ],
   "source": [
    "# 1)Write a python program to convert a dynamic string to lower case\n",
    "x=input(\"Type the string to be converted to lower case: \")\n",
    "string=\"\"\n",
    "for y in range(len(x)):\n",
    "    string=string+x[y].lower()\n",
    "print(string)      "
   ]
  },
  {
   "cell_type": "code",
   "execution_count": 3,
   "id": "29f16074",
   "metadata": {},
   "outputs": [
    {
     "name": "stdout",
     "output_type": "stream",
     "text": [
      "Type the string to be converted with odd indexed characters to lower case: AJDFKSDJFKLASDFJ\n",
      "AjDfKsDjFkLaSdFj\n"
     ]
    }
   ],
   "source": [
    "# 2)write a python program to convert only odd indexed characters to lower case of a dynamic input string\n",
    "\n",
    "x=input(\"Type the string to be converted with odd indexed characters to lower case: \")\n",
    "string=\"\"\n",
    "for y in range(len(x)):\n",
    "    if y%2==0:\n",
    "        string=string+x[y].upper()\n",
    "    elif y%2!=0:\n",
    "        string=string+x[y].lower()\n",
    "print(string) "
   ]
  },
  {
   "cell_type": "code",
   "execution_count": 4,
   "id": "b144f53c",
   "metadata": {},
   "outputs": [
    {
     "name": "stdout",
     "output_type": "stream",
     "text": [
      "Type the string to be converted with even indexed characters to lower case: KLDASJFSLADKKJAF\n",
      "kLdAsJfSlAdKkJaF\n"
     ]
    }
   ],
   "source": [
    "# 3)write a python program to convert only even indexed characters to lower case of a dynamic input string\n",
    "\n",
    "x=input(\"Type the string to be converted with even indexed characters to lower case: \")\n",
    "string=\"\"\n",
    "for y in range(len(x)):\n",
    "    if y%2!=0:\n",
    "        string=string+x[y].upper()\n",
    "    elif y%2==0:\n",
    "        string=string+x[y].lower()\n",
    "print(string) "
   ]
  },
  {
   "cell_type": "code",
   "execution_count": 5,
   "id": "ee5b16ba",
   "metadata": {},
   "outputs": [
    {
     "name": "stdout",
     "output_type": "stream",
     "text": [
      "Type the string to be converted with odd indexed characters to upper case: kjsafakdKJDKS\n",
      "kJsAfAkDkJdKs\n"
     ]
    }
   ],
   "source": [
    "# 4)write a python program to convert only odd indexed characters to upper case of a dynamic input string\n",
    "\n",
    "x=input(\"Type the string to be converted with odd indexed characters to upper case: \")\n",
    "string=\"\"\n",
    "for y in range(len(x)):\n",
    "    if y%2==0:\n",
    "        string=string+x[y].lower()\n",
    "    elif y%2!=0:\n",
    "        string=string+x[y].upper()\n",
    "print(string) "
   ]
  },
  {
   "cell_type": "code",
   "execution_count": 6,
   "id": "f9df7581",
   "metadata": {},
   "outputs": [
    {
     "name": "stdout",
     "output_type": "stream",
     "text": [
      "Type the string to be converted with even indexed characters to upper case: kjaflksLKSDLKD\n",
      "KjAfLkSlKsDlKd\n"
     ]
    }
   ],
   "source": [
    "# 5)write a python program to convert only even indexed characters to upper case of a dynamic input string\n",
    "\n",
    "x=input(\"Type the string to be converted with even indexed characters to upper case: \")\n",
    "string=\"\"\n",
    "for y in range(len(x)):\n",
    "    if y%2!=0:\n",
    "        string=string+x[y].lower()\n",
    "    elif y%2==0:\n",
    "        string=string+x[y].upper()\n",
    "print(string) "
   ]
  },
  {
   "cell_type": "code",
   "execution_count": 7,
   "id": "ad741532",
   "metadata": {},
   "outputs": [
    {
     "name": "stdout",
     "output_type": "stream",
     "text": [
      "type your name here: subhadra\n",
      "type your age here42\n",
      "type your phone_num here: 9160054949\n",
      "Type your gender her: female\n",
      "type your father name here: satyanarayana\n",
      "type your mother name here: varalakshmi\n"
     ]
    },
    {
     "data": {
      "text/plain": [
       "\"my name is subhadra my age is 42 my phone_num is 9160054949 my gender is female my father's name is satyanarayana my mother's name is varalakshmi\""
      ]
     },
     "execution_count": 7,
     "metadata": {},
     "output_type": "execute_result"
    }
   ],
   "source": [
    "# 6)Write a python program where you have different variable which contains your name ,sex,age, phone no ,fathers name and mothers name. create bio_data\n",
    "name=input(\"type your name here: \")\n",
    "age=int(input(\"type your age here\"))\n",
    "phone_num=int((input(\"type your phone_num here: \")))\n",
    "gender=input(\"Type your gender her: \")\n",
    "father_name=input(\"type your father name here: \")\n",
    "mother_name=input(\"type your mother name here: \")\n",
    "bio_data=\"my name is {} my age is {} my phone_num is {} my gender is {} my father's name is {} my mother's name is {}\"\n",
    "bio_data.format(name,age,phone_num,gender,father_name,mother_name)"
   ]
  },
  {
   "cell_type": "code",
   "execution_count": 8,
   "id": "557772a4",
   "metadata": {},
   "outputs": [
    {
     "name": "stdout",
     "output_type": "stream",
     "text": [
      "Type the string here: KJkk@klsjd@kjdsfak@\n"
     ]
    },
    {
     "data": {
      "text/plain": [
       "3"
      ]
     },
     "execution_count": 8,
     "metadata": {},
     "output_type": "execute_result"
    }
   ],
   "source": [
    "# 7)Write a python program to count how many times “@” occurred\n",
    "x=input(\"Type the string here: \")\n",
    "x.count(\"@\")"
   ]
  },
  {
   "cell_type": "code",
   "execution_count": 9,
   "id": "2c77a19d",
   "metadata": {},
   "outputs": [
    {
     "name": "stdout",
     "output_type": "stream",
     "text": [
      "name1,name2,name3,\n"
     ]
    }
   ],
   "source": [
    "# 8)Write a python program to get only names from the string “name1.@gmail.com,name2.@gmail.com,name3.@gmail.com”\n",
    "x=\"name1.@gmail.com,name2.@gmail.com,name3.@gmail.com\"\n",
    "list=x.split(\",\")\n",
    "string=\"\"\n",
    "for y in list:\n",
    "    z=y.partition(\".@\")[0]\n",
    "    string=string+z+\",\"\n",
    "print(string)"
   ]
  },
  {
   "cell_type": "code",
   "execution_count": 10,
   "id": "da272e90",
   "metadata": {},
   "outputs": [
    {
     "name": "stdout",
     "output_type": "stream",
     "text": [
      "Type your string here: mynameissan\n",
      "mei\n"
     ]
    }
   ],
   "source": [
    "# 9)Given a string of odd length greater that 9, return a new string made of the middle three characters of a given String\n",
    "x=input(\"Type your string here: \")\n",
    "print(x[len(x)//2-1]+x[len(x)//2]+x[len(x)//2+1])"
   ]
  },
  {
   "cell_type": "code",
   "execution_count": 11,
   "id": "bd0a632b",
   "metadata": {},
   "outputs": [
    {
     "name": "stdout",
     "output_type": "stream",
     "text": [
      "Type your first string: myn\n",
      "Type your second string: sa\n"
     ]
    },
    {
     "data": {
      "text/plain": [
       "'msayn'"
      ]
     },
     "execution_count": 11,
     "metadata": {},
     "output_type": "execute_result"
    }
   ],
   "source": [
    "# 10)Write a python program to insert a 2 string in the middle of 1 string\n",
    "str1=input(\"Type your first string: \")\n",
    "str2=input(\"Type your second string: \")\n",
    "\n",
    "str1[0:len(str1)//2]+str2+str1[len(str1)//2:]"
   ]
  },
  {
   "cell_type": "code",
   "execution_count": 12,
   "id": "26ff989c",
   "metadata": {},
   "outputs": [
    {
     "name": "stdout",
     "output_type": "stream",
     "text": [
      "bcdfghjklmnpqrstvwxyz\n"
     ]
    }
   ],
   "source": [
    "# 11)Write a program to remove vowels from the entire alphabets\n",
    "x=\"abcdefghijklmnopqrstuvwxyz\"\n",
    "string=\"\"\n",
    "for y in x:\n",
    "    if y==\"a\"or y==\"e\" or y==\"i\" or y==\"o\" or y==\"u\":\n",
    "        continue\n",
    "    else: \n",
    "        string=string+y\n",
    "print(string)   "
   ]
  },
  {
   "cell_type": "code",
   "execution_count": null,
   "id": "e8780044",
   "metadata": {},
   "outputs": [],
   "source": []
  }
 ],
 "metadata": {
  "kernelspec": {
   "display_name": "Python 3 (ipykernel)",
   "language": "python",
   "name": "python3"
  },
  "language_info": {
   "codemirror_mode": {
    "name": "ipython",
    "version": 3
   },
   "file_extension": ".py",
   "mimetype": "text/x-python",
   "name": "python",
   "nbconvert_exporter": "python",
   "pygments_lexer": "ipython3",
   "version": "3.9.13"
  }
 },
 "nbformat": 4,
 "nbformat_minor": 5
}
