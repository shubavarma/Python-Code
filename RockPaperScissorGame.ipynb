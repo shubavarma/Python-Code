{
 "cells": [
  {
   "cell_type": "code",
   "execution_count": 1,
   "id": "d8dc00e4",
   "metadata": {},
   "outputs": [],
   "source": [
    "# Write a python code to pay Rock Paper Scissors between 2 people\n",
    "# Take a dynamic input of what the First person and the Second person choose\n",
    "# Based on the dynamic input decide who won the hand or if they have to play again"
   ]
  },
  {
   "cell_type": "code",
   "execution_count": 2,
   "id": "6691a7e4",
   "metadata": {},
   "outputs": [],
   "source": [
    "#Conditions to check: \n",
    "# we will have nine different combinations\n",
    "# 1) If both choose same they will have to play again\n",
    "# 2) Rock always wins against Scissor and loses to Paper\n",
    "# 3) Paper always wins against Rock and loses to Scissor\n",
    "# 4) Scissor always wins against Paper and loses to Rock"
   ]
  },
  {
   "cell_type": "code",
   "execution_count": 3,
   "id": "8041a4e5",
   "metadata": {},
   "outputs": [
    {
     "name": "stdout",
     "output_type": "stream",
     "text": [
      "What does first person choose in between Rock/Paper/Scissor Rock\n",
      "What does second person choose in between Rock/Paper/Scissor Paper\n",
      "First person chose Rock and second person chose Paper\n",
      "Second person won the hand\n"
     ]
    }
   ],
   "source": [
    "person1=input(\"What does first person choose in between Rock/Paper/Scissor \")\n",
    "person2=input(\"What does second person choose in between Rock/Paper/Scissor \")\n",
    "print(\"First person chose {} and second person chose {}\".format(person1,person2))\n",
    "\n",
    "if (person1==\"Rock\" and person2==\"Rock\") or (person1==\"Paper\" and person2==\"Paper\") or (person1==\"Scissor\" and person2==\"Scissor\"):\n",
    "    print(\"No body wins play another round\")\n",
    "elif (person1==\"Rock\"and person2==\"Scissor\")  or (person1==\"Paper\" and person2==\"Rock\") or (person1==\"Scissor\" and person2==\"Paper\"):\n",
    "    print(\"First person won the hand\")\n",
    "elif (person1==\"Scissor\" and person2==\"Rock\")  or (person1==\"Rock\" and person2==\"Paper\") or (person1==\"Paper\" and person2==\"Scissor\"):\n",
    "    print(\"Second person won the hand\")    \n",
    "else:\n",
    "    print(\"Wrong inputs are given\")"
   ]
  },
  {
   "cell_type": "code",
   "execution_count": null,
   "id": "12b10020",
   "metadata": {},
   "outputs": [],
   "source": []
  }
 ],
 "metadata": {
  "kernelspec": {
   "display_name": "Python 3 (ipykernel)",
   "language": "python",
   "name": "python3"
  },
  "language_info": {
   "codemirror_mode": {
    "name": "ipython",
    "version": 3
   },
   "file_extension": ".py",
   "mimetype": "text/x-python",
   "name": "python",
   "nbconvert_exporter": "python",
   "pygments_lexer": "ipython3",
   "version": "3.9.13"
  }
 },
 "nbformat": 4,
 "nbformat_minor": 5
}
