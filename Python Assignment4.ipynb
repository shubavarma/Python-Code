{
 "cells": [
  {
   "cell_type": "code",
   "execution_count": 29,
   "id": "fa848350",
   "metadata": {},
   "outputs": [
    {
     "name": "stdout",
     "output_type": "stream",
     "text": [
      "[1, 2, 3, 4, 7, 8, 9]\n"
     ]
    }
   ],
   "source": [
    "#1. Given a list of numbers, write a python program that returns a new list which Has all duplicate elements removed.\n",
    "#And is sorted in an increasing order.\n",
    "l=[2,1,3,4,2,3,3,2,7,9,8,7]\n",
    "l.sort()\n",
    "s=set(l)\n",
    "print(list(s))"
   ]
  },
  {
   "cell_type": "code",
   "execution_count": 5,
   "id": "b361f45b",
   "metadata": {},
   "outputs": [
    {
     "name": "stdout",
     "output_type": "stream",
     "text": [
      "My Name is Subhadra\n",
      "My Age is 42\n",
      "My Height is 170.0\n",
      "My Gender is Female\n"
     ]
    }
   ],
   "source": [
    "#2. Write a Python program where you will iterate over both keys and values in dictionaries\n",
    "d={\"Name\":\"Subhadra\",\"Age\":42,\"Height\":170.0,\"Gender\":\"Female\"}\n",
    "for y,z in d.items():\n",
    "    print(\"My {} is {}\".format(y,z))\n",
    "    "
   ]
  },
  {
   "cell_type": "code",
   "execution_count": 11,
   "id": "bf87e5c6",
   "metadata": {},
   "outputs": [
    {
     "name": "stdout",
     "output_type": "stream",
     "text": [
      "Type name of student 1: Subhadra\n",
      "Type name of student 2: Pranavi\n",
      "Type name of student 3: Raghav\n",
      "['Pranavi', 'Raghav', 'Subhadra']\n"
     ]
    }
   ],
   "source": [
    "#3. Write a Python program that takes a dictionary of student names and returns a list of student names in alphabetical order\n",
    "d={\"Student 1\":input(\"Type name of student 1: \"),\"Student 2\":input(\"Type name of student 2: \"),\"Student 3\":input(\"Type name of student 3: \")}\n",
    "l=list(d.values())\n",
    "l.sort()\n",
    "print(l)"
   ]
  },
  {
   "cell_type": "code",
   "execution_count": 3,
   "id": "1e4d2388",
   "metadata": {},
   "outputs": [
    {
     "name": "stdout",
     "output_type": "stream",
     "text": [
      "Enter binary number 0's and 1's: 0101010101\n",
      "['False', 'True', 'False', 'True', 'False', 'True', 'False', 'True', 'False', 'True']\n"
     ]
    }
   ],
   "source": [
    "#4. Write a Python which returns a new list of Booleans, from a given number. \n",
    "#Iterating through the number one digit at a time, append True if the digit is 1 and False if it is 0.\n",
    "num=input(\"Enter binary number 0's and 1's: \")\n",
    "l=[]\n",
    "for y in num:\n",
    "    if y==\"0\":\n",
    "        l.append(\"False\")\n",
    "    elif y==\"1\":\n",
    "        l.append(\"True\")\n",
    "print(l)"
   ]
  },
  {
   "cell_type": "code",
   "execution_count": 9,
   "id": "9eaecd7c",
   "metadata": {
    "scrolled": true
   },
   "outputs": [
    {
     "name": "stdout",
     "output_type": "stream",
     "text": [
      "Type the string: my name is amy\n",
      "{'m': 3, 'y': 2, 'n': 1, 'a': 2, 'e': 1, 'i': 1, 's': 1}\n"
     ]
    }
   ],
   "source": [
    "#5.Write a Python program where you will return a dictionary where the keys will be the\n",
    "#character and the values will be the occurrence of the character in the string, and it should for any string inputs (dynamic)\n",
    "str=input(\"Type the string: \")\n",
    "d={}\n",
    "for y in str:\n",
    "    d.update({y:str.count(y)})\n",
    "del d[\" \"]\n",
    "print(d)"
   ]
  },
  {
   "cell_type": "code",
   "execution_count": 13,
   "id": "5b895ed2",
   "metadata": {},
   "outputs": [
    {
     "name": "stdout",
     "output_type": "stream",
     "text": [
      "Type the name of person1: Raghav\n",
      "Type the age of person1: 11\n",
      "Type the name of person2: Pranavi\n",
      "Type the age of person2: 14\n",
      "Type the name of person3: Subhadra\n",
      "Type the age of person3: 42\n",
      "Name of the oldest person is:  Subhadra\n"
     ]
    }
   ],
   "source": [
    "#6. Given a dictionary containing the names and ages of a group of people, return the name of the oldest person\n",
    "d={input(\"Type the name of person1: \"):int(input(\"Type the age of person1: \")),input(\"Type the name of person2: \"):int(input(\"Type the age of person2: \")),input(\"Type the name of person3: \"):int(input(\"Type the age of person3: \"))}\n",
    "\n",
    "l=list(d.values())\n",
    "l.sort()\n",
    "max=l[-1]\n",
    "for y,z in d.items():\n",
    "     if d[y]==max:\n",
    "            print(\"Name of the oldest person is: \",y)       \n",
    "    "
   ]
  },
  {
   "cell_type": "code",
   "execution_count": 27,
   "id": "7e5c04ef",
   "metadata": {},
   "outputs": [
    {
     "name": "stdout",
     "output_type": "stream",
     "text": [
      "What does first person choose in between Rock/Paper/Scissor Paper\n",
      "What does second person choose in between Rock/Paper/Scissor Scissor\n",
      "First person chose Paper and second person chose Scissor\n",
      "Second person won the hand\n"
     ]
    }
   ],
   "source": [
    "#7. Write a python code to pay Rock Paper Scissors between 2 people\n",
    "# Take a dynamic input of what the First person and the Second person choose\n",
    "# Based on the dynamic input decide who won the hand or if they have to play again\n",
    "#Conditions to check: \n",
    "# we will have nine different combinations\n",
    "# 1) If both choose same they will have to play again\n",
    "# 2) Rock always wins against Scissor and loses to Paper\n",
    "# 3) Paper always wins against Rock and loses to Scissor\n",
    "# 4) Scissor always wins against Paper and loses to Rock\n",
    "p1=input(\"What does first person choose in between Rock/Paper/Scissor \")\n",
    "p2=input(\"What does second person choose in between Rock/Paper/Scissor \")\n",
    "print(\"First person chose {} and second person chose {}\".format(p1,p2))\n",
    "\n",
    "if (p1==\"Rock\" and p2==\"Rock\") or (p1==\"Paper\" and p2==\"Paper\") or (p1==\"Scissor\" and p2==\"Scissor\"):\n",
    "    print(\"No body wins play another round\")\n",
    "elif (p1==\"Rock\"and p2==\"Scissor\")  or (p1==\"Paper\" and p2==\"Rock\") or (p1==\"Scissor\" and p2==\"Paper\"):\n",
    "    print(\"First person won the hand\")\n",
    "elif (p1==\"Scissor\" and p2==\"Rock\")  or (p1==\"Rock\" and p2==\"Paper\") or (p1==\"Paper\" and p2==\"Scissor\"):\n",
    "    print(\"Second person won the hand\")    \n",
    "else:\n",
    "    print(\"Wrong inputs are given\")"
   ]
  },
  {
   "cell_type": "code",
   "execution_count": 33,
   "id": "c8748a3a",
   "metadata": {},
   "outputs": [
    {
     "name": "stdout",
     "output_type": "stream",
     "text": [
      "['water bottles', 'chips']\n"
     ]
    }
   ],
   "source": [
    "#8. Create a program that returns a list of items that you can afford in the store with the money you have in your wallet.\n",
    "#Create a dictionary with items as key and price as values\n",
    "supplies={\"water bottles\":20,\"chips\":10,\"Iphone\":49000,\"towel\":90,\"pens\":58,\"cake\":400}\n",
    "money=50\n",
    "l=[]\n",
    "for y,z in supplies.items():\n",
    "    if z<=money:\n",
    "        l.append(y)\n",
    "    else:\n",
    "        continue\n",
    "print(l)\n",
    "    "
   ]
  },
  {
   "cell_type": "code",
   "execution_count": 18,
   "id": "e9167726",
   "metadata": {},
   "outputs": [
    {
     "name": "stdout",
     "output_type": "stream",
     "text": [
      "Type a number for set1: 1\n",
      "Type a number for set1: 2\n",
      "Type a number for set1: 3\n",
      "Type a number for set1: 4\n",
      "Type a number for set1: 5\n",
      "Type a number for set1: 6\n",
      "Type a number for set2: 2\n",
      "Type a number for set2: 4\n",
      "Type a number for set2: 6\n",
      "Type a number for set2: 8\n",
      "Type a number for set2: 0\n",
      "Type a number for set2: 10\n",
      "Union of set1 and set2 is a new set:  {'8', '0', '4', '2', '6', '3', '5', '1', '10'}\n"
     ]
    }
   ],
   "source": [
    "#9. Write a Python program to create a union of sets\n",
    "s1=set()\n",
    "for y in range(6):\n",
    "    n1=input(\"Type a number for set1: \")\n",
    "    s1.add(n1)\n",
    "s2=set()\n",
    "for y in range(6):\n",
    "    n2=input(\"Type a number for set2: \")\n",
    "    s2.add(n2)\n",
    "print(\"Union of set1 and set2 is a new set: \",s1.union(s2))"
   ]
  },
  {
   "cell_type": "code",
   "execution_count": 19,
   "id": "f4524f2b",
   "metadata": {},
   "outputs": [
    {
     "name": "stdout",
     "output_type": "stream",
     "text": [
      "Type the element of the set: 1\n",
      "Type the element of the set: 2\n",
      "Type the element of the set: 3\n",
      "Type the element of the set: 4\n",
      "Type the element of the set: 5\n",
      "Type the element of the set: 6\n",
      "Type the value to check if in set or not: 5\n",
      "The value is present in set\n"
     ]
    }
   ],
   "source": [
    "#10. Write a Python program to check if a given value is present in a set or not (Dynamic)\n",
    "v=set()\n",
    "for y in range(6):\n",
    "    e=int(input(\"Type the element of the set: \"))\n",
    "    v.add(e)\n",
    "n=input(\"Type the value to check if in set or not: \")\n",
    "if int(n) in v:\n",
    "    print(\"The value is present in set\")\n",
    "else:\n",
    "    print(\"The value is not present in set\")"
   ]
  },
  {
   "cell_type": "code",
   "execution_count": 25,
   "id": "8ab1c77f",
   "metadata": {},
   "outputs": [
    {
     "name": "stdout",
     "output_type": "stream",
     "text": [
      "Type a string of more than 3 words with mostly common words: cat dog dog cat horse dog dog mouse horse dog mouse tiger lion tiger cat mouse snail\n",
      "{'cat': 3, 'mouse': 3, 'dog': 5}\n"
     ]
    }
   ],
   "source": [
    "#11. Write a Python program to find the occurrences of 3 most common words in a given text. And make it as a dictionaries\n",
    "str=input(\"Type a string of more than 3 words with mostly common words: \")\n",
    "# create words by splitting\n",
    "l=str.split()\n",
    "s=set(l)\n",
    "# create unique word list using set() constructor\n",
    "l1=list(s)\n",
    "d={}\n",
    "#creating dictionary with key unique word and value the count in the string\n",
    "for y in l1:\n",
    "    d[y]=l.count(y)\n",
    "l2=list(d.values())\n",
    "\n",
    "l2.sort()\n",
    "# finding the 3 most common words\n",
    "l3=l2[-3:]\n",
    "d2={}\n",
    "# creating a dictionary of 3 common words\n",
    "for y,z in d.items():\n",
    "    if z in l3:\n",
    "        d2.update({y:z})\n",
    "print(d2)"
   ]
  },
  {
   "cell_type": "code",
   "execution_count": 1,
   "id": "8188042a",
   "metadata": {},
   "outputs": [
    {
     "name": "stdout",
     "output_type": "stream",
     "text": [
      "Type the name of the subject Eng,Mat,Sci,Soc,Tel,Hin: Eng\n",
      "Type the marks in this subject: 75.5\n",
      "Type the name of the subject Eng,Mat,Sci,Soc,Tel,Hin: Mat\n",
      "Type the marks in this subject: 90\n",
      "Type the name of the subject Eng,Mat,Sci,Soc,Tel,Hin: Sci\n",
      "Type the marks in this subject: 85\n",
      "Type the name of the subject Eng,Mat,Sci,Soc,Tel,Hin: Soc\n",
      "Type the marks in this subject: 80\n",
      "Type the name of the subject Eng,Mat,Sci,Soc,Tel,Hin: Tel\n",
      "Type the marks in this subject: 80.5\n",
      "Type the name of the subject Eng,Mat,Sci,Soc,Tel,Hin: Hin\n",
      "Type the marks in this subject: 85\n",
      "{'Eng': 75.5, 'Mat': 90.0, 'Sci': 85.0, 'Soc': 80.0, 'Tel': 80.5, 'Hin': 85.0}\n"
     ]
    }
   ],
   "source": [
    "#12. Write a Python program that accepts name of given subject and mark, and make subjects as keys \n",
    "#in dictionaries and marks as values and print the final dictionary with subjects and marks\n",
    "d={}\n",
    "for y in range(6):\n",
    "    subject=input(\"Type the name of the subject Eng,Mat,Sci,Soc,Tel,Hin: \")\n",
    "    marks=float(input(\"Type the marks in this subject: \"))\n",
    "    d.update({subject:marks})\n",
    "print(d)    "
   ]
  },
  {
   "cell_type": "code",
   "execution_count": null,
   "id": "78543b4d",
   "metadata": {},
   "outputs": [],
   "source": []
  }
 ],
 "metadata": {
  "kernelspec": {
   "display_name": "Python 3 (ipykernel)",
   "language": "python",
   "name": "python3"
  },
  "language_info": {
   "codemirror_mode": {
    "name": "ipython",
    "version": 3
   },
   "file_extension": ".py",
   "mimetype": "text/x-python",
   "name": "python",
   "nbconvert_exporter": "python",
   "pygments_lexer": "ipython3",
   "version": "3.9.13"
  }
 },
 "nbformat": 4,
 "nbformat_minor": 5
}
