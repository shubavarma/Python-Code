{
 "cells": [
  {
   "cell_type": "code",
   "execution_count": 79,
   "id": "eed6aba1",
   "metadata": {},
   "outputs": [
    {
     "name": "stdout",
     "output_type": "stream",
     "text": [
      " ***** \n",
      "*     *\n",
      "*     *\n",
      "*     *\n",
      " ******\n",
      "       *\n"
     ]
    }
   ],
   "source": [
    "# To create pattern a\n",
    "a=1\n",
    "while a<=6:\n",
    "    if a==1:\n",
    "        print(\" ***** \")\n",
    "    elif a==2:\n",
    "        print(\"*     *\")\n",
    "    elif a==3:\n",
    "        print(\"*     *\")\n",
    "    elif a==4:\n",
    "        print(\"*     *\")\n",
    "    elif a==5:\n",
    "        print(\" ******\")\n",
    "    elif a==6:\n",
    "        print(\"       *\")\n",
    "    a=a+1"
   ]
  },
  {
   "cell_type": "code",
   "execution_count": 80,
   "id": "7b39eb04",
   "metadata": {},
   "outputs": [
    {
     "name": "stdout",
     "output_type": "stream",
     "text": [
      "*    \n",
      "*    \n",
      "*    \n",
      "****\n",
      "*   *\n",
      "*   *\n",
      "****\n"
     ]
    }
   ],
   "source": [
    "# To create pattern b\n",
    "a=1\n",
    "while a<=7:\n",
    "    if a==1:\n",
    "        print(\"*    \")\n",
    "    elif a==2:\n",
    "        print(\"*    \")\n",
    "    elif a==3:\n",
    "        print(\"*    \")\n",
    "    elif a==4:\n",
    "        print(\"****\")\n",
    "    elif a==5:\n",
    "        print(\"*   *\")\n",
    "    elif a==6:\n",
    "        print(\"*   *\")\n",
    "    elif a==7:\n",
    "        print(\"****\")\n",
    "    a=a+1"
   ]
  },
  {
   "cell_type": "code",
   "execution_count": 81,
   "id": "10172089",
   "metadata": {},
   "outputs": [
    {
     "name": "stdout",
     "output_type": "stream",
     "text": [
      " ****\n",
      "*    \n",
      "*    \n",
      "*    \n",
      " ****\n"
     ]
    }
   ],
   "source": [
    "# To create pattern c\n",
    "a=1\n",
    "while a<=5:\n",
    "    if a==1:\n",
    "        print(\" ****\")\n",
    "    elif a==2:\n",
    "        print(\"*    \")\n",
    "    elif a==3:\n",
    "        print(\"*    \")    \n",
    "    elif a==4:\n",
    "        print(\"*    \")\n",
    "    elif a==5:\n",
    "        print(\" ****\")\n",
    "    a=a+1"
   ]
  },
  {
   "cell_type": "code",
   "execution_count": 82,
   "id": "1807955f",
   "metadata": {},
   "outputs": [
    {
     "name": "stdout",
     "output_type": "stream",
     "text": [
      "    *\n",
      "    *\n",
      "    *\n",
      " ****\n",
      "*   *\n",
      "*   *\n",
      " ****\n"
     ]
    }
   ],
   "source": [
    "# To create pattern d\n",
    "a=1\n",
    "while a<=7:\n",
    "    if a==1:\n",
    "        print(\"    *\")\n",
    "    elif a==2:\n",
    "        print(\"    *\")\n",
    "    elif a==3:\n",
    "        print(\"    *\")\n",
    "    elif a==4:\n",
    "        print(\" ****\")\n",
    "    elif a==5:\n",
    "        print(\"*   *\")\n",
    "    elif a==6:\n",
    "        print(\"*   *\")\n",
    "    elif a==7:\n",
    "        print(\" ****\")\n",
    "    a=a+1"
   ]
  },
  {
   "cell_type": "code",
   "execution_count": 83,
   "id": "69a63d1b",
   "metadata": {},
   "outputs": [
    {
     "name": "stdout",
     "output_type": "stream",
     "text": [
      " ****\n",
      "*    *\n",
      "******\n",
      "*    \n",
      " *****\n"
     ]
    }
   ],
   "source": [
    "# To create pattern e\n",
    "a=1\n",
    "while a<=5:\n",
    "    if a==1:\n",
    "        print(\" ****\")\n",
    "    elif a==2:\n",
    "        print(\"*    *\")\n",
    "    elif a==3:\n",
    "        print(\"******\")    \n",
    "    elif a==4:\n",
    "        print(\"*    \")\n",
    "    elif a==5:\n",
    "        print(\" *****\")\n",
    "    a=a+1"
   ]
  },
  {
   "cell_type": "code",
   "execution_count": 84,
   "id": "4eacd657",
   "metadata": {},
   "outputs": [
    {
     "name": "stdout",
     "output_type": "stream",
     "text": [
      " ****\n",
      "*\n",
      "*****\n",
      "*\n",
      "*\n"
     ]
    }
   ],
   "source": [
    "# To create a pattern f\n",
    "a=1\n",
    "while a<=5:\n",
    "    if a==1:\n",
    "        print(\" ****\")\n",
    "    elif a==2:\n",
    "        print(\"*\")\n",
    "    elif a==3:\n",
    "        print(\"*****\")\n",
    "    elif a==4:\n",
    "        print(\"*\")\n",
    "    elif a==5:\n",
    "        print(\"*\")    \n",
    "    a=a+1"
   ]
  },
  {
   "cell_type": "code",
   "execution_count": 85,
   "id": "b92bb8fb",
   "metadata": {},
   "outputs": [
    {
     "name": "stdout",
     "output_type": "stream",
     "text": [
      " ****\n",
      "*   *\n",
      " ****\n",
      "    *\n",
      "**** \n"
     ]
    }
   ],
   "source": [
    "# To create pattern g\n",
    "a=1\n",
    "while a<=5:\n",
    "    if a==1:\n",
    "        print(\" ****\")\n",
    "    elif a==2:\n",
    "        print(\"*   *\")\n",
    "    elif a==3:\n",
    "        print(\" ****\")\n",
    "    elif a==4:\n",
    "        print(\"    *\")\n",
    "    elif a==5:\n",
    "        print(\"**** \")\n",
    "    a=a+1"
   ]
  },
  {
   "cell_type": "code",
   "execution_count": 86,
   "id": "3dbe6df3",
   "metadata": {},
   "outputs": [
    {
     "name": "stdout",
     "output_type": "stream",
     "text": [
      "*    \n",
      "*    \n",
      "*****\n",
      "*   *\n",
      "*   *\n"
     ]
    }
   ],
   "source": [
    "# To create pattern h\n",
    "a=1\n",
    "while a<=5:\n",
    "    if a==1:\n",
    "        print(\"*    \")\n",
    "    elif a==2:\n",
    "        print(\"*    \")\n",
    "    elif a==3:\n",
    "        print(\"*****\")\n",
    "    elif a==4:\n",
    "        print(\"*   *\")\n",
    "    elif a==5:\n",
    "        print(\"*   *\")\n",
    "    a=a+1"
   ]
  },
  {
   "cell_type": "code",
   "execution_count": 87,
   "id": "9d8d4698",
   "metadata": {},
   "outputs": [
    {
     "name": "stdout",
     "output_type": "stream",
     "text": [
      "  *  \n",
      "     \n",
      "  |  \n",
      "  |  \n",
      "  |  \n"
     ]
    }
   ],
   "source": [
    "# To create pattern i\n",
    "a=1\n",
    "while a<=5:\n",
    "    if a==1:\n",
    "        print(\"  *  \")\n",
    "    elif a==2:\n",
    "        print(\"     \")\n",
    "    elif a==3:\n",
    "        print(\"  |  \")\n",
    "    elif a==4:\n",
    "        print(\"  |  \")\n",
    "    elif a==5:\n",
    "        print(\"  |  \")\n",
    "    a=a+1"
   ]
  },
  {
   "cell_type": "code",
   "execution_count": 88,
   "id": "a98ca35c",
   "metadata": {},
   "outputs": [
    {
     "name": "stdout",
     "output_type": "stream",
     "text": [
      "  *  \n",
      "     \n",
      "  |  \n",
      "  |  \n",
      "  |  \n",
      "* | \n",
      " ** \n"
     ]
    }
   ],
   "source": [
    "# To create pattern j\n",
    "a=1\n",
    "while a<=7:\n",
    "    if a==1:\n",
    "        print(\"  *  \")\n",
    "    elif a==2:\n",
    "        print(\"     \")\n",
    "    elif a==3:\n",
    "        print(\"  |  \")\n",
    "    elif a==4:\n",
    "        print(\"  |  \")\n",
    "    elif a==5:\n",
    "        print(\"  |  \")\n",
    "    elif a==6:\n",
    "        print(\"* | \")\n",
    "    elif a==7:\n",
    "        print(\" ** \")\n",
    "    a=a+1"
   ]
  },
  {
   "cell_type": "code",
   "execution_count": 89,
   "id": "74b78f90",
   "metadata": {},
   "outputs": [
    {
     "name": "stdout",
     "output_type": "stream",
     "text": [
      "*      \n",
      "*     *\n",
      "*  *   \n",
      "**     \n",
      "**     \n",
      "*  *   \n",
      "*     *\n"
     ]
    }
   ],
   "source": [
    "# To create pattern k\n",
    "a=1\n",
    "while a<=7:\n",
    "    if a==1:\n",
    "        print(\"*      \")\n",
    "    elif a==2:\n",
    "        print(\"*     *\")\n",
    "    elif a==3:\n",
    "        print(\"*  *   \")\n",
    "    elif a==4:\n",
    "        print(\"**     \")\n",
    "    elif a==5:\n",
    "        print(\"**     \")       \n",
    "    elif a==6:\n",
    "        print(\"*  *   \")\n",
    "    elif a==7:\n",
    "        print(\"*     *\")\n",
    "    a=a+1"
   ]
  },
  {
   "cell_type": "code",
   "execution_count": 90,
   "id": "8be33875",
   "metadata": {},
   "outputs": [
    {
     "name": "stdout",
     "output_type": "stream",
     "text": [
      "*    \n",
      "*    \n",
      "*    \n",
      "*    \n",
      " ****\n"
     ]
    }
   ],
   "source": [
    "# To create pattern l\n",
    "a=1\n",
    "while a<=5:\n",
    "    if a==1:\n",
    "        print(\"*    \")\n",
    "    elif a==2:\n",
    "        print(\"*    \")\n",
    "    elif a==3:\n",
    "        print(\"*    \")\n",
    "    elif a==4:\n",
    "        print(\"*    \")\n",
    "    elif a==5:\n",
    "        print(\" ****\")\n",
    "    a=a+1"
   ]
  },
  {
   "cell_type": "code",
   "execution_count": 91,
   "id": "a681710b",
   "metadata": {},
   "outputs": [
    {
     "name": "stdout",
     "output_type": "stream",
     "text": [
      "* *     * *\n",
      "*  *   *  *\n",
      "*    *    *\n",
      "*         *\n",
      "*         *\n",
      "*         *\n"
     ]
    }
   ],
   "source": [
    "# To create pattern m\n",
    "a=1\n",
    "while a<=6:\n",
    "    if a==1:\n",
    "        print(\"* *     * *\")\n",
    "    elif a==2:\n",
    "        print(\"*  *   *  *\")\n",
    "    elif a==3:\n",
    "        print(\"*    *    *\")\n",
    "    elif a==4:\n",
    "        print(\"*         *\")\n",
    "    elif a==5:\n",
    "        print(\"*         *\")\n",
    "    elif a==6:\n",
    "        print(\"*         *\")\n",
    "    a=a+1"
   ]
  },
  {
   "cell_type": "code",
   "execution_count": 92,
   "id": "551c0b47",
   "metadata": {},
   "outputs": [
    {
     "name": "stdout",
     "output_type": "stream",
     "text": [
      "* *******  \n",
      "*         *\n",
      "*         *\n",
      "*         *\n",
      "*         *\n"
     ]
    }
   ],
   "source": [
    "# To create pattern n\n",
    "a=1\n",
    "while a<=5:\n",
    "    if a==1:\n",
    "        print(\"* *******  \")\n",
    "    elif a==2:\n",
    "        print(\"*         *\")\n",
    "    elif a==3:\n",
    "        print(\"*         *\")\n",
    "    elif a==4:\n",
    "        print(\"*         *\")\n",
    "    elif a==5:\n",
    "        print(\"*         *\")\n",
    "    a=a+1"
   ]
  },
  {
   "cell_type": "code",
   "execution_count": 93,
   "id": "760694de",
   "metadata": {},
   "outputs": [
    {
     "name": "stdout",
     "output_type": "stream",
     "text": [
      "  ***  \n",
      "*     *\n",
      "*     *\n",
      "*     *\n",
      "  ***  \n"
     ]
    }
   ],
   "source": [
    "# To create pattern o\n",
    "a=1\n",
    "while a<=5:\n",
    "    if a==1:\n",
    "        print(\"  ***  \")\n",
    "    elif a==2:\n",
    "        print(\"*     *\")\n",
    "    elif a==3:\n",
    "        print(\"*     *\")\n",
    "    elif a==4:\n",
    "        print(\"*     *\")\n",
    "    elif a==5:\n",
    "        print(\"  ***  \")\n",
    "    a=a+1"
   ]
  },
  {
   "cell_type": "code",
   "execution_count": 94,
   "id": "bb9f3578",
   "metadata": {},
   "outputs": [
    {
     "name": "stdout",
     "output_type": "stream",
     "text": [
      " **   \n",
      "*   * \n",
      "*    *\n",
      "*   * \n",
      "****  \n",
      "*     \n",
      "*     \n"
     ]
    }
   ],
   "source": [
    "# To create pattern p\n",
    "a=1\n",
    "while a<=7:\n",
    "    if a==1:\n",
    "        print(\" **   \")\n",
    "    elif a==2:\n",
    "        print(\"*   * \")\n",
    "    elif a==3:\n",
    "        print(\"*    *\")\n",
    "    elif a==4:\n",
    "        print(\"*   * \")\n",
    "    elif a==5:\n",
    "        print(\"****  \")\n",
    "    elif a==6:\n",
    "        print(\"*     \")\n",
    "    elif a==7:\n",
    "        print(\"*     \")\n",
    "    a=a+1"
   ]
  },
  {
   "cell_type": "code",
   "execution_count": 95,
   "id": "b17258af",
   "metadata": {},
   "outputs": [
    {
     "name": "stdout",
     "output_type": "stream",
     "text": [
      " ***  \n",
      "*    *\n",
      "*    *\n",
      "*    *\n",
      "  ****\n",
      "     *\n",
      "     *\n"
     ]
    }
   ],
   "source": [
    "# To create pattern q\n",
    "a=1\n",
    "while a<=7:\n",
    "    if a==1:\n",
    "        print(\" ***  \")\n",
    "    elif a==2:\n",
    "        print(\"*    *\")\n",
    "    elif a==3:\n",
    "        print(\"*    *\")\n",
    "    elif a==4:\n",
    "        print(\"*    *\")\n",
    "    elif a==5:\n",
    "        print(\"  ****\")\n",
    "    elif a==6:\n",
    "        print(\"     *\")\n",
    "    elif a==7:\n",
    "        print(\"     *\")\n",
    "    a=a+1"
   ]
  },
  {
   "cell_type": "code",
   "execution_count": 96,
   "id": "4629dcd2",
   "metadata": {},
   "outputs": [
    {
     "name": "stdout",
     "output_type": "stream",
     "text": [
      "*          *\n",
      "  *      *  \n",
      "    *   *   \n",
      "      *     \n",
      "     * *    \n",
      "     ***    \n"
     ]
    }
   ],
   "source": [
    "# To create pattern r\n",
    "a=1\n",
    "while a<=7:\n",
    "    if a==1:\n",
    "        print(\"*          *\")\n",
    "    elif a==2:\n",
    "        print(\"  *      *  \")\n",
    "    elif a==3:\n",
    "        print(\"    *   *   \")    \n",
    "    elif a==4:\n",
    "        print(\"      *     \")\n",
    "    elif a==5:\n",
    "        print(\"     * *    \")\n",
    "    elif a==6:\n",
    "        print(\"     ***    \")\n",
    "\n",
    "    a=a+1"
   ]
  },
  {
   "cell_type": "code",
   "execution_count": 97,
   "id": "926bb7e8",
   "metadata": {},
   "outputs": [
    {
     "name": "stdout",
     "output_type": "stream",
     "text": [
      " ******\n",
      "*      \n",
      "  *    \n",
      "    *  \n",
      "      * \n",
      "       *\n",
      "******* \n"
     ]
    }
   ],
   "source": [
    "# To create pattern s\n",
    "a=1\n",
    "while a<=7:\n",
    "    if a==1:\n",
    "        print(\" ******\")\n",
    "    elif a==2:\n",
    "        print(\"*      \")\n",
    "    elif a==3:\n",
    "        print(\"  *    \")\n",
    "    elif a==4:\n",
    "        print(\"    *  \")    \n",
    "    elif a==5:\n",
    "        print(\"      * \")\n",
    "    elif a==6:\n",
    "        print(\"       *\")\n",
    "    elif a==7:\n",
    "        print(\"******* \")\n",
    "    a=a+1"
   ]
  },
  {
   "cell_type": "code",
   "execution_count": 98,
   "id": "6d5122d4",
   "metadata": {},
   "outputs": [
    {
     "name": "stdout",
     "output_type": "stream",
     "text": [
      "*    \n",
      "*    \n",
      "*    \n",
      "****\n",
      "*    \n",
      "*    \n",
      " ***\n"
     ]
    }
   ],
   "source": [
    "# To create pattern t\n",
    "a=1\n",
    "while a<=7:\n",
    "    if a==1:\n",
    "        print(\"*    \")\n",
    "    elif a==2:\n",
    "        print(\"*    \")\n",
    "    elif a==3:\n",
    "        print(\"*    \")\n",
    "    elif a==4:\n",
    "        print(\"****\")\n",
    "    elif a==5:\n",
    "        print(\"*    \")\n",
    "    elif a==6:\n",
    "        print(\"*    \")\n",
    "    elif a==7:\n",
    "        print(\" ***\")\n",
    "    a=a+1"
   ]
  },
  {
   "cell_type": "code",
   "execution_count": 99,
   "id": "34b16bbd",
   "metadata": {},
   "outputs": [
    {
     "name": "stdout",
     "output_type": "stream",
     "text": [
      "*   *\n",
      "*   *\n",
      "*   *\n",
      " *** \n"
     ]
    }
   ],
   "source": [
    "# To create pattern u\n",
    "a=1\n",
    "while a<=4:\n",
    "    if a==1:\n",
    "        print(\"*   *\")\n",
    "    elif a==2:\n",
    "        print(\"*   *\")\n",
    "    elif a==3:\n",
    "        print(\"*   *\")\n",
    "    elif a==4:\n",
    "        print(\" *** \")\n",
    "    a=a+1"
   ]
  },
  {
   "cell_type": "code",
   "execution_count": 100,
   "id": "2b858aeb",
   "metadata": {},
   "outputs": [
    {
     "name": "stdout",
     "output_type": "stream",
     "text": [
      "*   *\n",
      "*   *\n",
      " * * \n",
      "  *  \n"
     ]
    }
   ],
   "source": [
    "# To create pattern v\n",
    "a=1\n",
    "while a<=4:\n",
    "    if a==1:\n",
    "        print(\"*   *\")\n",
    "    elif a==2:\n",
    "        print(\"*   *\")\n",
    "    elif a==3:\n",
    "        print(\" * * \")\n",
    "    elif a==4:\n",
    "        print(\"  *  \")\n",
    "    a=a+1"
   ]
  },
  {
   "cell_type": "code",
   "execution_count": 101,
   "id": "ef91b76b",
   "metadata": {},
   "outputs": [
    {
     "name": "stdout",
     "output_type": "stream",
     "text": [
      "*   *   *\n",
      "*   *   *\n",
      " * * * * \n",
      "  *   *  \n"
     ]
    }
   ],
   "source": [
    "# To create pattern w\n",
    "a=1\n",
    "while a<=4:\n",
    "    if a==1:\n",
    "        print(\"*   *   *\")\n",
    "    elif a==2:\n",
    "        print(\"*   *   *\")\n",
    "    elif a==3:\n",
    "        print(\" * * * * \")\n",
    "    elif a==4:\n",
    "        print(\"  *   *  \")\n",
    "    a=a+1"
   ]
  },
  {
   "cell_type": "code",
   "execution_count": 102,
   "id": "e8559eff",
   "metadata": {},
   "outputs": [
    {
     "name": "stdout",
     "output_type": "stream",
     "text": [
      "*      *\n",
      " *   * \n",
      "   *    \n",
      " *   *  \n",
      "*      *\n"
     ]
    }
   ],
   "source": [
    "# To create pattern x\n",
    "a=1\n",
    "while a<=5:\n",
    "    if a==1:\n",
    "        print(\"*      *\")\n",
    "    elif a==2: \n",
    "        print(\" *   * \")\n",
    "    elif a==3:\n",
    "        print(\"   *    \")\n",
    "    elif a==4:\n",
    "        print(\" *   *  \")\n",
    "    elif a==5:\n",
    "        print(\"*      *\")\n",
    "    a=a+1"
   ]
  },
  {
   "cell_type": "code",
   "execution_count": 103,
   "id": "e0171e72",
   "metadata": {},
   "outputs": [
    {
     "name": "stdout",
     "output_type": "stream",
     "text": [
      "*      *\n",
      " *   * \n",
      "   *    \n",
      " *      \n",
      "*       \n"
     ]
    }
   ],
   "source": [
    "# To create pattern y\n",
    "a=1\n",
    "while a<=5:\n",
    "    if a==1:\n",
    "        print(\"*      *\")\n",
    "    elif a==2: \n",
    "        print(\" *   * \")\n",
    "    elif a==3:\n",
    "        print(\"   *    \")\n",
    "    elif a==4:\n",
    "        print(\" *      \")\n",
    "    elif a==5:\n",
    "        print(\"*       \")\n",
    "    a=a+1"
   ]
  },
  {
   "cell_type": "code",
   "execution_count": 104,
   "id": "59ce37b9",
   "metadata": {},
   "outputs": [
    {
     "name": "stdout",
     "output_type": "stream",
     "text": [
      "***** \n",
      "    * \n",
      "   *  \n",
      " *    \n",
      "******\n"
     ]
    }
   ],
   "source": [
    "# To create pattern z\n",
    "a=1\n",
    "while a<=5:\n",
    "    if a==1:\n",
    "        print(\"***** \")\n",
    "    elif a==2: \n",
    "        print(\"    * \")\n",
    "    elif a==3:\n",
    "        print(\"   *  \")\n",
    "    elif a==4:\n",
    "        print(\" *    \")\n",
    "    elif a==5:\n",
    "        print(\"******\")\n",
    "    a=a+1"
   ]
  },
  {
   "cell_type": "code",
   "execution_count": null,
   "id": "c091f840",
   "metadata": {},
   "outputs": [],
   "source": []
  }
 ],
 "metadata": {
  "kernelspec": {
   "display_name": "Python 3 (ipykernel)",
   "language": "python",
   "name": "python3"
  },
  "language_info": {
   "codemirror_mode": {
    "name": "ipython",
    "version": 3
   },
   "file_extension": ".py",
   "mimetype": "text/x-python",
   "name": "python",
   "nbconvert_exporter": "python",
   "pygments_lexer": "ipython3",
   "version": "3.9.13"
  }
 },
 "nbformat": 4,
 "nbformat_minor": 5
}
