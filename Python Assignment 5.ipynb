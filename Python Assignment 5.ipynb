{
 "cells": [
  {
   "cell_type": "code",
   "execution_count": 9,
   "id": "a33af5f1",
   "metadata": {},
   "outputs": [],
   "source": [
    "#1. Define a function which will return Max of three numbers\n",
    "def max(a,b,c):\n",
    "    big=0\n",
    "    for y in (a,b,c):\n",
    "        if y>big:\n",
    "            big=y\n",
    "    return big"
   ]
  },
  {
   "cell_type": "code",
   "execution_count": 12,
   "id": "64824e0b",
   "metadata": {},
   "outputs": [
    {
     "data": {
      "text/plain": [
       "30"
      ]
     },
     "execution_count": 12,
     "metadata": {},
     "output_type": "execute_result"
    }
   ],
   "source": [
    "max(20,30,40)"
   ]
  },
  {
   "cell_type": "code",
   "execution_count": 13,
   "id": "96e695fc",
   "metadata": {},
   "outputs": [],
   "source": [
    "#2. Define a Python Function to reverse a string.\n",
    "def reverse(s):\n",
    "    l=list(s)\n",
    "    l.reverse()\n",
    "    s1=\"\".join(l)\n",
    "    return s1\n",
    "    "
   ]
  },
  {
   "cell_type": "code",
   "execution_count": 15,
   "id": "efeac288",
   "metadata": {},
   "outputs": [
    {
     "data": {
      "text/plain": [
       "'scitamonnI'"
      ]
     },
     "execution_count": 15,
     "metadata": {},
     "output_type": "execute_result"
    }
   ],
   "source": [
    "reverse(\"Innomatics\")"
   ]
  },
  {
   "cell_type": "code",
   "execution_count": 22,
   "id": "e3ebc364",
   "metadata": {},
   "outputs": [],
   "source": [
    "#3. Write a Python program to define a function that accepts 2 values and return its sum, subtraction and multiplication.\n",
    "def oper(a,b):\n",
    "    return print(\"sum = {},subtraction = {},multiplication = {}\".format((a+b),(a-b),(a*b)))"
   ]
  },
  {
   "cell_type": "code",
   "execution_count": 23,
   "id": "98b19158",
   "metadata": {},
   "outputs": [
    {
     "name": "stdout",
     "output_type": "stream",
     "text": [
      "sum = 30,subtraction = -10,multiplication = 200\n"
     ]
    }
   ],
   "source": [
    "oper(10,20)"
   ]
  },
  {
   "cell_type": "code",
   "execution_count": 30,
   "id": "f80a3a6d",
   "metadata": {},
   "outputs": [],
   "source": [
    "#4. Define a function that accepts roll number and returns whether the student is present or absent.\n",
    "def check(r):\n",
    "    present=[1,2,5,6,9,10,20,30,40,50]\n",
    "    if r in present:\n",
    "        return \"Student is present\"\n",
    "    else:\n",
    "        return \"Student is absent\""
   ]
  },
  {
   "cell_type": "code",
   "execution_count": 31,
   "id": "d7f21524",
   "metadata": {},
   "outputs": [
    {
     "data": {
      "text/plain": [
       "'Student is absent'"
      ]
     },
     "execution_count": 31,
     "metadata": {},
     "output_type": "execute_result"
    }
   ],
   "source": [
    "check(51)"
   ]
  },
  {
   "cell_type": "code",
   "execution_count": 32,
   "id": "93a14a47",
   "metadata": {},
   "outputs": [],
   "source": [
    "#5. Define a function in python that accepts n values and returns the maximum of n numbers\n",
    "def max(*n):\n",
    "    big=0\n",
    "    for y in n:\n",
    "        if y>big:\n",
    "            big=y\n",
    "    return big"
   ]
  },
  {
   "cell_type": "code",
   "execution_count": 33,
   "id": "2ab06d02",
   "metadata": {},
   "outputs": [
    {
     "data": {
      "text/plain": [
       "100"
      ]
     },
     "execution_count": 33,
     "metadata": {},
     "output_type": "execute_result"
    }
   ],
   "source": [
    "max(1,2,45,56,78,97,100)"
   ]
  },
  {
   "cell_type": "code",
   "execution_count": 39,
   "id": "eb4b09ff",
   "metadata": {},
   "outputs": [],
   "source": [
    "#6. Define a function which counts vowels and consonant in a word.\n",
    "def vowelCount(s):\n",
    "    count_vowel=0\n",
    "    count_consonant=0\n",
    "    l=list(s.lower())\n",
    "    for y in l:\n",
    "        if y==\"a\" or y==\"e\" or y==\"i\" or y==\"o\" or y==\"u\":\n",
    "            count_vowel+=1\n",
    "        else:\n",
    "            count_consonant+=1\n",
    "    return print(\"Number of Vowels= {}, Number of Consonants= {}\".format(count_vowel,count_consonant))\n",
    "            "
   ]
  },
  {
   "cell_type": "code",
   "execution_count": 41,
   "id": "c2220993",
   "metadata": {},
   "outputs": [
    {
     "name": "stdout",
     "output_type": "stream",
     "text": [
      "Number of Vowels= 4, Number of Consonants= 6\n"
     ]
    }
   ],
   "source": [
    "vowelCount(\"Innomatics\")"
   ]
  },
  {
   "cell_type": "code",
   "execution_count": 1,
   "id": "0217e654",
   "metadata": {},
   "outputs": [],
   "source": [
    "#7. Define a function that returns Factorial of a number\n",
    "def factorial(n):\n",
    "    if n==1:\n",
    "        return 1\n",
    "    else:\n",
    "        return n*factorial(n-1)"
   ]
  },
  {
   "cell_type": "code",
   "execution_count": 2,
   "id": "3e8566cd",
   "metadata": {},
   "outputs": [
    {
     "data": {
      "text/plain": [
       "40320"
      ]
     },
     "execution_count": 2,
     "metadata": {},
     "output_type": "execute_result"
    }
   ],
   "source": [
    "factorial(8)"
   ]
  },
  {
   "cell_type": "code",
   "execution_count": 3,
   "id": "f74d631d",
   "metadata": {},
   "outputs": [],
   "source": [
    "#8. Define a function that accepts radius and returns the area of a circle. area=pi*(r**2)\n",
    "def area(r):\n",
    "    return print(\"Area of a circle of radius {} is {}\".format(r,(22/7)*r**2))"
   ]
  },
  {
   "cell_type": "code",
   "execution_count": 4,
   "id": "01041958",
   "metadata": {},
   "outputs": [
    {
     "name": "stdout",
     "output_type": "stream",
     "text": [
      "Area of a circle of radius 4 is 50.285714285714285\n"
     ]
    }
   ],
   "source": [
    "area(4)"
   ]
  },
  {
   "cell_type": "code",
   "execution_count": 5,
   "id": "32d6ed44",
   "metadata": {},
   "outputs": [],
   "source": [
    "#9. Define a function that takes a number as a parameter and check the number is prime or not. \n",
    "#prime greater than 1 and not divisible by numbers between 2 and number-1\n",
    "def prime(n):\n",
    "    if n>1:\n",
    "        for y in range(2,n):\n",
    "            if n%y==0:\n",
    "                return \"Number is not Prime\"\n",
    "            else:\n",
    "                return \"Number is Prime\""
   ]
  },
  {
   "cell_type": "code",
   "execution_count": 6,
   "id": "7e9efc2c",
   "metadata": {},
   "outputs": [
    {
     "data": {
      "text/plain": [
       "'Number is Prime'"
      ]
     },
     "execution_count": 6,
     "metadata": {},
     "output_type": "execute_result"
    }
   ],
   "source": [
    "prime(7)"
   ]
  },
  {
   "cell_type": "code",
   "execution_count": 8,
   "id": "fb86f80e",
   "metadata": {},
   "outputs": [
    {
     "data": {
      "text/plain": [
       "'Number is not Prime'"
      ]
     },
     "execution_count": 8,
     "metadata": {},
     "output_type": "execute_result"
    }
   ],
   "source": [
    "prime(54)"
   ]
  },
  {
   "cell_type": "code",
   "execution_count": 14,
   "id": "6074381e",
   "metadata": {},
   "outputs": [],
   "source": [
    "#10. Mary wants to run a 25-mile marathon. When she attempts to sign up for the marathon, \n",
    "#she notices the sign-up sheet doesn't directly state the marathon's length. \n",
    "#Instead, the marathon's length is listed in small, different portions. \n",
    "#Help Mary find out how long the marathon actually is. So create a function that\n",
    "#** Return True if the marathon is 25 miles long, otherwise, return False.\n",
    "def marathon(n):\n",
    "    total=0\n",
    "    for y in n:\n",
    "        total=total+abs(y)\n",
    "    if total==25:\n",
    "        return True\n",
    "    else:\n",
    "        return False"
   ]
  },
  {
   "cell_type": "code",
   "execution_count": 15,
   "id": "2f3f4cd2",
   "metadata": {},
   "outputs": [
    {
     "data": {
      "text/plain": [
       "False"
      ]
     },
     "execution_count": 15,
     "metadata": {},
     "output_type": "execute_result"
    }
   ],
   "source": [
    "marathon([1,2,3,4])"
   ]
  },
  {
   "cell_type": "code",
   "execution_count": 16,
   "id": "99f6699f",
   "metadata": {},
   "outputs": [
    {
     "data": {
      "text/plain": [
       "True"
      ]
     },
     "execution_count": 16,
     "metadata": {},
     "output_type": "execute_result"
    }
   ],
   "source": [
    "marathon([1,9,5,8,2])"
   ]
  },
  {
   "cell_type": "code",
   "execution_count": 17,
   "id": "0ba3e1ee",
   "metadata": {},
   "outputs": [
    {
     "data": {
      "text/plain": [
       "True"
      ]
     },
     "execution_count": 17,
     "metadata": {},
     "output_type": "execute_result"
    }
   ],
   "source": [
    "marathon([-6,15,4])"
   ]
  },
  {
   "cell_type": "code",
   "execution_count": 27,
   "id": "55c99414",
   "metadata": {},
   "outputs": [],
   "source": [
    "#11. Create a function that takes a number and returns True if the number is automorphic, False if it isn't.\n",
    "#** number n is automorphic if n^2 ends in n.\n",
    "def autoMorphic(n):\n",
    "    Dn=str(n**2)\n",
    "    if Dn[-1]==str(n):\n",
    "        return True\n",
    "    else:\n",
    "        return False  \n",
    "    "
   ]
  },
  {
   "cell_type": "code",
   "execution_count": 28,
   "id": "4117dccf",
   "metadata": {},
   "outputs": [
    {
     "data": {
      "text/plain": [
       "True"
      ]
     },
     "execution_count": 28,
     "metadata": {},
     "output_type": "execute_result"
    }
   ],
   "source": [
    "autoMorphic(5)"
   ]
  },
  {
   "cell_type": "code",
   "execution_count": 45,
   "id": "e4df400a",
   "metadata": {},
   "outputs": [],
   "source": [
    "#12) Create a function, that will take given a, b, c, and do the following:\n",
    "#Add a to itself b times and Check if the result is divisible by c.\n",
    "#and return true if it is divisible by c or false\n",
    "def opera(a,b,c):\n",
    "    total=0\n",
    "    for y in range(b):\n",
    "        total=a+total\n",
    "    if total//c==1:\n",
    "        return True\n",
    "    else: \n",
    "        return False"
   ]
  },
  {
   "cell_type": "code",
   "execution_count": 46,
   "id": "d19920c2",
   "metadata": {},
   "outputs": [
    {
     "data": {
      "text/plain": [
       "True"
      ]
     },
     "execution_count": 46,
     "metadata": {},
     "output_type": "execute_result"
    }
   ],
   "source": [
    "opera(1,2,2)"
   ]
  },
  {
   "cell_type": "code",
   "execution_count": 65,
   "id": "e3e12781",
   "metadata": {},
   "outputs": [],
   "source": [
    "#13) Create a function that changes specific words into emoticons. Given a sentence as a string, \n",
    "#replace the words smile, grin, sad and mad with their corresponding emoticons.\n",
    "#word emoticon\n",
    "#smile :D\n",
    "#grin :)\n",
    "#sad :(\n",
    "#mad :P\n",
    "def emoticons(s):\n",
    "    l=s.split(\" \")\n",
    "    for y in range(len(l)):\n",
    "        if l[y]==\"smile\":\n",
    "            l[y]=\":D\"\n",
    "        elif l[y]==\"grin\":\n",
    "            l[y]=\":)\"\n",
    "        elif l[y]==\"sad\":\n",
    "            l[y]=\":(\"\n",
    "        elif l[y]==\"mad\":\n",
    "            l[y]=\":P\"\n",
    "    return \" \".join(l)    "
   ]
  },
  {
   "cell_type": "code",
   "execution_count": 66,
   "id": "8d42549e",
   "metadata": {},
   "outputs": [
    {
     "data": {
      "text/plain": [
       "'Make me :D'"
      ]
     },
     "execution_count": 66,
     "metadata": {},
     "output_type": "execute_result"
    }
   ],
   "source": [
    "emoticons(\"Make me smile\")"
   ]
  },
  {
   "cell_type": "code",
   "execution_count": 67,
   "id": "02ceed2b",
   "metadata": {},
   "outputs": [
    {
     "data": {
      "text/plain": [
       "'Make me :)'"
      ]
     },
     "execution_count": 67,
     "metadata": {},
     "output_type": "execute_result"
    }
   ],
   "source": [
    "emoticons(\"Make me grin\")"
   ]
  },
  {
   "cell_type": "code",
   "execution_count": 68,
   "id": "05694d8f",
   "metadata": {},
   "outputs": [
    {
     "data": {
      "text/plain": [
       "'Make me :('"
      ]
     },
     "execution_count": 68,
     "metadata": {},
     "output_type": "execute_result"
    }
   ],
   "source": [
    "emoticons(\"Make me sad\")"
   ]
  },
  {
   "cell_type": "code",
   "execution_count": 69,
   "id": "9a88e6cd",
   "metadata": {},
   "outputs": [
    {
     "data": {
      "text/plain": [
       "'Make me :P'"
      ]
     },
     "execution_count": 69,
     "metadata": {},
     "output_type": "execute_result"
    }
   ],
   "source": [
    "emoticons(\"Make me mad\")"
   ]
  },
  {
   "cell_type": "code",
   "execution_count": 70,
   "id": "1c7285e4",
   "metadata": {},
   "outputs": [
    {
     "data": {
      "text/plain": [
       "[1, 4, 9, 16, 25, 36, 49, 64, 81]"
      ]
     },
     "execution_count": 70,
     "metadata": {},
     "output_type": "execute_result"
    }
   ],
   "source": [
    "#14) Write a Python program to square and cube every number in a given list of integers using Lambda\n",
    "list(map(lambda x:x**2,range(1,10)))"
   ]
  },
  {
   "cell_type": "code",
   "execution_count": 71,
   "id": "7a9ea770",
   "metadata": {},
   "outputs": [
    {
     "data": {
      "text/plain": [
       "[1, 8, 27, 64, 125, 216, 343, 512, 729]"
      ]
     },
     "execution_count": 71,
     "metadata": {},
     "output_type": "execute_result"
    }
   ],
   "source": [
    "list(map(lambda x:x**3,range(1,10)))"
   ]
  },
  {
   "cell_type": "code",
   "execution_count": 19,
   "id": "86075a7b",
   "metadata": {},
   "outputs": [],
   "source": [
    "#15) Write a Python program to check whether a given string is number or not using Lambda\n",
    "q=lambda s:s.isdigit()"
   ]
  },
  {
   "cell_type": "code",
   "execution_count": 20,
   "id": "0f784715",
   "metadata": {},
   "outputs": [
    {
     "data": {
      "text/plain": [
       "False"
      ]
     },
     "execution_count": 20,
     "metadata": {},
     "output_type": "execute_result"
    }
   ],
   "source": [
    "q(\"abd\")"
   ]
  },
  {
   "cell_type": "code",
   "execution_count": 21,
   "id": "21c8a5e7",
   "metadata": {},
   "outputs": [
    {
     "data": {
      "text/plain": [
       "True"
      ]
     },
     "execution_count": 21,
     "metadata": {},
     "output_type": "execute_result"
    }
   ],
   "source": [
    "q(\"123\")"
   ]
  }
 ],
 "metadata": {
  "kernelspec": {
   "display_name": "Python 3 (ipykernel)",
   "language": "python",
   "name": "python3"
  },
  "language_info": {
   "codemirror_mode": {
    "name": "ipython",
    "version": 3
   },
   "file_extension": ".py",
   "mimetype": "text/x-python",
   "name": "python",
   "nbconvert_exporter": "python",
   "pygments_lexer": "ipython3",
   "version": "3.9.13"
  }
 },
 "nbformat": 4,
 "nbformat_minor": 5
}
