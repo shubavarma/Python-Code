{
 "cells": [
  {
   "cell_type": "markdown",
   "metadata": {},
   "source": [
    "# IF , ELSE.... FOR LOOP"
   ]
  },
  {
   "cell_type": "markdown",
   "metadata": {},
   "source": [
    "> print this is hour in current minute is odd"
   ]
  },
  {
   "cell_type": "code",
   "execution_count": 2,
   "metadata": {},
   "outputs": [
    {
     "name": "stdout",
     "output_type": "stream",
     "text": [
      "Type the minute: 53\n",
      "minute =  53\n",
      "This is a Odd minute\n"
     ]
    }
   ],
   "source": [
    "#CODE HERE\n",
    "minute=int(input(\"Type the minute: \"))\n",
    "print(\"minute = \", minute)\n",
    "if minute%2==0:\n",
    "        print(\"This is Even minute\")\n",
    "else:\n",
    "    print(\"This is a Odd minute\")\n"
   ]
  },
  {
   "cell_type": "code",
   "execution_count": 11,
   "metadata": {},
   "outputs": [
    {
     "name": "stdout",
     "output_type": "stream",
     "text": [
      "minute : 53\n",
      "This is Odd minute\n"
     ]
    }
   ],
   "source": []
  },
  {
   "cell_type": "markdown",
   "metadata": {},
   "source": [
    "> if today is satarday then print 'Party !!!' or if sunday print take rest other wise print work , work, work"
   ]
  },
  {
   "cell_type": "code",
   "execution_count": 9,
   "metadata": {},
   "outputs": [
    {
     "name": "stdout",
     "output_type": "stream",
     "text": [
      "Today is : Sunday\n",
      "Take rest\n"
     ]
    }
   ],
   "source": [
    "#CODE HERE\n",
    "today=input(\"Today is : \")\n",
    "if today==\"Saturday\":\n",
    "    print(\"Party!!!\")\n",
    "elif today==\"Sunday\":\n",
    "    print(\"Take rest\")\n",
    "    \n",
    "elif today==\"Monday\" or today==\"Tuesday\" or today==\"Wednesday\" or today==\"Thursday\" or today==\"Friday\":\n",
    "    print(\"work,work,work\")\n",
    "else:\n",
    "    print(\"you did not type the day of the week\")"
   ]
  },
  {
   "cell_type": "code",
   "execution_count": 12,
   "metadata": {},
   "outputs": [
    {
     "name": "stdout",
     "output_type": "stream",
     "text": [
      "Today is : Sunday\n",
      "Take Rest.\n"
     ]
    }
   ],
   "source": []
  },
  {
   "cell_type": "markdown",
   "metadata": {},
   "source": [
    "> Write a program which will find all such numbers which are divisible by 7 but are not a multiple of 5, between 2000 and 3200 (both included). The numbers obtained should be printed in a comma-separated sequence on a single line."
   ]
  },
  {
   "cell_type": "code",
   "execution_count": 13,
   "metadata": {
    "scrolled": true
   },
   "outputs": [
    {
     "name": "stdout",
     "output_type": "stream",
     "text": [
      "2002,2009,2016,2023,2037,2044,2051,2058,2072,2079,2086,2093,2107,2114,2121,2128,2142,2149,2156,2163,2177,2184,2191,2198,2212,2219,2226,2233,2247,2254,2261,2268,2282,2289,2296,2303,2317,2324,2331,2338,2352,2359,2366,2373,2387,2394,2401,2408,2422,2429,2436,2443,2457,2464,2471,2478,2492,2499,2506,2513,2527,2534,2541,2548,2562,2569,2576,2583,2597,2604,2611,2618,2632,2639,2646,2653,2667,2674,2681,2688,2702,2709,2716,2723,2737,2744,2751,2758,2772,2779,2786,2793,2807,2814,2821,2828,2842,2849,2856,2863,2877,2884,2891,2898,2912,2919,2926,2933,2947,2954,2961,2968,2982,2989,2996,3003,3017,3024,3031,3038,3052,3059,3066,3073,3087,3094,3101,3108,3122,3129,3136,3143,3157,3164,3171,3178,3192,3199,"
     ]
    }
   ],
   "source": [
    "#CODE HERE            \n",
    "for y in range(2000,3201):\n",
    "    if y%7==0 and y%5!=0:\n",
    "        print(y,end=\",\")   \n",
    "    else:\n",
    "        continue\n"
   ]
  },
  {
   "cell_type": "code",
   "execution_count": null,
   "metadata": {},
   "outputs": [],
   "source": []
  },
  {
   "cell_type": "code",
   "execution_count": 14,
   "metadata": {},
   "outputs": [
    {
     "name": "stdout",
     "output_type": "stream",
     "text": [
      "2002,2009,2016,2023,2037,2044,2051,2058,2072,2079,2086,2093,2107,2114,2121,2128,2142,2149,2156,2163,2177,2184,2191,2198,2212,2219,2226,2233,2247,2254,2261,2268,2282,2289,2296,2303,2317,2324,2331,2338,2352,2359,2366,2373,2387,2394,2401,2408,2422,2429,2436,2443,2457,2464,2471,2478,2492,2499,2506,2513,2527,2534,2541,2548,2562,2569,2576,2583,2597,2604,2611,2618,2632,2639,2646,2653,2667,2674,2681,2688,2702,2709,2716,2723,2737,2744,2751,2758,2772,2779,2786,2793,2807,2814,2821,2828,2842,2849,2856,2863,2877,2884,2891,2898,2912,2919,2926,2933,2947,2954,2961,2968,2982,2989,2996,3003,3017,3024,3031,3038,3052,3059,3066,3073,3087,3094,3101,3108,3122,3129,3136,3143,3157,3164,3171,3178,3192,3199\n"
     ]
    }
   ],
   "source": [
    "#CODE HERE"
   ]
  },
  {
   "cell_type": "markdown",
   "metadata": {},
   "source": [
    "> Write a program which can compute the factorial of a given numbers.\n",
    "The results should be printed in a comma-separated sequence on a single line.\n",
    "Suppose the following input is supplied to the program:\n",
    "8\n",
    "Then, the output should be:\n",
    "40320"
   ]
  },
  {
   "cell_type": "code",
   "execution_count": 38,
   "metadata": {},
   "outputs": [
    {
     "name": "stdout",
     "output_type": "stream",
     "text": [
      "Enter the value to compute the factorial: 8\n",
      "8! = 40320\n"
     ]
    }
   ],
   "source": [
    "#CODE HERE\n",
    "number=int(input(\"Enter the value to compute the factorial: \"))\n",
    "count=1\n",
    "for y in range(1,number+1):\n",
    "    count=count*y\n",
    "print(\"{}! = {}\".format(number,count))      "
   ]
  },
  {
   "cell_type": "code",
   "execution_count": 15,
   "metadata": {},
   "outputs": [
    {
     "name": "stdout",
     "output_type": "stream",
     "text": [
      "Enter the value to compute the factorial: 8\n",
      "8! = 40320\n"
     ]
    }
   ],
   "source": []
  },
  {
   "cell_type": "markdown",
   "metadata": {},
   "source": [
    "> With a given integral number n, write a program to generate a dictionary that contains (i, i*i) such that is an integral number between 1 and n (both included). and then the program should print the dictionary.\n",
    "Suppose the following input is supplied to the program:\n",
    "8\n",
    "Then, the output should be:\n",
    "{1: 1, 2: 4, 3: 9, 4: 16, 5: 25, 6: 36, 7: 49, 8: 64}\n",
    "\n",
    "*Hint* : use dict()"
   ]
  },
  {
   "cell_type": "code",
   "execution_count": 19,
   "metadata": {},
   "outputs": [
    {
     "name": "stdout",
     "output_type": "stream",
     "text": [
      "Enter the value: 8\n",
      "{1: 1, 2: 4, 3: 9, 4: 16, 5: 25, 6: 36, 7: 49, 8: 64}\n"
     ]
    }
   ],
   "source": [
    "#CODE HERE           \n",
    "n=int(input(\"Enter the value: \"))\n",
    "d={}\n",
    "for y in range(1,n+1):\n",
    "    d.update({y:y*y})\n",
    "print(d)\n"
   ]
  },
  {
   "cell_type": "code",
   "execution_count": 16,
   "metadata": {},
   "outputs": [
    {
     "name": "stdout",
     "output_type": "stream",
     "text": [
      "Enter the value: 8\n",
      "{1: 1, 2: 4, 3: 9, 4: 16, 5: 25, 6: 36, 7: 49, 8: 64}\n"
     ]
    }
   ],
   "source": []
  },
  {
   "cell_type": "markdown",
   "metadata": {},
   "source": [
    "> create user defined fuction for \n",
    "- addition \"add\"\n",
    "- subtraction \"sub\"\n",
    "- multiplication \"mul\"\n",
    "- division \"div\"\n",
    "- power \"pow\""
   ]
  },
  {
   "cell_type": "code",
   "execution_count": 62,
   "metadata": {},
   "outputs": [
    {
     "name": "stdout",
     "output_type": "stream",
     "text": [
      "Please enter the value: 8\n",
      "Please enter the value: 6\n",
      "Enter the keyword{add, sub, mul, div, pow}: pow\n",
      "==============================\n",
      "power of 8 and 6 is : 262144\n"
     ]
    }
   ],
   "source": [
    "#CODE HERE\n",
    "x=int(input(\"Please enter the value: \"))\n",
    "y=int(input(\"Please enter the value: \"))\n",
    "opera=input(\"Enter the keyword{add, sub, mul, div, pow}: \")\n",
    "if opera==\"add\":\n",
    "    print(\"==============================\")\n",
    "    print(\"Addition of {} and {} is : {}\".format(x,y,x+y))\n",
    "elif opera==\"sub\":\n",
    "    print(\"==============================\")\n",
    "    print(\"Substraction of {} and {} is : {}\".format(x,y,x-y))\n",
    "elif opera==\"mul\":\n",
    "    print(\"==============================\")\n",
    "    print(\"Multiplication of {} and {} is : {}\".format(x,y,x*y))\n",
    "elif opera==\"div\":\n",
    "    print(\"==============================\")\n",
    "    print(\"Division of {} and {} is : {}\".format(x,y,x/y))\n",
    "elif opera==\"pow\":\n",
    "    print(\"==============================\")\n",
    "    print(\"power of {} and {} is : {}\".format(x,y,x**y))"
   ]
  },
  {
   "cell_type": "code",
   "execution_count": 18,
   "metadata": {},
   "outputs": [
    {
     "name": "stdout",
     "output_type": "stream",
     "text": [
      "Please enter the value : 8\n",
      "Please enter the value : 6\n",
      "Enter the keyword {add, sub, mul, div, pow}:pow\n",
      "==============================\n",
      "Power of 8 by 6 is : 262144\n"
     ]
    }
   ],
   "source": []
  },
  {
   "cell_type": "markdown",
   "metadata": {},
   "source": [
    "### Write a Python program that accepts a string and calculate the number of digits and letters.\n",
    "- Input\n",
    "\n",
    "    - Hello321Bye360\n",
    "- Output\n",
    "\n",
    "    - Digit - 6\n",
    "\n",
    "    - Letter - 8"
   ]
  },
  {
   "cell_type": "code",
   "execution_count": 69,
   "metadata": {},
   "outputs": [
    {
     "name": "stdout",
     "output_type": "stream",
     "text": [
      "ENter the text: 3hj432hg53425jk5\n",
      "Digit - 10\n",
      "Letter - 6\n"
     ]
    }
   ],
   "source": [
    "# CODE HERE\n",
    "word = input(\"ENter the text: \")\n",
    "Digit=0\n",
    "Letter=0\n",
    "for y in word:\n",
    "    if y.isalpha():\n",
    "        Letter=Letter+1\n",
    "    elif y.isdigit():\n",
    "        Digit=Digit+1\n",
    "print(\"Digit - {}\".format(Digit))\n",
    "print(\"Letter - {}\".format(Letter))"
   ]
  },
  {
   "cell_type": "code",
   "execution_count": 3,
   "metadata": {
    "scrolled": true
   },
   "outputs": [
    {
     "name": "stdout",
     "output_type": "stream",
     "text": [
      "ENter the text: innomatics1231239746\n",
      "Digit - 10\n",
      "Letter - 10\n"
     ]
    }
   ],
   "source": [
    "\n"
   ]
  },
  {
   "cell_type": "code",
   "execution_count": null,
   "metadata": {},
   "outputs": [],
   "source": []
  },
  {
   "cell_type": "markdown",
   "metadata": {},
   "source": [
    "### With a given tuple (1,2,3,4,5,6,7,8,9,10), write a program to print the first half values in one line and the last half values in one line."
   ]
  },
  {
   "cell_type": "code",
   "execution_count": 89,
   "metadata": {},
   "outputs": [
    {
     "name": "stdout",
     "output_type": "stream",
     "text": [
      "1 2 3 4 5\n",
      "6 7 8 9 10\n"
     ]
    }
   ],
   "source": [
    "# METHOD - 1\n",
    "tpl=(1,2,3,4,5,6,7,8,9,10)\n",
    "print(tpl[0],tpl[1],tpl[2],tpl[3],tpl[4])\n",
    "print(tpl[5],tpl[6],tpl[7],tpl[8],tpl[9])\n",
    "#print(tpl[0:len(tpl)//2])  \n",
    "#print(tpl[len(tpl)//2:])"
   ]
  },
  {
   "cell_type": "code",
   "execution_count": 1,
   "metadata": {},
   "outputs": [
    {
     "name": "stdout",
     "output_type": "stream",
     "text": [
      "1 2 3 4 5 \n",
      "6 7 8 9 10 "
     ]
    }
   ],
   "source": [
    "\n"
   ]
  },
  {
   "cell_type": "code",
   "execution_count": 72,
   "metadata": {},
   "outputs": [
    {
     "name": "stdout",
     "output_type": "stream",
     "text": [
      "(1, 2, 3, 4, 5) (6, 7, 8, 9, 10)\n"
     ]
    }
   ],
   "source": [
    "# METHOD - 2\n",
    "tpl=(1,2,3,4,5,6,7,8,9,10)\n",
    "tpl1=tpl[0:len(tpl)//2]\n",
    "tpl2=tpl[len(tpl)//2:]\n",
    "print(tpl1,tpl2)"
   ]
  },
  {
   "cell_type": "code",
   "execution_count": 2,
   "metadata": {},
   "outputs": [
    {
     "name": "stdout",
     "output_type": "stream",
     "text": [
      "(1, 2, 3, 4, 5) (6, 7, 8, 9, 10)\n"
     ]
    }
   ],
   "source": [
    "\n"
   ]
  },
  {
   "cell_type": "code",
   "execution_count": 71,
   "metadata": {},
   "outputs": [
    {
     "name": "stdout",
     "output_type": "stream",
     "text": [
      "[1, 2, 3, 4, 5] [6, 7, 8, 9, 10]\n"
     ]
    }
   ],
   "source": [
    "# METHOD - 3\n",
    "tpl=(1,2,3,4,5,6,7,8,9,10)\n",
    "tpl1=tpl[0:len(tpl)//2]\n",
    "tpl2=tpl[len(tpl)//2:]\n",
    "print(list(tpl1),list(tpl2))"
   ]
  },
  {
   "cell_type": "markdown",
   "metadata": {},
   "source": [
    "### Write a program to generate and print another tuple whose values are even numbers in the given tuple (1,2,3,4,5,6,7,8,9,10)"
   ]
  },
  {
   "cell_type": "code",
   "execution_count": 91,
   "metadata": {},
   "outputs": [
    {
     "name": "stdout",
     "output_type": "stream",
     "text": [
      "(2, 4, 6, 8, 10)\n"
     ]
    }
   ],
   "source": [
    "#CODE HERE\n",
    "tpl=(1,2,3,4,5,6,7,8,9,10)\n",
    "l1=list(tpl)\n",
    "l2=[]\n",
    "for y in l1:\n",
    "    if y%2!=0:\n",
    "        continue\n",
    "    l2.append(y)\n",
    "print(tuple(l2))"
   ]
  },
  {
   "cell_type": "code",
   "execution_count": 4,
   "metadata": {},
   "outputs": [
    {
     "name": "stdout",
     "output_type": "stream",
     "text": [
      "(2, 4, 6, 8, 10)\n"
     ]
    }
   ],
   "source": []
  },
  {
   "cell_type": "markdown",
   "metadata": {},
   "source": [
    "### Write a program which accepts a string as input to print \"Yes\" if the string is \"yes\" or \"YES\" or \"Yes\", otherwise print \"No\""
   ]
  },
  {
   "cell_type": "code",
   "execution_count": 94,
   "metadata": {},
   "outputs": [
    {
     "name": "stdout",
     "output_type": "stream",
     "text": [
      "Please type something. --> yes\n",
      "Yes\n"
     ]
    }
   ],
   "source": [
    "text = input(\"Please type something. --> \")\n",
    "if text==\"Yes\" or text==\"yes\" or text==\"YES\":\n",
    "    print(\"Yes\")\n",
    "else:\n",
    "    print(\"No\")"
   ]
  },
  {
   "cell_type": "code",
   "execution_count": 6,
   "metadata": {},
   "outputs": [
    {
     "name": "stdout",
     "output_type": "stream",
     "text": [
      "Please type something. --> yes\n",
      "Yes\n"
     ]
    }
   ],
   "source": [
    "text = input(\"Please type something. --> \")\n"
   ]
  },
  {
   "cell_type": "markdown",
   "metadata": {},
   "source": [
    "### Please write a program to generate a list with 5 random numbers between 100 and 200 inclusive."
   ]
  },
  {
   "cell_type": "code",
   "execution_count": 7,
   "metadata": {},
   "outputs": [
    {
     "name": "stdout",
     "output_type": "stream",
     "text": [
      "[139, 188, 145, 194, 143]\n"
     ]
    }
   ],
   "source": [
    "import random\n",
    "z=[]\n",
    "a=1\n",
    "while a<=5:\n",
    "    z.append(random.choice(range(100,201)))\n",
    "    a=a+1\n",
    "print(z) \n"
   ]
  },
  {
   "cell_type": "markdown",
   "metadata": {},
   "source": [
    "### Please generate a random float where the value is between 5 and 95 using Python module."
   ]
  },
  {
   "cell_type": "code",
   "execution_count": 1,
   "metadata": {},
   "outputs": [
    {
     "name": "stdout",
     "output_type": "stream",
     "text": [
      "5.433577679150924\n"
     ]
    }
   ],
   "source": [
    "import random\n",
    "print(random.uniform(5,95))"
   ]
  },
  {
   "cell_type": "code",
   "execution_count": 2,
   "metadata": {},
   "outputs": [
    {
     "name": "stdout",
     "output_type": "stream",
     "text": [
      "50.407397170147895\n"
     ]
    }
   ],
   "source": [
    "import random\n"
   ]
  },
  {
   "cell_type": "markdown",
   "metadata": {},
   "source": [
    "### [1,1,1,1,3,3,4,4,4,5,6,7,8,8,8]\n",
    "#### 1. from the above list print the uniques values\n",
    "#### 2. count how many times each number exist\n",
    "#### 3. Print the number which is occured more number of times"
   ]
  },
  {
   "cell_type": "code",
   "execution_count": 6,
   "metadata": {},
   "outputs": [
    {
     "name": "stdout",
     "output_type": "stream",
     "text": [
      "Unique values are:  [1, 3, 4, 5, 6, 7, 8]\n",
      "Number of times 1 exist is 4\n",
      "Number of times 3 exist is 2\n",
      "Number of times 4 exist is 3\n",
      "Number of times 5 exist is 1\n",
      "Number of times 6 exist is 1\n",
      "Number of times 7 exist is 1\n",
      "Number of times 8 exist is 3\n",
      "Number which occured more number of times is: 1\n"
     ]
    }
   ],
   "source": [
    "l=[1,1,1,1,3,3,4,4,4,5,6,7,8,8,8]\n",
    "max_iter=1\n",
    "iter_num=0\n",
    "s=set(l)\n",
    "l_unique=list(s)\n",
    "print(\"Unique values are: \",l_unique)\n",
    "for y in l_unique:\n",
    "    z=l.count(y)\n",
    "   # print(y,\"-\",z) \n",
    "    print(\"Number of times {} exist is {}\".format(y,z))\n",
    "    if max_iter<z:\n",
    "        max_iter=z\n",
    "        iter_num=y\n",
    "    else:\n",
    "        continue\n",
    "print(\"Number which occured more number of times is:\",iter_num)\n"
   ]
  },
  {
   "cell_type": "code",
   "execution_count": null,
   "metadata": {},
   "outputs": [],
   "source": []
  },
  {
   "cell_type": "code",
   "execution_count": null,
   "metadata": {},
   "outputs": [],
   "source": []
  },
  {
   "cell_type": "markdown",
   "metadata": {},
   "source": [
    "# [Innomatics Research Labs](https:/innomatics.in/)\n",
    "[www.innomatics.in](https:/innomatics.in/)"
   ]
  },
  {
   "cell_type": "code",
   "execution_count": null,
   "metadata": {},
   "outputs": [],
   "source": []
  }
 ],
 "metadata": {
  "kernelspec": {
   "display_name": "Python 3 (ipykernel)",
   "language": "python",
   "name": "python3"
  },
  "language_info": {
   "codemirror_mode": {
    "name": "ipython",
    "version": 3
   },
   "file_extension": ".py",
   "mimetype": "text/x-python",
   "name": "python",
   "nbconvert_exporter": "python",
   "pygments_lexer": "ipython3",
   "version": "3.9.13"
  }
 },
 "nbformat": 4,
 "nbformat_minor": 2
}
